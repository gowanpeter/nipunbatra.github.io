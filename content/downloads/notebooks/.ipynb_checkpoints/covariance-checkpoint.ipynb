{
 "metadata": {
  "name": "",
  "signature": "sha256:7ff9b9ca93ccf6dd340dd56f5bacf9241e042e933a2688e08ff57db9d68b59d1"
 },
 "nbformat": 3,
 "nbformat_minor": 0,
 "worksheets": [
  {
   "cells": [
    {
     "cell_type": "markdown",
     "metadata": {},
     "source": [
      "In this notebook I'll quickly present two intuitive ways of understanding covariance and the covariance matrix. Typically, I have found that these topics have been mostly dealt in a maths first fashion, making them hard to grasp."
     ]
    },
    {
     "cell_type": "markdown",
     "metadata": {},
     "source": [
      "I read the following post and felt that it helped a lot in clarifying my understanding of the concept of covariance. I would highly recommend reading the same before reading my post."
     ]
    },
    {
     "cell_type": "code",
     "collapsed": false,
     "input": [
      "So the covariance matix"
     ],
     "language": "python",
     "metadata": {},
     "outputs": []
    },
    {
     "cell_type": "code",
     "collapsed": false,
     "input": [
      "import matplotlib.pyplot as plt\n",
      "import numpy as np\n",
      "import seaborn as sns\n",
      "%matplotlib inline"
     ],
     "language": "python",
     "metadata": {},
     "outputs": [],
     "prompt_number": 2
    },
    {
     "cell_type": "code",
     "collapsed": false,
     "input": [
      "def plot_covar(sigma_xx=5, sigma_yy=2, sigma_xy=5):\n",
      "    mean = [0, 0]\n",
      "    cov = [[sigma_xx, sigma_xy], [sigma_xy, sigma_yy]]\n",
      "    x, y = np.random.multivariate_normal(mean, cov, 5000).T\n",
      "    ax1 = plt.subplot2grid((3,2), (0, 0), colspan=2, rowspan=2)\n",
      "    ax2 = plt.subplot2grid((3,2), (2, 0))\n",
      "    ax3 = plt.subplot2grid((3,2), (2, 1))\n",
      "    ax1.plot(x,y,'x')\n",
      "    plt.tight_layout()\n",
      "    return plt.gcf()"
     ],
     "language": "python",
     "metadata": {},
     "outputs": [],
     "prompt_number": 10
    },
    {
     "cell_type": "code",
     "collapsed": false,
     "input": [
      "plot_covar()"
     ],
     "language": "python",
     "metadata": {},
     "outputs": [
      {
       "output_type": "stream",
       "stream": "stdout",
       "text": [
        "[-2.79045618  0.68447111 -2.64340681 ...,  3.95700855  2.0357615\n",
        "  2.46095635]\n"
       ]
      },
      {
       "metadata": {},
       "output_type": "display_data",
       "png": "[encoded data removed]",
       "text": [
        "<matplotlib.figure.Figure at 0x5d63910>"
       ]
      }
     ],
     "prompt_number": 11
    },
    {
     "cell_type": "code",
     "collapsed": false,
     "input": [
      "def comparison_plot(mu):\n",
      "    fig, ax = plt.subplots(figsize=(4,3))  \n",
      "    ax.plot(corr,label='noisy',alpha=0.4)\n",
      "    ax.plot(denoise(np.power(10,mu)),'r',linewidth=2, label='denoised')\n",
      "    ax.plot(ex,'g',linewidth=2, label='original')\n",
      "    plt.title(r\"$\\mu=%d$\" % np.power(10,mu))\n",
      "    plt.legend()\n",
      "    return fig\n",
      "\n",
      "from ipywidgets import StaticInteract, RangeWidget\n",
      "StaticInteract(comparison_plot, mu = RangeWidget(0,5,1))    "
     ],
     "language": "python",
     "metadata": {},
     "outputs": []
    }
   ],
   "metadata": {}
  }
 ]
}