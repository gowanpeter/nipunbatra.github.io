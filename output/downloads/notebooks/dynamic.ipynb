{
 "metadata": {
  "name": "",
  "signature": "sha256:e1e667a7c1925c5fbfd2ea59d5e8b9023df2b603e6a66f38a090124c66962619"
 },
 "nbformat": 3,
 "nbformat_minor": 0,
 "worksheets": [
  {
   "cells": [
    {
     "cell_type": "heading",
     "level": 2,
     "metadata": {},
     "source": [
      "Python Web visualization shootout"
     ]
    },
    {
     "cell_type": "markdown",
     "metadata": {},
     "source": [
      "In the recent past, several attempts have been made to bring Python visualizations to the web. In this post, I review some of these along with minimal code for illustration. I shall also discuss a few pros of each library. In order to maintain the look and feel of this post, I shall be embedding these dynamic plots using IFrame."
     ]
    },
    {
     "cell_type": "code",
     "collapsed": false,
     "input": [
      "%matplotlib inline"
     ],
     "language": "python",
     "metadata": {},
     "outputs": [],
     "prompt_number": 1
    },
    {
     "cell_type": "heading",
     "level": 4,
     "metadata": {},
     "source": [
      "Customary imports"
     ]
    },
    {
     "cell_type": "code",
     "collapsed": false,
     "input": [
      "import matplotlib.pyplot as plt\n",
      "import pandas as pd\n",
      "import numpy as np"
     ],
     "language": "python",
     "metadata": {},
     "outputs": [],
     "prompt_number": 2
    },
    {
     "cell_type": "heading",
     "level": 4,
     "metadata": {},
     "source": [
      "Generating some random data"
     ]
    },
    {
     "cell_type": "code",
     "collapsed": false,
     "input": [
      "df = pd.DataFrame(np.random.randn(50,2))"
     ],
     "language": "python",
     "metadata": {},
     "outputs": [],
     "prompt_number": 3
    },
    {
     "cell_type": "code",
     "collapsed": false,
     "input": [
      "df"
     ],
     "language": "python",
     "metadata": {},
     "outputs": [
      {
       "html": [
        "<div style=\"max-height:1000px;max-width:1500px;overflow:auto;\">\n",
        "<table border=\"1\" class=\"dataframe\">\n",
        "  <thead>\n",
        "    <tr style=\"text-align: right;\">\n",
        "      <th></th>\n",
        "      <th>0</th>\n",
        "      <th>1</th>\n",
        "    </tr>\n",
        "  </thead>\n",
        "  <tbody>\n",
        "    <tr>\n",
        "      <th>0 </th>\n",
        "      <td> 1.310864</td>\n",
        "      <td>-0.030426</td>\n",
        "    </tr>\n",
        "    <tr>\n",
        "      <th>1 </th>\n",
        "      <td> 0.636083</td>\n",
        "      <td>-0.263348</td>\n",
        "    </tr>\n",
        "    <tr>\n",
        "      <th>2 </th>\n",
        "      <td> 1.038556</td>\n",
        "      <td>-0.913929</td>\n",
        "    </tr>\n",
        "    <tr>\n",
        "      <th>3 </th>\n",
        "      <td>-0.361076</td>\n",
        "      <td>-1.640000</td>\n",
        "    </tr>\n",
        "    <tr>\n",
        "      <th>4 </th>\n",
        "      <td> 2.443146</td>\n",
        "      <td>-2.263910</td>\n",
        "    </tr>\n",
        "    <tr>\n",
        "      <th>5 </th>\n",
        "      <td> 0.027883</td>\n",
        "      <td>-1.203561</td>\n",
        "    </tr>\n",
        "    <tr>\n",
        "      <th>6 </th>\n",
        "      <td> 0.989624</td>\n",
        "      <td>-0.256702</td>\n",
        "    </tr>\n",
        "    <tr>\n",
        "      <th>7 </th>\n",
        "      <td> 0.274176</td>\n",
        "      <td> 1.195640</td>\n",
        "    </tr>\n",
        "    <tr>\n",
        "      <th>8 </th>\n",
        "      <td>-0.597663</td>\n",
        "      <td> 0.084030</td>\n",
        "    </tr>\n",
        "    <tr>\n",
        "      <th>9 </th>\n",
        "      <td> 0.605463</td>\n",
        "      <td>-0.517128</td>\n",
        "    </tr>\n",
        "    <tr>\n",
        "      <th>10</th>\n",
        "      <td>-0.795364</td>\n",
        "      <td>-1.125591</td>\n",
        "    </tr>\n",
        "    <tr>\n",
        "      <th>11</th>\n",
        "      <td>-0.903052</td>\n",
        "      <td> 0.318689</td>\n",
        "    </tr>\n",
        "    <tr>\n",
        "      <th>12</th>\n",
        "      <td>-0.554130</td>\n",
        "      <td> 1.182012</td>\n",
        "    </tr>\n",
        "    <tr>\n",
        "      <th>13</th>\n",
        "      <td>-0.335467</td>\n",
        "      <td>-2.842718</td>\n",
        "    </tr>\n",
        "    <tr>\n",
        "      <th>14</th>\n",
        "      <td>-0.932647</td>\n",
        "      <td>-1.101395</td>\n",
        "    </tr>\n",
        "    <tr>\n",
        "      <th>15</th>\n",
        "      <td>-0.552051</td>\n",
        "      <td> 0.366935</td>\n",
        "    </tr>\n",
        "    <tr>\n",
        "      <th>16</th>\n",
        "      <td>-0.202876</td>\n",
        "      <td> 0.561765</td>\n",
        "    </tr>\n",
        "    <tr>\n",
        "      <th>17</th>\n",
        "      <td>-0.584210</td>\n",
        "      <td> 0.164150</td>\n",
        "    </tr>\n",
        "    <tr>\n",
        "      <th>18</th>\n",
        "      <td>-0.323751</td>\n",
        "      <td> 0.659796</td>\n",
        "    </tr>\n",
        "    <tr>\n",
        "      <th>19</th>\n",
        "      <td> 0.260707</td>\n",
        "      <td> 0.790935</td>\n",
        "    </tr>\n",
        "    <tr>\n",
        "      <th>20</th>\n",
        "      <td> 0.234436</td>\n",
        "      <td>-0.452324</td>\n",
        "    </tr>\n",
        "    <tr>\n",
        "      <th>21</th>\n",
        "      <td> 2.393034</td>\n",
        "      <td>-1.935976</td>\n",
        "    </tr>\n",
        "    <tr>\n",
        "      <th>22</th>\n",
        "      <td> 1.401688</td>\n",
        "      <td>-0.789704</td>\n",
        "    </tr>\n",
        "    <tr>\n",
        "      <th>23</th>\n",
        "      <td> 0.218640</td>\n",
        "      <td> 0.390500</td>\n",
        "    </tr>\n",
        "    <tr>\n",
        "      <th>24</th>\n",
        "      <td>-0.903077</td>\n",
        "      <td> 1.202025</td>\n",
        "    </tr>\n",
        "    <tr>\n",
        "      <th>25</th>\n",
        "      <td> 0.833071</td>\n",
        "      <td> 1.020259</td>\n",
        "    </tr>\n",
        "    <tr>\n",
        "      <th>26</th>\n",
        "      <td> 0.238737</td>\n",
        "      <td> 1.011709</td>\n",
        "    </tr>\n",
        "    <tr>\n",
        "      <th>27</th>\n",
        "      <td>-1.027458</td>\n",
        "      <td> 0.233592</td>\n",
        "    </tr>\n",
        "    <tr>\n",
        "      <th>28</th>\n",
        "      <td>-0.306181</td>\n",
        "      <td> 0.913564</td>\n",
        "    </tr>\n",
        "    <tr>\n",
        "      <th>29</th>\n",
        "      <td> 0.664610</td>\n",
        "      <td>-1.022174</td>\n",
        "    </tr>\n",
        "    <tr>\n",
        "      <th>30</th>\n",
        "      <td>-0.375676</td>\n",
        "      <td> 0.013548</td>\n",
        "    </tr>\n",
        "    <tr>\n",
        "      <th>31</th>\n",
        "      <td> 0.546718</td>\n",
        "      <td> 0.330258</td>\n",
        "    </tr>\n",
        "    <tr>\n",
        "      <th>32</th>\n",
        "      <td> 0.772991</td>\n",
        "      <td>-1.298300</td>\n",
        "    </tr>\n",
        "    <tr>\n",
        "      <th>33</th>\n",
        "      <td>-1.344608</td>\n",
        "      <td> 1.597303</td>\n",
        "    </tr>\n",
        "    <tr>\n",
        "      <th>34</th>\n",
        "      <td> 0.355299</td>\n",
        "      <td>-0.730640</td>\n",
        "    </tr>\n",
        "    <tr>\n",
        "      <th>35</th>\n",
        "      <td> 1.515288</td>\n",
        "      <td>-1.121384</td>\n",
        "    </tr>\n",
        "    <tr>\n",
        "      <th>36</th>\n",
        "      <td> 0.324830</td>\n",
        "      <td>-0.446488</td>\n",
        "    </tr>\n",
        "    <tr>\n",
        "      <th>37</th>\n",
        "      <td>-1.426910</td>\n",
        "      <td> 0.791632</td>\n",
        "    </tr>\n",
        "    <tr>\n",
        "      <th>38</th>\n",
        "      <td> 0.043909</td>\n",
        "      <td> 1.104220</td>\n",
        "    </tr>\n",
        "    <tr>\n",
        "      <th>39</th>\n",
        "      <td>-0.292629</td>\n",
        "      <td> 1.205528</td>\n",
        "    </tr>\n",
        "    <tr>\n",
        "      <th>40</th>\n",
        "      <td>-0.559906</td>\n",
        "      <td>-0.955461</td>\n",
        "    </tr>\n",
        "    <tr>\n",
        "      <th>41</th>\n",
        "      <td>-0.676516</td>\n",
        "      <td>-0.225584</td>\n",
        "    </tr>\n",
        "    <tr>\n",
        "      <th>42</th>\n",
        "      <td> 0.577592</td>\n",
        "      <td>-0.372024</td>\n",
        "    </tr>\n",
        "    <tr>\n",
        "      <th>43</th>\n",
        "      <td>-0.946716</td>\n",
        "      <td> 0.818077</td>\n",
        "    </tr>\n",
        "    <tr>\n",
        "      <th>44</th>\n",
        "      <td>-0.723494</td>\n",
        "      <td>-0.548043</td>\n",
        "    </tr>\n",
        "    <tr>\n",
        "      <th>45</th>\n",
        "      <td> 0.041432</td>\n",
        "      <td> 0.063412</td>\n",
        "    </tr>\n",
        "    <tr>\n",
        "      <th>46</th>\n",
        "      <td> 1.028494</td>\n",
        "      <td>-0.714329</td>\n",
        "    </tr>\n",
        "    <tr>\n",
        "      <th>47</th>\n",
        "      <td> 0.517403</td>\n",
        "      <td>-2.018920</td>\n",
        "    </tr>\n",
        "    <tr>\n",
        "      <th>48</th>\n",
        "      <td> 0.598428</td>\n",
        "      <td>-1.059562</td>\n",
        "    </tr>\n",
        "    <tr>\n",
        "      <th>49</th>\n",
        "      <td>-0.645046</td>\n",
        "      <td>-0.732764</td>\n",
        "    </tr>\n",
        "  </tbody>\n",
        "</table>\n",
        "<p>50 rows \u00d7 2 columns</p>\n",
        "</div>"
       ],
       "metadata": {},
       "output_type": "pyout",
       "prompt_number": 4,
       "text": [
        "           0         1\n",
        "0   1.310864 -0.030426\n",
        "1   0.636083 -0.263348\n",
        "2   1.038556 -0.913929\n",
        "3  -0.361076 -1.640000\n",
        "4   2.443146 -2.263910\n",
        "5   0.027883 -1.203561\n",
        "6   0.989624 -0.256702\n",
        "7   0.274176  1.195640\n",
        "8  -0.597663  0.084030\n",
        "9   0.605463 -0.517128\n",
        "10 -0.795364 -1.125591\n",
        "11 -0.903052  0.318689\n",
        "12 -0.554130  1.182012\n",
        "13 -0.335467 -2.842718\n",
        "14 -0.932647 -1.101395\n",
        "15 -0.552051  0.366935\n",
        "16 -0.202876  0.561765\n",
        "17 -0.584210  0.164150\n",
        "18 -0.323751  0.659796\n",
        "19  0.260707  0.790935\n",
        "20  0.234436 -0.452324\n",
        "21  2.393034 -1.935976\n",
        "22  1.401688 -0.789704\n",
        "23  0.218640  0.390500\n",
        "24 -0.903077  1.202025\n",
        "25  0.833071  1.020259\n",
        "26  0.238737  1.011709\n",
        "27 -1.027458  0.233592\n",
        "28 -0.306181  0.913564\n",
        "29  0.664610 -1.022174\n",
        "30 -0.375676  0.013548\n",
        "31  0.546718  0.330258\n",
        "32  0.772991 -1.298300\n",
        "33 -1.344608  1.597303\n",
        "34  0.355299 -0.730640\n",
        "35  1.515288 -1.121384\n",
        "36  0.324830 -0.446488\n",
        "37 -1.426910  0.791632\n",
        "38  0.043909  1.104220\n",
        "39 -0.292629  1.205528\n",
        "40 -0.559906 -0.955461\n",
        "41 -0.676516 -0.225584\n",
        "42  0.577592 -0.372024\n",
        "43 -0.946716  0.818077\n",
        "44 -0.723494 -0.548043\n",
        "45  0.041432  0.063412\n",
        "46  1.028494 -0.714329\n",
        "47  0.517403 -2.018920\n",
        "48  0.598428 -1.059562\n",
        "49 -0.645046 -0.732764\n",
        "\n",
        "[50 rows x 2 columns]"
       ]
      }
     ],
     "prompt_number": 4
    },
    {
     "cell_type": "markdown",
     "metadata": {},
     "source": [
      "This dataframe has 2 columns and 50 rows."
     ]
    },
    {
     "cell_type": "markdown",
     "metadata": {},
     "source": [
      "Let us do the plain old Matplotlib plotting"
     ]
    },
    {
     "cell_type": "code",
     "collapsed": false,
     "input": [
      "df.plot();"
     ],
     "language": "python",
     "metadata": {},
     "outputs": [
      {
       "metadata": {},
       "output_type": "display_data",
       "png": "[encoded data removed]",
       "text": [
        "<matplotlib.figure.Figure at 0x3ec6c10>"
       ]
      }
     ],
     "prompt_number": 5
    },
    {
     "cell_type": "markdown",
     "metadata": {},
     "source": [
      "Doesn't look that pretty! Let us import seaborn for prettier plots"
     ]
    },
    {
     "cell_type": "code",
     "collapsed": false,
     "input": [
      "import seaborn as sns"
     ],
     "language": "python",
     "metadata": {},
     "outputs": [],
     "prompt_number": 6
    },
    {
     "cell_type": "code",
     "collapsed": false,
     "input": [
      "df.plot();"
     ],
     "language": "python",
     "metadata": {},
     "outputs": [
      {
       "metadata": {},
       "output_type": "display_data",
       "png": "[encoded data removed]",
       "text": [
        "<matplotlib.figure.Figure at 0x3f4e610>"
       ]
      }
     ],
     "prompt_number": 7
    },
    {
     "cell_type": "heading",
     "level": 3,
     "metadata": {},
     "source": [
      "mpld3"
     ]
    },
    {
     "cell_type": "markdown",
     "metadata": {},
     "source": [
      "* Scrapes the matplotlib plot for relevant plotting options and data. Thus, one need not learn new syntax\n",
      "* Can be embedded easily in a webpage\n",
      "* Good integration with IPython notebook\n",
      "* Active community\n",
      "* Easy to extend via plugins"
     ]
    },
    {
     "cell_type": "code",
     "collapsed": false,
     "input": [
      "from mpld3 import enable_notebook, disable_notebook, fig_to_html"
     ],
     "language": "python",
     "metadata": {},
     "outputs": [],
     "prompt_number": 8
    },
    {
     "cell_type": "code",
     "collapsed": false,
     "input": [
      "%%capture\n",
      "ax = df.plot();\n",
      "mpld3_html = fig_to_html(plt.gcf())\n",
      "with open('/home/nipun/Dropbox/Public/blog/dynamic/mpld3_html.html','w') as f:\n",
      "    f.write(mpld3_html)"
     ],
     "language": "python",
     "metadata": {},
     "outputs": [],
     "prompt_number": 9
    },
    {
     "cell_type": "code",
     "collapsed": false,
     "input": [
      "from IPython.display import IFrame"
     ],
     "language": "python",
     "metadata": {},
     "outputs": [],
     "prompt_number": 10
    },
    {
     "cell_type": "code",
     "collapsed": false,
     "input": [
      "IFrame('https://dl.dropboxusercontent.com/u/75845627/blog/dynamic/mpld3_html.html',660,480)"
     ],
     "language": "python",
     "metadata": {},
     "outputs": [
      {
       "html": [
        "\n",
        "        <iframe\n",
        "            width=\"660\"\n",
        "            height=480\"\n",
        "            src=\"https://dl.dropboxusercontent.com/u/75845627/blog/dynamic/mpld3_html.html\"\n",
        "            frameborder=\"0\"\n",
        "            allowfullscreen\n",
        "        ></iframe>\n",
        "        "
       ],
       "metadata": {},
       "output_type": "pyout",
       "prompt_number": 11,
       "text": [
        "<IPython.lib.display.IFrame at 0x3f1b190>"
       ]
      }
     ],
     "prompt_number": 11
    },
    {
     "cell_type": "markdown",
     "metadata": {},
     "source": [
      "At the lower left corner you can use dynamic controls- pan, box-zoom, scroll-zoom and home"
     ]
    },
    {
     "cell_type": "heading",
     "level": 3,
     "metadata": {},
     "source": [
      "Bearcart"
     ]
    },
    {
     "cell_type": "markdown",
     "metadata": {},
     "source": [
      "* Very minimal\n",
      "* Built for Pandas dataframes\n",
      "* Unlike mpld3, plot directly from data, i.e., no need for matplotlib\n",
      "* Can toggle on-off series with ease"
     ]
    },
    {
     "cell_type": "code",
     "collapsed": false,
     "input": [
      "import bearcart"
     ],
     "language": "python",
     "metadata": {},
     "outputs": [],
     "prompt_number": 26
    },
    {
     "cell_type": "code",
     "collapsed": false,
     "input": [
      "ch = bearcart.Chart(data=df, x_time=False)\n",
      "html_path = '/home/nipun/Dropbox/Public/blog/dynamic/bearcart.html'\n",
      "data_path = r'/home/nipun/Dropbox/Public/blog/dynamic/data.json'\n",
      "js_path = r'/home/nipun/Dropbox/Public/blog/dynamic/rickshaw.min.js'\n",
      "css_path = r'/home/nipun/Dropbox/Public/blog/dynamic/rickshaw.min.css'\n",
      "ch.create_chart(html_path=html_path, data_path=data_path)\n"
     ],
     "language": "python",
     "metadata": {},
     "outputs": [],
     "prompt_number": 28
    },
    {
     "cell_type": "code",
     "collapsed": false,
     "input": [
      "IFrame('http://dl.dropboxusercontent.com/u/75845627/blog/dynamic/bearcart.html',1200,485)"
     ],
     "language": "python",
     "metadata": {},
     "outputs": [
      {
       "html": [
        "\n",
        "        <iframe\n",
        "            width=\"1200\"\n",
        "            height=485\"\n",
        "            src=\"http://dl.dropboxusercontent.com/u/75845627/blog/dynamic/bearcart.html\"\n",
        "            frameborder=\"0\"\n",
        "            allowfullscreen\n",
        "        ></iframe>\n",
        "        "
       ],
       "metadata": {},
       "output_type": "pyout",
       "prompt_number": 31,
       "text": [
        "<IPython.lib.display.IFrame at 0x5814cd0>"
       ]
      }
     ],
     "prompt_number": 31
    },
    {
     "cell_type": "markdown",
     "metadata": {},
     "source": [
      "You may use the scroll at the bottom to select different subsets. You may also toggle series on-off from the legend.\n",
      "NB: I had to do a bit of manipulation to get this to work. Possibly Bearcart like mpld3 should allow CDN."
     ]
    },
    {
     "cell_type": "heading",
     "level": 3,
     "metadata": {},
     "source": [
      "Bokeh"
     ]
    },
    {
     "cell_type": "markdown",
     "metadata": {},
     "source": [
      "* Ships with powerful server- capable of doing things like smart sampling for showing large quantity of data\n",
      "* Plans to handle Dataframes in near future\n",
      "* Developing into a very mature Grammar of Graphics inspired library\n",
      "* Integrates well with Matplotlib, Seaborn\n",
      "* Rapid improvements in each version"
     ]
    },
    {
     "cell_type": "code",
     "collapsed": false,
     "input": [
      "from bokeh.plotting import *\n",
      "\n",
      "output_file('/home/nipun/Dropbox/Public/blog/dynamic/bokeh_html.html')\n",
      "line(df.index.values, df[0].values, color=\"red\", legend=\"0\")\n",
      "hold()\n",
      "line(df.index.values, df[1].values, color=\"blue\", legend=\"1\")\n",
      "show()"
     ],
     "language": "python",
     "metadata": {},
     "outputs": [
      {
       "output_type": "stream",
       "stream": "stdout",
       "text": [
        "Session output file '/home/nipun/Dropbox/Public/blog/dynamic/bokeh_html.html' already exists, will be overwritten.\n"
       ]
      }
     ],
     "prompt_number": 15
    },
    {
     "cell_type": "code",
     "collapsed": false,
     "input": [
      "IFrame('https://dl.dropboxusercontent.com/u/75845627/blog/dynamic/bokeh_html.html',800,750)"
     ],
     "language": "python",
     "metadata": {},
     "outputs": [
      {
       "html": [
        "\n",
        "        <iframe\n",
        "            width=\"800\"\n",
        "            height=750\"\n",
        "            src=\"https://dl.dropboxusercontent.com/u/75845627/blog/dynamic/bokeh_html.html\"\n",
        "            frameborder=\"0\"\n",
        "            allowfullscreen\n",
        "        ></iframe>\n",
        "        "
       ],
       "metadata": {},
       "output_type": "pyout",
       "prompt_number": 16,
       "text": [
        "<IPython.lib.display.IFrame at 0x3f43a50>"
       ]
      }
     ],
     "prompt_number": 16
    },
    {
     "cell_type": "heading",
     "level": 3,
     "metadata": {},
     "source": [
      "Plotly"
     ]
    },
    {
     "cell_type": "markdown",
     "metadata": {},
     "source": [
      "* Allows data and plots to be shared\n",
      "* Really good UI\n",
      "* UI allows annotation, basic stats like curve fitting etc.\n",
      "* No botheration about hosting"
     ]
    },
    {
     "cell_type": "code",
     "collapsed": false,
     "input": [
      "import plotly\n",
      "p = plotly.plotly('IPython.Demo', '1fw3zw2o13')\n",
      "p.verbose = False"
     ],
     "language": "python",
     "metadata": {},
     "outputs": [],
     "prompt_number": 17
    },
    {
     "cell_type": "code",
     "collapsed": false,
     "input": [
      "def df_to_iplot(df):    \n",
      "    '''\n",
      "    Coverting a Pandas Data Frame to Plotly interface\n",
      "    '''\n",
      "    x = df.index.values\n",
      "    lines={}\n",
      "    for key in df:\n",
      "        lines[key]={}\n",
      "        lines[key][\"x\"]=x\n",
      "        lines[key][\"y\"]=df[key].values\n",
      "        lines[key][\"name\"]=key\n",
      "\n",
      "        #Appending all lines\n",
      "    lines_plotly=[lines[key] for key in df]\n",
      "    return lines_plotly"
     ],
     "language": "python",
     "metadata": {},
     "outputs": [],
     "prompt_number": 18
    },
    {
     "cell_type": "code",
     "collapsed": false,
     "input": [
      "p.iplot(df_to_iplot(df))"
     ],
     "language": "python",
     "metadata": {},
     "outputs": [
      {
       "html": [
        "<iframe height=\"550\" id=\"igraph\" scrolling=\"no\" seamless=\"seamless\" src=\"https://plot.ly/~IPython.Demo/2930\" width=\"100%\"></iframe>"
       ],
       "metadata": {},
       "output_type": "pyout",
       "prompt_number": 19,
       "text": [
        "<IPython.core.display.HTML at 0x320e190>"
       ]
      }
     ],
     "prompt_number": 19
    },
    {
     "cell_type": "markdown",
     "metadata": {},
     "source": [
      "Each library has its own use cases and make the Python web visualization ecosystem stronger!"
     ]
    },
    {
     "cell_type": "markdown",
     "metadata": {},
     "source": [
      "Feel free to comment or edit this post. It is also available on nbviewer [here](http://nbviewer.ipython.org/github/nipunbatra/nipunbatra.github.io/tree/master/content/downloads/notebooks/dynamic.ipynb)."
     ]
    }
   ],
   "metadata": {}
  }
 ]
}