{
 "metadata": {
  "name": "",
  "signature": "sha256:7fe1688a9785e4b218617b0096be2564676716b27067c271e6203722211ebb3a"
 },
 "nbformat": 3,
 "nbformat_minor": 0,
 "worksheets": []
}