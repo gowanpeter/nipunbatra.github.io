{
 "metadata": {
  "name": "",
  "signature": "sha256:446fe732d7942123ff52a73e8656d81cb2cf3c9e9dd91d25fa2041b7fae8f27a"
 },
 "nbformat": 3,
 "nbformat_minor": 0,
 "worksheets": [
  {
   "cells": [
    {
     "cell_type": "code",
     "collapsed": false,
     "input": [
      "from yahmm import *"
     ],
     "language": "python",
     "metadata": {},
     "outputs": [],
     "prompt_number": 1
    },
    {
     "cell_type": "code",
     "collapsed": false,
     "input": [
      "model = Model( name=\"Rainy-Sunny\" )"
     ],
     "language": "python",
     "metadata": {},
     "outputs": [],
     "prompt_number": 2
    },
    {
     "cell_type": "code",
     "collapsed": false,
     "input": [
      "rainy = State( DiscreteDistribution({ 'walk': 0.1, 'shop': 0.4, 'clean': 0.5 }), name='Rainy' )"
     ],
     "language": "python",
     "metadata": {},
     "outputs": [],
     "prompt_number": 3
    },
    {
     "cell_type": "code",
     "collapsed": false,
     "input": [
      "sunny = State( DiscreteDistribution({ 'walk': 0.6, 'shop': 0.3, 'clean': 0.1 }), name='Sunny' )\n"
     ],
     "language": "python",
     "metadata": {},
     "outputs": [],
     "prompt_number": 4
    },
    {
     "cell_type": "code",
     "collapsed": false,
     "input": [
      "model.add_state( rainy )\n",
      ">>> model.add_state( sunny )"
     ],
     "language": "python",
     "metadata": {},
     "outputs": [],
     "prompt_number": 5
    },
    {
     "cell_type": "code",
     "collapsed": false,
     "input": [
      ">>> # Now add the two transitions from the start of the model to the hidden states\n",
      ">>> model.add_transition( model.start, rainy, 0.6 )\n",
      ">>> model.add_transition( model.start, sunny, 0.4 )"
     ],
     "language": "python",
     "metadata": {},
     "outputs": [],
     "prompt_number": 6
    },
    {
     "cell_type": "code",
     "collapsed": false,
     "input": [
      ">>> # Add the transitions from the hidden states to each other\n",
      ">>> model.add_transition( rainy, rainy, 0.7 )\n",
      ">>> model.add_transition( rainy, sunny, 0.3 )\n",
      ">>> model.add_transition( sunny, rainy, 0.4 )\n",
      ">>> model.add_transition( sunny, sunny, 0.6 )"
     ],
     "language": "python",
     "metadata": {},
     "outputs": [],
     "prompt_number": 7
    },
    {
     "cell_type": "code",
     "collapsed": false,
     "input": [
      ">>> model.bake( verbose=True )\n"
     ],
     "language": "python",
     "metadata": {},
     "outputs": [],
     "prompt_number": 8
    },
    {
     "cell_type": "code",
     "collapsed": false,
     "input": [
      "model.draw()"
     ],
     "language": "python",
     "metadata": {},
     "outputs": [],
     "prompt_number": 9
    },
    {
     "cell_type": "code",
     "collapsed": false,
     "input": [
      "model.sample(length=20)"
     ],
     "language": "python",
     "metadata": {},
     "outputs": [
      {
       "metadata": {},
       "output_type": "pyout",
       "prompt_number": 15,
       "text": [
        "['shop',\n",
        " 'shop',\n",
        " 'shop',\n",
        " 'clean',\n",
        " 'shop',\n",
        " 'clean',\n",
        " 'shop',\n",
        " 'clean',\n",
        " 'walk',\n",
        " 'clean',\n",
        " 'shop',\n",
        " 'shop',\n",
        " 'clean',\n",
        " 'shop',\n",
        " 'clean',\n",
        " 'shop',\n",
        " 'clean',\n",
        " 'clean',\n",
        " 'shop',\n",
        " 'shop']"
       ]
      }
     ],
     "prompt_number": 15
    },
    {
     "cell_type": "markdown",
     "metadata": {},
     "source": [
      "Now,let us try and learn a new model on these set of observations."
     ]
    },
    {
     "cell_type": "code",
     "collapsed": false,
     "input": [
      "model_learnt = Model( name=\"Rainy-Sunny-learn\" )"
     ],
     "language": "python",
     "metadata": {},
     "outputs": [],
     "prompt_number": 41
    },
    {
     "cell_type": "code",
     "collapsed": false,
     "input": [
      "state1 = State( DiscreteDistribution({observation:(random.randint(1,10)*1.0)/10 for observation in ['walk', 'shop','clean']}), name='s1' )"
     ],
     "language": "python",
     "metadata": {},
     "outputs": [],
     "prompt_number": 42
    },
    {
     "cell_type": "code",
     "collapsed": false,
     "input": [
      "state1.distribution"
     ],
     "language": "python",
     "metadata": {},
     "outputs": [
      {
       "metadata": {},
       "output_type": "pyout",
       "prompt_number": 43,
       "text": [
        "DiscreteDistribution({'shop': 0.7, 'clean': 0.1, 'walk': 1.0})"
       ]
      }
     ],
     "prompt_number": 43
    },
    {
     "cell_type": "code",
     "collapsed": false,
     "input": [
      "state2 = State( DiscreteDistribution({observation:(random.randint(1,10)*1.0)/10 for observation in ['walk', 'shop','clean']}), name='s2' )"
     ],
     "language": "python",
     "metadata": {},
     "outputs": [],
     "prompt_number": 44
    },
    {
     "cell_type": "code",
     "collapsed": false,
     "input": [
      "state2.distribution"
     ],
     "language": "python",
     "metadata": {},
     "outputs": [
      {
       "metadata": {},
       "output_type": "pyout",
       "prompt_number": 45,
       "text": [
        "DiscreteDistribution({'shop': 0.7, 'clean': 0.5, 'walk': 0.6})"
       ]
      }
     ],
     "prompt_number": 45
    },
    {
     "cell_type": "code",
     "collapsed": false,
     "input": [
      "model_learnt.add_state(state1)\n",
      "model_learnt.add_state(state2)"
     ],
     "language": "python",
     "metadata": {},
     "outputs": [],
     "prompt_number": 46
    },
    {
     "cell_type": "code",
     "collapsed": false,
     "input": [],
     "language": "python",
     "metadata": {},
     "outputs": [],
     "prompt_number": 46
    },
    {
     "cell_type": "code",
     "collapsed": false,
     "input": [
      "model_learnt.draw()"
     ],
     "language": "python",
     "metadata": {},
     "outputs": [],
     "prompt_number": 47
    },
    {
     "cell_type": "code",
     "collapsed": false,
     "input": [
      "\n",
      "model_learnt.add_transition( model.start, state1, 0.6)\n",
      "model_learnt.add_transition( model.start, state2, 0.4)"
     ],
     "language": "python",
     "metadata": {},
     "outputs": [],
     "prompt_number": 48
    },
    {
     "cell_type": "code",
     "collapsed": false,
     "input": [
      ">>> # Add the transitions from the hidden states to each other\n",
      "model_learnt.add_transition( state1, state1, 0.8 )\n",
      "model_learnt.add_transition( state1, state2, 0.2 )\n",
      "model_learnt.add_transition( state2, state1, 0.2 )\n",
      "model_learnt.add_transition( state2, state2, 0.8 )"
     ],
     "language": "python",
     "metadata": {},
     "outputs": [],
     "prompt_number": 49
    },
    {
     "cell_type": "code",
     "collapsed": false,
     "input": [
      "model_learnt.bake()"
     ],
     "language": "python",
     "metadata": {},
     "outputs": [],
     "prompt_number": 50
    },
    {
     "cell_type": "code",
     "collapsed": false,
     "input": [
      "model_learnt.draw()"
     ],
     "language": "python",
     "metadata": {},
     "outputs": [],
     "prompt_number": 51
    },
    {
     "cell_type": "code",
     "collapsed": false,
     "input": [
      "model_learnt.train([model.sample(length=10)])"
     ],
     "language": "python",
     "metadata": {},
     "outputs": [
      {
       "output_type": "stream",
       "stream": "stdout",
       "text": [
        "Warning: skipped impossible sequence ['shop' 'clean' 'shop' 'walk' 'walk' 'walk' 'shop' 'walk' 'shop' 'shop']\n",
        "Training improvement: nan\n",
        "Total Training Improvement:  nan\n"
       ]
      },
      {
       "metadata": {},
       "output_type": "pyout",
       "prompt_number": 53,
       "text": [
        "nan"
       ]
      }
     ],
     "prompt_number": 53
    },
    {
     "cell_type": "code",
     "collapsed": false,
     "input": [
      "aa=model_learnt.states[0]"
     ],
     "language": "python",
     "metadata": {},
     "outputs": [],
     "prompt_number": 57
    },
    {
     "cell_type": "code",
     "collapsed": false,
     "input": [
      "aa.name"
     ],
     "language": "python",
     "metadata": {},
     "outputs": [
      {
       "metadata": {},
       "output_type": "pyout",
       "prompt_number": 58,
       "text": [
        "'s1'"
       ]
      }
     ],
     "prompt_number": 58
    },
    {
     "cell_type": "code",
     "collapsed": false,
     "input": [],
     "language": "python",
     "metadata": {},
     "outputs": []
    }
   ],
   "metadata": {}
  }
 ]
}