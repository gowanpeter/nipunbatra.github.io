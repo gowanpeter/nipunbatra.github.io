{
 "cells": [
  {
   "cell_type": "markdown",
   "metadata": {},
   "source": [
    "I typically use Python for my data analysis. However, there are many packages which exist only in R. RPy2 allows interaction between R and Python. The installation on OSX wasn't straighforward. The first part of this post explains how I was able to install RPy2 on OSX. In the next part, I give some sample usage."
   ]
  },
  {
   "cell_type": "markdown",
   "metadata": {},
   "source": [
    "### Installing RPY2"
   ]
  },
  {
   "cell_type": "markdown",
   "metadata": {},
   "source": [
    "I assume that R was installed to the default location. First, we need to edit \n",
    "```\n",
    "/opt/local/Library/Frameworks/R.framework/Resources/etc/Makeconf\n",
    "```\n",
    "\n",
    "and change the following line \n",
    "\n",
    "```\n",
    "LIBS =  -lpcre -lbz2 -lz -lm -liconv -licuuc -licui18n\n",
    "``` \n",
    "\n",
    "TO\n",
    "\n",
    "```\n",
    "LIBS = -lpcre -lbz2 -lz -lm -liconv\n",
    "```\n",
    "\n",
    "Next, I used Conda to install rpy2 following instructions on [this Stack Overflow question](http://stackoverflow.com/questions/24987932/installing-rpy2-on-mac-osx-with-anaconda-python-3-4-and-r-3-1-installed-via-macp).\n",
    "\n",
    "```bash\n",
    "conda skeleton pypi rpy2\n",
    "conda build rpy2\n",
    "conda install rpy2 --use-local\n",
    "```"
   ]
  },
  {
   "cell_type": "markdown",
   "metadata": {},
   "source": [
    "### Sample usage"
   ]
  },
  {
   "cell_type": "code",
   "execution_count": 1,
   "metadata": {
    "collapsed": false
   },
   "outputs": [
    {
     "name": "stderr",
     "output_type": "stream",
     "text": [
      "Vendor:  Continuum Analytics, Inc.\n",
      "Package: mkl\n",
      "Message: trial mode expires in 6 days\n",
      "\n",
      "    After the trial mode has expired, if you want to use mkl thereafter,\n",
      "    please purchase a license at http://continuum.io\n",
      "    \n"
     ]
    }
   ],
   "source": [
    "import pandas as pd\n",
    "import numpy as np\n",
    "import matplotlib.pyplot as plt\n",
    "df = pd.DataFrame(np.random.randn(10,5))"
   ]
  },
  {
   "cell_type": "code",
   "execution_count": 2,
   "metadata": {
    "collapsed": false
   },
   "outputs": [
    {
     "data": {
      "text/html": [
       "<div>\n",
       "<table border=\"1\" class=\"dataframe\">\n",
       "  <thead>\n",
       "    <tr style=\"text-align: right;\">\n",
       "      <th></th>\n",
       "      <th>0</th>\n",
       "      <th>1</th>\n",
       "      <th>2</th>\n",
       "      <th>3</th>\n",
       "      <th>4</th>\n",
       "    </tr>\n",
       "  </thead>\n",
       "  <tbody>\n",
       "    <tr>\n",
       "      <th>0</th>\n",
       "      <td>1.756697</td>\n",
       "      <td>-1.257468</td>\n",
       "      <td>-1.097940</td>\n",
       "      <td>0.639397</td>\n",
       "      <td>0.242888</td>\n",
       "    </tr>\n",
       "    <tr>\n",
       "      <th>1</th>\n",
       "      <td>-0.406086</td>\n",
       "      <td>-1.126688</td>\n",
       "      <td>1.759610</td>\n",
       "      <td>0.725511</td>\n",
       "      <td>-0.513463</td>\n",
       "    </tr>\n",
       "    <tr>\n",
       "      <th>2</th>\n",
       "      <td>0.755055</td>\n",
       "      <td>0.100705</td>\n",
       "      <td>-0.649352</td>\n",
       "      <td>0.690647</td>\n",
       "      <td>-0.590162</td>\n",
       "    </tr>\n",
       "    <tr>\n",
       "      <th>3</th>\n",
       "      <td>-1.210496</td>\n",
       "      <td>-0.290746</td>\n",
       "      <td>0.247737</td>\n",
       "      <td>0.118446</td>\n",
       "      <td>0.256760</td>\n",
       "    </tr>\n",
       "    <tr>\n",
       "      <th>4</th>\n",
       "      <td>1.621591</td>\n",
       "      <td>0.577444</td>\n",
       "      <td>-0.057044</td>\n",
       "      <td>-0.487633</td>\n",
       "      <td>0.047125</td>\n",
       "    </tr>\n",
       "  </tbody>\n",
       "</table>\n",
       "</div>"
      ],
      "text/plain": [
       "          0         1         2         3         4\n",
       "0  1.756697 -1.257468 -1.097940  0.639397  0.242888\n",
       "1 -0.406086 -1.126688  1.759610  0.725511 -0.513463\n",
       "2  0.755055  0.100705 -0.649352  0.690647 -0.590162\n",
       "3 -1.210496 -0.290746  0.247737  0.118446  0.256760\n",
       "4  1.621591  0.577444 -0.057044 -0.487633  0.047125"
      ]
     },
     "execution_count": 2,
     "metadata": {},
     "output_type": "execute_result"
    }
   ],
   "source": [
    "df.head()"
   ]
  },
  {
   "cell_type": "code",
   "execution_count": 3,
   "metadata": {
    "collapsed": false
   },
   "outputs": [
    {
     "data": {
      "text/html": [
       "<div>\n",
       "<table border=\"1\" class=\"dataframe\">\n",
       "  <thead>\n",
       "    <tr style=\"text-align: right;\">\n",
       "      <th></th>\n",
       "      <th>0</th>\n",
       "      <th>1</th>\n",
       "      <th>2</th>\n",
       "      <th>3</th>\n",
       "      <th>4</th>\n",
       "    </tr>\n",
       "  </thead>\n",
       "  <tbody>\n",
       "    <tr>\n",
       "      <th>count</th>\n",
       "      <td>10.000000</td>\n",
       "      <td>10.000000</td>\n",
       "      <td>10.000000</td>\n",
       "      <td>10.000000</td>\n",
       "      <td>10.000000</td>\n",
       "    </tr>\n",
       "    <tr>\n",
       "      <th>mean</th>\n",
       "      <td>-0.321093</td>\n",
       "      <td>-0.205957</td>\n",
       "      <td>-0.242497</td>\n",
       "      <td>-0.097320</td>\n",
       "      <td>0.056971</td>\n",
       "    </tr>\n",
       "    <tr>\n",
       "      <th>std</th>\n",
       "      <td>1.283575</td>\n",
       "      <td>0.957736</td>\n",
       "      <td>0.951626</td>\n",
       "      <td>1.080024</td>\n",
       "      <td>0.793518</td>\n",
       "    </tr>\n",
       "    <tr>\n",
       "      <th>min</th>\n",
       "      <td>-1.714040</td>\n",
       "      <td>-1.330483</td>\n",
       "      <td>-1.318206</td>\n",
       "      <td>-1.681915</td>\n",
       "      <td>-1.009375</td>\n",
       "    </tr>\n",
       "    <tr>\n",
       "      <th>25%</th>\n",
       "      <td>-1.390961</td>\n",
       "      <td>-1.028500</td>\n",
       "      <td>-0.842985</td>\n",
       "      <td>-0.731125</td>\n",
       "      <td>-0.485114</td>\n",
       "    </tr>\n",
       "    <tr>\n",
       "      <th>50%</th>\n",
       "      <td>-0.624480</td>\n",
       "      <td>-0.265270</td>\n",
       "      <td>-0.601803</td>\n",
       "      <td>-0.111807</td>\n",
       "      <td>0.099131</td>\n",
       "    </tr>\n",
       "    <tr>\n",
       "      <th>75%</th>\n",
       "      <td>0.500343</td>\n",
       "      <td>0.458260</td>\n",
       "      <td>0.171542</td>\n",
       "      <td>0.677834</td>\n",
       "      <td>0.253292</td>\n",
       "    </tr>\n",
       "    <tr>\n",
       "      <th>max</th>\n",
       "      <td>1.756697</td>\n",
       "      <td>1.631805</td>\n",
       "      <td>1.759610</td>\n",
       "      <td>1.717383</td>\n",
       "      <td>1.868775</td>\n",
       "    </tr>\n",
       "  </tbody>\n",
       "</table>\n",
       "</div>"
      ],
      "text/plain": [
       "               0          1          2          3          4\n",
       "count  10.000000  10.000000  10.000000  10.000000  10.000000\n",
       "mean   -0.321093  -0.205957  -0.242497  -0.097320   0.056971\n",
       "std     1.283575   0.957736   0.951626   1.080024   0.793518\n",
       "min    -1.714040  -1.330483  -1.318206  -1.681915  -1.009375\n",
       "25%    -1.390961  -1.028500  -0.842985  -0.731125  -0.485114\n",
       "50%    -0.624480  -0.265270  -0.601803  -0.111807   0.099131\n",
       "75%     0.500343   0.458260   0.171542   0.677834   0.253292\n",
       "max     1.756697   1.631805   1.759610   1.717383   1.868775"
      ]
     },
     "execution_count": 3,
     "metadata": {},
     "output_type": "execute_result"
    }
   ],
   "source": [
    "df.describe()"
   ]
  },
  {
   "cell_type": "code",
   "execution_count": 4,
   "metadata": {
    "collapsed": false
   },
   "outputs": [],
   "source": [
    "from rpy2.robjects import pandas2ri\n",
    "pandas2ri.activate()"
   ]
  },
  {
   "cell_type": "markdown",
   "metadata": {},
   "source": [
    "Creating an R data drame corresponding to `df`"
   ]
  },
  {
   "cell_type": "code",
   "execution_count": 5,
   "metadata": {
    "collapsed": true
   },
   "outputs": [],
   "source": [
    "rdf = pandas2ri.py2ri(df)"
   ]
  },
  {
   "cell_type": "code",
   "execution_count": 6,
   "metadata": {
    "collapsed": false
   },
   "outputs": [
    {
     "data": {
      "text/plain": [
       "<DataFrame - Python:0x114191c68 / R:0x112e1dce0>\n",
       "[Array, Array, Array, Array, Array]\n",
       "  X0: <class 'rpy2.robjects.vectors.Array'>\n",
       "  <Array - Python:0x11419e680 / R:0x102fbeaa0>\n",
       "[1.756697, -0.406086, 0.755055, ..., -1.714040, -0.842874, -1.451116]\n",
       "  X1: <class 'rpy2.robjects.vectors.Array'>\n",
       "  <Array - Python:0x11419e6c8 / R:0x102fc2800>\n",
       "[-1.257468, -1.126688, 0.100705, ..., 0.609590, -0.239794, -1.330483]\n",
       "  X2: <class 'rpy2.robjects.vectors.Array'>\n",
       "  <Array - Python:0x11419e908 / R:0x102fd6000>\n",
       "[-1.097940, 1.759610, -0.649352, ..., -0.659519, 0.808137, -0.904141]\n",
       "  X3: <class 'rpy2.robjects.vectors.Array'>\n",
       "  <Array - Python:0x11419e9e0 / R:0x102fda0a8>\n",
       "[0.639397, 0.725511, 0.690647, ..., -1.681915, 1.717383, -0.342060]\n",
       "  X4: <class 'rpy2.robjects.vectors.Array'>\n",
       "  <Array - Python:0x11419eb00 / R:0x102fee0a8>\n",
       "[0.242888, -0.513463, -0.590162, ..., 0.151136, 0.516098, -0.400069]"
      ]
     },
     "execution_count": 6,
     "metadata": {},
     "output_type": "execute_result"
    }
   ],
   "source": [
    "rdf"
   ]
  },
  {
   "cell_type": "code",
   "execution_count": 7,
   "metadata": {
    "collapsed": false
   },
   "outputs": [
    {
     "name": "stdout",
     "output_type": "stream",
     "text": [
      "          X0         X1          X2         X3          X4\n",
      "0  1.7566972 -1.2574684 -1.09794029  0.6393970  0.24288840\n",
      "1 -0.4060857 -1.1266880  1.75961044  0.7255114 -0.51346275\n",
      "2  0.7550546  0.1007053 -0.64935231  0.6906470 -0.59016167\n",
      "3 -1.2104957 -0.2907465  0.24773677  0.1184463  0.25676015\n",
      "4  1.6215910  0.5774444 -0.05704374 -0.4876333  0.04712457\n",
      "5 -0.2637901 -0.7339342 -0.55425380 -0.8122886 -1.00937524\n",
      "6 -1.4558662  1.6318048 -1.31820606 -1.5406878  1.86877483\n",
      "7 -1.7140404  0.6095898 -0.65951931 -1.6819151  0.15113649\n",
      "8 -0.8428741 -0.2397942  0.80813718  1.7173832  0.51609753\n",
      "9 -1.4511160 -1.3304834 -0.90414067 -0.3420600 -0.40006945\n",
      "\n"
     ]
    }
   ],
   "source": [
    "print(rdf)"
   ]
  },
  {
   "cell_type": "markdown",
   "metadata": {},
   "source": [
    "Now, let us perform some `R` operations on the dataframe"
   ]
  },
  {
   "cell_type": "code",
   "execution_count": 8,
   "metadata": {
    "collapsed": true
   },
   "outputs": [],
   "source": [
    "import rpy2.robjects as robjects"
   ]
  },
  {
   "cell_type": "markdown",
   "metadata": {},
   "source": [
    "From the `rpy2` documentation, \n",
    "\n",
    ">The object r in rpy2.robjects represents the running embedded R process.\n",
    "If familiar with R and the R console, r is a little like a communication channel from Python to R.\n",
    "\n"
   ]
  },
  {
   "cell_type": "markdown",
   "metadata": {},
   "source": [
    "### Calling basic `R` functions"
   ]
  },
  {
   "cell_type": "markdown",
   "metadata": {},
   "source": [
    "* Let us now compute the `head` of our R `dataframe` rdf"
   ]
  },
  {
   "cell_type": "code",
   "execution_count": 9,
   "metadata": {
    "collapsed": false
   },
   "outputs": [],
   "source": [
    "head_df = robjects.r['head']"
   ]
  },
  {
   "cell_type": "code",
   "execution_count": 10,
   "metadata": {
    "collapsed": false
   },
   "outputs": [
    {
     "name": "stdout",
     "output_type": "stream",
     "text": [
      "          X0        X1       X2        X3         X4\n",
      "0  1.7566972 -1.257468 -1.09794 0.6393970  0.2428884\n",
      "1 -0.4060857 -1.126688  1.75961 0.7255114 -0.5134628\n",
      "\n"
     ]
    }
   ],
   "source": [
    "print(head_df(rdf, 2))"
   ]
  },
  {
   "cell_type": "markdown",
   "metadata": {},
   "source": [
    "* Now, let us find the description of the dataframe"
   ]
  },
  {
   "cell_type": "code",
   "execution_count": 11,
   "metadata": {
    "collapsed": false
   },
   "outputs": [
    {
     "name": "stdout",
     "output_type": "stream",
     "text": [
      "       X0                X1                X2                X3          \n",
      " Min.   :-1.7140   Min.   :-1.3305   Min.   :-1.3182   Min.   :-1.68192  \n",
      " 1st Qu.:-1.3910   1st Qu.:-1.0285   1st Qu.:-0.8430   1st Qu.:-0.73112  \n",
      " Median :-0.6245   Median :-0.2653   Median :-0.6018   Median :-0.11181  \n",
      " Mean   :-0.3211   Mean   :-0.2060   Mean   :-0.2425   Mean   :-0.09732  \n",
      " 3rd Qu.: 0.5003   3rd Qu.: 0.4583   3rd Qu.: 0.1715   3rd Qu.: 0.67783  \n",
      " Max.   : 1.7567   Max.   : 1.6318   Max.   : 1.7596   Max.   : 1.71738  \n",
      "       X4          \n",
      " Min.   :-1.00938  \n",
      " 1st Qu.:-0.48511  \n",
      " Median : 0.09913  \n",
      " Mean   : 0.05697  \n",
      " 3rd Qu.: 0.25329  \n",
      " Max.   : 1.86877  \n",
      "\n"
     ]
    }
   ],
   "source": [
    "r_summary =  robjects.r['summary'](rdf)\n",
    "print(r_summary)"
   ]
  },
  {
   "cell_type": "markdown",
   "metadata": {},
   "source": [
    "### Using R's lm package for fitting linear models\n"
   ]
  },
  {
   "cell_type": "markdown",
   "metadata": {},
   "source": [
    "Let us take the example of linear regression on faithful geyser data set. First, let us load the `R dataset` into Pandas."
   ]
  },
  {
   "cell_type": "code",
   "execution_count": 12,
   "metadata": {
    "collapsed": false
   },
   "outputs": [],
   "source": [
    "faithful_pandas_df = robjects.r('faithful')"
   ]
  },
  {
   "cell_type": "code",
   "execution_count": 13,
   "metadata": {
    "collapsed": false
   },
   "outputs": [
    {
     "data": {
      "text/plain": [
       "pandas.core.frame.DataFrame"
      ]
     },
     "execution_count": 13,
     "metadata": {},
     "output_type": "execute_result"
    }
   ],
   "source": [
    "type(faithful_pandas_df)"
   ]
  },
  {
   "cell_type": "code",
   "execution_count": 14,
   "metadata": {
    "collapsed": false
   },
   "outputs": [
    {
     "data": {
      "text/html": [
       "<div>\n",
       "<table border=\"1\" class=\"dataframe\">\n",
       "  <thead>\n",
       "    <tr style=\"text-align: right;\">\n",
       "      <th></th>\n",
       "      <th>eruptions</th>\n",
       "      <th>waiting</th>\n",
       "    </tr>\n",
       "  </thead>\n",
       "  <tbody>\n",
       "    <tr>\n",
       "      <th>1</th>\n",
       "      <td>3.600</td>\n",
       "      <td>79</td>\n",
       "    </tr>\n",
       "    <tr>\n",
       "      <th>2</th>\n",
       "      <td>1.800</td>\n",
       "      <td>54</td>\n",
       "    </tr>\n",
       "    <tr>\n",
       "      <th>3</th>\n",
       "      <td>3.333</td>\n",
       "      <td>74</td>\n",
       "    </tr>\n",
       "    <tr>\n",
       "      <th>4</th>\n",
       "      <td>2.283</td>\n",
       "      <td>62</td>\n",
       "    </tr>\n",
       "    <tr>\n",
       "      <th>5</th>\n",
       "      <td>4.533</td>\n",
       "      <td>85</td>\n",
       "    </tr>\n",
       "  </tbody>\n",
       "</table>\n",
       "</div>"
      ],
      "text/plain": [
       "   eruptions  waiting\n",
       "1      3.600       79\n",
       "2      1.800       54\n",
       "3      3.333       74\n",
       "4      2.283       62\n",
       "5      4.533       85"
      ]
     },
     "execution_count": 14,
     "metadata": {},
     "output_type": "execute_result"
    }
   ],
   "source": [
    "faithful_pandas_df.head()"
   ]
  },
  {
   "cell_type": "markdown",
   "metadata": {},
   "source": [
    "Now, let us create an R dataframe from this Python dataframe. It should be noted that we could have directly used the faithful geyser dataset in R. But, I chose to do this extra conversion for purpose of illustration."
   ]
  },
  {
   "cell_type": "code",
   "execution_count": 15,
   "metadata": {
    "collapsed": false
   },
   "outputs": [],
   "source": [
    "faithful_r_df = pandas2ri.py2ri(faithful_pandas_df)"
   ]
  },
  {
   "cell_type": "markdown",
   "metadata": {},
   "source": [
    "Let us take the `head` of the R dataframe and confirm that it is the same as the pandas dataframe."
   ]
  },
  {
   "cell_type": "code",
   "execution_count": 16,
   "metadata": {
    "collapsed": false
   },
   "outputs": [
    {
     "name": "stdout",
     "output_type": "stream",
     "text": [
      "  eruptions waiting\n",
      "1     3.600      79\n",
      "2     1.800      54\n",
      "3     3.333      74\n",
      "4     2.283      62\n",
      "5     4.533      85\n",
      "\n"
     ]
    }
   ],
   "source": [
    "print(robjects.r['head'](faithful_r_df, 5))"
   ]
  },
  {
   "cell_type": "markdown",
   "metadata": {},
   "source": [
    "Great, now let us fit a linear relationship bewteen `#eruptions` and `waiting` as follows:\n",
    "> $$\\mathrm{eruptions} = \\alpha + \\beta\\times\\mathrm{waiting} + \\epsilon$$"
   ]
  },
  {
   "cell_type": "markdown",
   "metadata": {},
   "source": [
    "For the purpose of this illustration, we will assume that there exists no package for linear regression in Python. So, we will be using the `lm` R `stats` package. Our aim would be to create a function in Python that does the following:\n",
    "\n",
    "1. Take as inputs a Pandas dataframe and the relationship string (eg. a ~b+c meeans that a is linear on b and c)\n",
    "2. Use rpy2 interface to convert the Pandas dataframe to R dataframe\n",
    "3. Use `lm` package from R to fit the linear relationship\n",
    "4. Find the coefficients of the fit\n",
    "5. Be able to predict for new data"
   ]
  },
  {
   "cell_type": "markdown",
   "metadata": {},
   "source": [
    "Since we have already done step 2, we'll jump to step 3"
   ]
  },
  {
   "cell_type": "code",
   "execution_count": 19,
   "metadata": {
    "collapsed": false
   },
   "outputs": [],
   "source": [
    "from rpy2.robjects.packages import importr\n",
    "stats = importr('stats')"
   ]
  },
  {
   "cell_type": "code",
   "execution_count": 20,
   "metadata": {
    "collapsed": false
   },
   "outputs": [],
   "source": [
    "fit = stats.lm('eruptions ~ waiting', data=faithful_r_df)"
   ]
  },
  {
   "cell_type": "code",
   "execution_count": 21,
   "metadata": {
    "collapsed": false
   },
   "outputs": [
    {
     "name": "stdout",
     "output_type": "stream",
     "text": [
      " [1] \"coefficients\"  \"residuals\"     \"effects\"       \"rank\"         \n",
      " [5] \"fitted.values\" \"assign\"        \"qr\"            \"df.residual\"  \n",
      " [9] \"xlevels\"       \"call\"          \"terms\"         \"model\"        \n",
      "\n"
     ]
    }
   ],
   "source": [
    "print(fit.names)"
   ]
  },
  {
   "cell_type": "markdown",
   "metadata": {},
   "source": [
    "Let us extract the residuals from the fit R object now."
   ]
  },
  {
   "cell_type": "code",
   "execution_count": 22,
   "metadata": {
    "collapsed": false
   },
   "outputs": [],
   "source": [
    "residuals = fit.rx2('residuals')"
   ]
  },
  {
   "cell_type": "markdown",
   "metadata": {},
   "source": [
    "Viewing the first five residuals"
   ]
  },
  {
   "cell_type": "code",
   "execution_count": 23,
   "metadata": {
    "collapsed": false
   },
   "outputs": [
    {
     "name": "stdout",
     "output_type": "stream",
     "text": [
      "[1] -0.50059190 -0.40989320 -0.38945216 -0.53191679 -0.02135959\n",
      "\n"
     ]
    }
   ],
   "source": [
    "print(residuals[:5])"
   ]
  },
  {
   "cell_type": "markdown",
   "metadata": {},
   "source": [
    "Getting a NumPy array from the residuals"
   ]
  },
  {
   "cell_type": "code",
   "execution_count": 24,
   "metadata": {
    "collapsed": false
   },
   "outputs": [],
   "source": [
    "residuals_numpy = pandas2ri.ri2py(residuals)"
   ]
  },
  {
   "cell_type": "code",
   "execution_count": 25,
   "metadata": {
    "collapsed": false
   },
   "outputs": [
    {
     "data": {
      "text/plain": [
       "array([-0.5005919 , -0.4098932 , -0.38945216, -0.53191679, -0.02135959])"
      ]
     },
     "execution_count": 25,
     "metadata": {},
     "output_type": "execute_result"
    }
   ],
   "source": [
    "residuals_numpy[:5]"
   ]
  },
  {
   "cell_type": "markdown",
   "metadata": {},
   "source": [
    "Let us plot a histogram of these residuals using matplotlib now. For a `good` fit, we would expect a normal distributed residual set."
   ]
  },
  {
   "cell_type": "code",
   "execution_count": 26,
   "metadata": {
    "collapsed": true
   },
   "outputs": [],
   "source": [
    "import matplotlib.pyplot as plt\n",
    "plt.style.use('fivethirtyeight')\n",
    "%matplotlib inline"
   ]
  },
  {
   "cell_type": "code",
   "execution_count": 27,
   "metadata": {
    "collapsed": false
   },
   "outputs": [
    {
     "data": {
      "text/plain": [
       "(array([  8.,   9.,  22.,  42.,  32.,  60.,  46.,  34.,  14.,   5.]),\n",
       " array([-1.29917268, -1.04992622, -0.80067976, -0.5514333 , -0.30218683,\n",
       "        -0.05294037,  0.19630609,  0.44555255,  0.69479902,  0.94404548,\n",
       "         1.19329194]),\n",
       " <a list of 10 Patch objects>)"
      ]
     },
     "execution_count": 27,
     "metadata": {},
     "output_type": "execute_result"
    },
    {
     "data": {
      "image/png": "[encoded data removed]",
      "text/plain": [
       "<matplotlib.figure.Figure at 0x1141a23d0>"
      ]
     },
     "metadata": {},
     "output_type": "display_data"
    }
   ],
   "source": [
    "plt.hist(residuals_numpy)"
   ]
  },
  {
   "cell_type": "markdown",
   "metadata": {},
   "source": [
    "The histogram looks reasonably good."
   ]
  },
  {
   "cell_type": "markdown",
   "metadata": {},
   "source": [
    "Now, let us extract the coeffiencts from the linear fit"
   ]
  },
  {
   "cell_type": "code",
   "execution_count": 28,
   "metadata": {
    "collapsed": true
   },
   "outputs": [],
   "source": [
    "coeffs = fit.rx2('coefficients')"
   ]
  },
  {
   "cell_type": "code",
   "execution_count": 29,
   "metadata": {
    "collapsed": false
   },
   "outputs": [
    {
     "name": "stdout",
     "output_type": "stream",
     "text": [
      "(Intercept)     waiting \n",
      "-1.87401599  0.07562795 \n",
      "\n"
     ]
    }
   ],
   "source": [
    "print(coeffs)"
   ]
  },
  {
   "cell_type": "code",
   "execution_count": 30,
   "metadata": {
    "collapsed": false
   },
   "outputs": [
    {
     "data": {
      "text/plain": [
       "rpy2.robjects.vectors.FloatVector"
      ]
     },
     "execution_count": 30,
     "metadata": {},
     "output_type": "execute_result"
    }
   ],
   "source": [
    "type(coeffs)"
   ]
  },
  {
   "cell_type": "code",
   "execution_count": 31,
   "metadata": {
    "collapsed": false
   },
   "outputs": [],
   "source": [
    "coeffs_python = pandas2ri.ri2py(coeffs)"
   ]
  },
  {
   "cell_type": "code",
   "execution_count": 32,
   "metadata": {
    "collapsed": false
   },
   "outputs": [
    {
     "data": {
      "text/plain": [
       "array([-1.87401599,  0.07562795])"
      ]
     },
     "execution_count": 32,
     "metadata": {},
     "output_type": "execute_result"
    }
   ],
   "source": [
    "coeffs_python"
   ]
  },
  {
   "cell_type": "markdown",
   "metadata": {},
   "source": [
    "Looks like we lost the names of columns (waiting, etc.) "
   ]
  },
  {
   "cell_type": "code",
   "execution_count": 33,
   "metadata": {
    "collapsed": false
   },
   "outputs": [
    {
     "data": {
      "text/plain": [
       "['(Intercept)', 'waiting']"
      ]
     },
     "execution_count": 33,
     "metadata": {},
     "output_type": "execute_result"
    }
   ],
   "source": [
    "coeffs_python_names = pandas2ri.ri2py(coeffs.names).tolist()\n",
    "coeffs_python_names"
   ]
  },
  {
   "cell_type": "markdown",
   "metadata": {},
   "source": [
    "Let us now extract the fitted value of `eruptions`"
   ]
  },
  {
   "cell_type": "code",
   "execution_count": 34,
   "metadata": {
    "collapsed": true
   },
   "outputs": [],
   "source": [
    "fit_eruptions = pandas2ri.ri2py(fit.rx2('fitted.values'))"
   ]
  },
  {
   "cell_type": "markdown",
   "metadata": {},
   "source": [
    "Now, let us plot the true and the fitted eruptions in matplotlib."
   ]
  },
  {
   "cell_type": "code",
   "execution_count": 35,
   "metadata": {
    "collapsed": false
   },
   "outputs": [
    {
     "data": {
      "text/plain": [
       "<matplotlib.text.Text at 0x117e41c50>"
      ]
     },
     "execution_count": 35,
     "metadata": {},
     "output_type": "execute_result"
    },
    {
     "name": "stderr",
     "output_type": "stream",
     "text": [
      "/Users/nipunbatra/anaconda/lib/python2.7/site-packages/matplotlib/collections.py:590: FutureWarning: elementwise comparison failed; returning scalar instead, but in the future will perform elementwise comparison\n",
      "  if self._edgecolors == str('face'):\n"
     ]
    },
    {
     "data": {
      "image/png": "[encoded data removed]",
      "text/plain": [
       "<matplotlib.figure.Figure at 0x114c341d0>"
      ]
     },
     "metadata": {},
     "output_type": "display_data"
    }
   ],
   "source": [
    "plt.scatter(faithful_pandas_df['waiting'], fit_eruptions, label='Fitted')\n",
    "plt.scatter(faithful_pandas_df['waiting'], faithful_pandas_df['eruptions'], label='True eruptions', color='r')\n",
    "plt.legend(loc='upper left')\n",
    "plt.xlabel(\"Waiting\")\n",
    "plt.ylabel(\"Eruptions\")"
   ]
  },
  {
   "cell_type": "markdown",
   "metadata": {},
   "source": [
    "Now, let us predict using the learnt linear model on last five entries in the dataset."
   ]
  },
  {
   "cell_type": "code",
   "execution_count": 36,
   "metadata": {
    "collapsed": true
   },
   "outputs": [],
   "source": [
    "last_5 = robjects.r['tail'](faithful_r_df, 5)"
   ]
  },
  {
   "cell_type": "code",
   "execution_count": 37,
   "metadata": {
    "collapsed": false
   },
   "outputs": [
    {
     "name": "stdout",
     "output_type": "stream",
     "text": [
      "    eruptions waiting\n",
      "268     4.117      81\n",
      "269     2.150      46\n",
      "270     4.417      90\n",
      "271     1.817      46\n",
      "272     4.467      74\n",
      "\n"
     ]
    }
   ],
   "source": [
    "print(last_5)"
   ]
  },
  {
   "cell_type": "code",
   "execution_count": 38,
   "metadata": {
    "collapsed": true
   },
   "outputs": [],
   "source": [
    "pred_r = stats.predict(fit, newdata=last_5)"
   ]
  },
  {
   "cell_type": "code",
   "execution_count": 39,
   "metadata": {
    "collapsed": false
   },
   "outputs": [
    {
     "name": "stdout",
     "output_type": "stream",
     "text": [
      "     268      269      270      271      272 \n",
      "4.251848 1.604870 4.932499 1.604870 3.722452 \n",
      "\n"
     ]
    }
   ],
   "source": [
    "print(pred_r)"
   ]
  },
  {
   "cell_type": "code",
   "execution_count": 40,
   "metadata": {
    "collapsed": false
   },
   "outputs": [
    {
     "data": {
      "text/plain": [
       "array([ 4.2518478 ,  1.60486962,  4.93249933,  1.60486962,  3.72245216])"
      ]
     },
     "execution_count": 40,
     "metadata": {},
     "output_type": "execute_result"
    }
   ],
   "source": [
    "pred_python = pandas2ri.ri2py(pred_r)\n",
    "pred_python"
   ]
  },
  {
   "cell_type": "markdown",
   "metadata": {},
   "source": [
    "Great! Now that we are able to fit a model and also predict on it, let us now package this function similar to the scikit-learn API"
   ]
  },
  {
   "cell_type": "code",
   "execution_count": 41,
   "metadata": {
    "collapsed": false
   },
   "outputs": [],
   "source": [
    "class PYLM(object):\n",
    "    from rpy2.robjects import pandas2ri\n",
    "    pandas2ri.activate()\n",
    "    from rpy2.robjects.packages import importr\n",
    "    stats = importr('stats')\n",
    "    def convert_fit_to_python(self, fit):\n",
    "        coeffs_r = fit.rx2('coefficients')\n",
    "        coeffs= pandas2ri.ri2py(coeffs_r)\n",
    "        coeff_names =  pandas2ri.ri2py(coeffs_r.names).tolist()\n",
    "        coeff_series = pd.Series({k:v for k,v in zip(coeff_names, coeffs)})\n",
    "        fitted_values = pandas2ri.ri2py(fit.rx2('fitted.values'))\n",
    "        return coeff_series\n",
    "        \n",
    "    def fit(self, relationship, df):\n",
    "        \"\"\"\n",
    "        relationship: string of the form: a~b+c\n",
    "        df: Pandas Dataframe\n",
    "        \"\"\"\n",
    "        # Get R dataframe\n",
    "        r_df = pandas2ri.py2ri(df)\n",
    "        # Create linear fit\n",
    "        fit = stats.lm(relationship, data=df)\n",
    "        self.fit = fit\n",
    "        python_fit = self.convert_fit_to_python(fit)\n",
    "        return python_fit\n",
    "    \n",
    "    def predict(self, df):\n",
    "        pred_r = stats.predict(self.fit, newdata=df)\n",
    "        pred_python = pandas2ri.ri2py(pred_r)\n",
    "        return pred_python\n",
    "        \n",
    "        "
   ]
  },
  {
   "cell_type": "code",
   "execution_count": 42,
   "metadata": {
    "collapsed": false
   },
   "outputs": [
    {
     "data": {
      "text/plain": [
       "(Intercept)   -1.874016\n",
       "waiting        0.075628\n",
       "dtype: float64"
      ]
     },
     "execution_count": 42,
     "metadata": {},
     "output_type": "execute_result"
    }
   ],
   "source": [
    "pylm = PYLM()\n",
    "relationship='eruptions~waiting'\n",
    "pylm.fit(relationship, faithful_pandas_df)"
   ]
  },
  {
   "cell_type": "code",
   "execution_count": 43,
   "metadata": {
    "collapsed": false
   },
   "outputs": [
    {
     "data": {
      "text/plain": [
       "array([ 4.2518478 ,  1.60486962,  4.93249933,  1.60486962,  3.72245216])"
      ]
     },
     "execution_count": 43,
     "metadata": {},
     "output_type": "execute_result"
    }
   ],
   "source": [
    "pylm.predict(faithful_pandas_df.tail(5))"
   ]
  },
  {
   "cell_type": "markdown",
   "metadata": {},
   "source": [
    "Great, this means that we've now been able get the functionality of R's `lm` package! Now, let us take a more complex example, and this time let us do seasonal trend decomposition. I'll be following [this simple to follow tutorial](http://www.r-bloggers.com/seasonal-trend-decomposition-in-r/) for the R code."
   ]
  },
  {
   "cell_type": "code",
   "execution_count": 45,
   "metadata": {
    "collapsed": false
   },
   "outputs": [
    {
     "name": "stdout",
     "output_type": "stream",
     "text": [
      "          X0         X1          X2         X3          X4\n",
      "0  1.7566972 -1.2574684 -1.09794029  0.6393970  0.24288840\n",
      "1 -0.4060857 -1.1266880  1.75961044  0.7255114 -0.51346275\n",
      "2  0.7550546  0.1007053 -0.64935231  0.6906470 -0.59016167\n",
      "3 -1.2104957 -0.2907465  0.24773677  0.1184463  0.25676015\n",
      "4  1.6215910  0.5774444 -0.05704374 -0.4876333  0.04712457\n",
      "5 -0.2637901 -0.7339342 -0.55425380 -0.8122886 -1.00937524\n",
      "6 -1.4558662  1.6318048 -1.31820606 -1.5406878  1.86877483\n",
      "7 -1.7140404  0.6095898 -0.65951931 -1.6819151  0.15113649\n",
      "8 -0.8428741 -0.2397942  0.80813718  1.7173832  0.51609753\n",
      "9 -1.4511160 -1.3304834 -0.90414067 -0.3420600 -0.40006945\n",
      "\n"
     ]
    }
   ],
   "source": [
    "print rdf"
   ]
  },
  {
   "cell_type": "code",
   "execution_count": 46,
   "metadata": {
    "collapsed": false
   },
   "outputs": [],
   "source": [
    "r_stl = robjects.r['stl']\n",
    "r_ts = robjects.r['ts']"
   ]
  },
  {
   "cell_type": "code",
   "execution_count": 87,
   "metadata": {
    "collapsed": false
   },
   "outputs": [],
   "source": [
    "import datetime\n",
    "data = np.arange(85.) / 12.\n",
    "data = np.sin(data * (2*np.pi))\n",
    "data += np.arange(85.) / 12. * .5\n",
    "data += .1 * np.random.randn(85)\n",
    "idx = pd.DatetimeIndex(start=datetime.datetime(1999,1,1), freq='1M', periods=len(data))\n",
    "data = pd.Series(data, index=idx)"
   ]
  },
  {
   "cell_type": "code",
   "execution_count": 88,
   "metadata": {
    "collapsed": false
   },
   "outputs": [
    {
     "data": {
      "text/plain": [
       "<matplotlib.axes._subplots.AxesSubplot at 0x1184185d0>"
      ]
     },
     "execution_count": 88,
     "metadata": {},
     "output_type": "execute_result"
    },
    {
     "data": {
      "image/png": "[encoded data removed]",
      "text/plain": [
       "<matplotlib.figure.Figure at 0x1183daf50>"
      ]
     },
     "metadata": {},
     "output_type": "display_data"
    }
   ],
   "source": [
    "data.plot()"
   ]
  },
  {
   "cell_type": "code",
   "execution_count": 89,
   "metadata": {
    "collapsed": false
   },
   "outputs": [
    {
     "data": {
      "text/plain": [
       "<MonthEnd>"
      ]
     },
     "execution_count": 89,
     "metadata": {},
     "output_type": "execute_result"
    }
   ],
   "source": [
    "data.index[0]\n",
    "data.index.freq"
   ]
  },
  {
   "cell_type": "code",
   "execution_count": 90,
   "metadata": {
    "collapsed": false
   },
   "outputs": [],
   "source": [
    "#start=c(2009, 1)\n",
    "start = robjects.IntVector([2009,1,1, 1, 1, 1])"
   ]
  },
  {
   "cell_type": "code",
   "execution_count": 91,
   "metadata": {
    "collapsed": false
   },
   "outputs": [
    {
     "data": {
      "text/plain": [
       "'M'"
      ]
     },
     "execution_count": 91,
     "metadata": {},
     "output_type": "execute_result"
    }
   ],
   "source": [
    "data.index.freq.freqstr"
   ]
  },
  {
   "cell_type": "markdown",
   "metadata": {},
   "source": [
    "So, Pandas uses human understandable frequency formatting. We'll need to conver"
   ]
  },
  {
   "cell_type": "code",
   "execution_count": 92,
   "metadata": {
    "collapsed": true
   },
   "outputs": [],
   "source": [
    "def convert_pd_freqstr(df):\n",
    "    \"\"\"\n",
    "    df: pd.DataFrame with pd.DatetimeIndex type index\n",
    "    \"\"\"\n",
    "    freqstr = df.index.freq.freqstr\n",
    "    freq_interval = freqstr[-1]\n",
    "    if len(freqstr)>1:\n",
    "        freq_number = int(freqstr[:-1])\n",
    "    else:\n",
    "        freq_number=1\n",
    "    if freq_interval is 'Y':\n",
    "        return 1.0/freq_number\n",
    "    elif freq_interval is 'M':\n",
    "        return 12.0/freq_number\n",
    "    elif freq_interval is 'D':\n",
    "        return 365.0/freq_number\n"
   ]
  },
  {
   "cell_type": "code",
   "execution_count": 93,
   "metadata": {
    "collapsed": false
   },
   "outputs": [
    {
     "data": {
      "text/plain": [
       "12.0"
      ]
     },
     "execution_count": 93,
     "metadata": {},
     "output_type": "execute_result"
    }
   ],
   "source": [
    "convert_pd_freqstr(data)"
   ]
  },
  {
   "cell_type": "code",
   "execution_count": 94,
   "metadata": {
    "collapsed": false
   },
   "outputs": [],
   "source": [
    "r_ts_data = r_ts(robjects.FloatVector(np.asarray(data)), start=start, frequency=convert_pd_freqstr(data))"
   ]
  },
  {
   "cell_type": "code",
   "execution_count": 95,
   "metadata": {
    "collapsed": false
   },
   "outputs": [
    {
     "name": "stdout",
     "output_type": "stream",
     "text": [
      "             Jan         Feb         Mar         Apr         May         Jun\n",
      "2009  0.22027973  0.64635114  0.81169338  1.23813862  1.01101447  0.83943070\n",
      "2010  0.42224398  0.93076099  1.35721539  1.47807916  1.48716379  1.20392781\n",
      "2011  0.95956243  1.39456334  1.97436139  2.15407201  2.02659571  1.53619330\n",
      "2012  1.42357836  2.04234105  2.55125644  2.73316050  2.41278914  2.34102197\n",
      "2013  1.79577046  2.55746016  2.87411677  3.17145341  3.18482147  2.69265434\n",
      "2014  2.42238470  3.03442923  3.41039022  3.42073035  3.46638067  3.33314309\n",
      "2015  3.02417705  3.40911413  3.75593000  4.28993843  3.97066520  3.67466450\n",
      "2016  3.45349650                                                            \n",
      "             Jul         Aug         Sep         Oct         Nov         Dec\n",
      "2009  0.08535751 -0.19385863 -0.39980829 -0.59165031 -0.35856481 -0.07289772\n",
      "2010  0.73135510  0.18608733 -0.12864272 -0.09788522 -0.12992004  0.53747094\n",
      "2011  1.14912798  0.85286817  0.50817631  0.43560886  0.49582666  1.05304865\n",
      "2012  1.61543769  1.20420921  0.83642051  1.03662693  1.05272273  1.42217936\n",
      "2013  2.10032223  1.75318725  1.45222586  1.30597120  1.55406653  2.06793134\n",
      "2014  2.71064063  2.14287492  2.08552109  1.96406405  2.19695521  2.34884108\n",
      "2015  3.31543480  2.75718106  2.61545937  2.28862814  2.51766797  2.89467193\n",
      "2016                                                                        \n",
      "\n"
     ]
    }
   ],
   "source": [
    "print(r_ts_data)"
   ]
  },
  {
   "cell_type": "markdown",
   "metadata": {},
   "source": [
    "Let us plot this time series using `ggplot2`"
   ]
  },
  {
   "cell_type": "code",
   "execution_count": 54,
   "metadata": {
    "collapsed": false
   },
   "outputs": [
    {
     "name": "stderr",
     "output_type": "stream",
     "text": [
      "/Users/nipunbatra/anaconda/lib/python2.7/site-packages/rpy2/robjects/lib/ggplot2.py:59: UserWarning: This was designed againt ggplot2 version 1.0.1 but you have 2.0.0\n",
      "  warnings.warn('This was designed againt ggplot2 version %s but you have %s' % (TARGET_VERSION, ggplot2.__version__))\n",
      "/Users/nipunbatra/anaconda/lib/python2.7/site-packages/rpy2/robjects/environments.py:17: UserWarning: Error: object 'stat_abline' not found\n",
      "\n",
      "  res = super(Environment, self).__getitem__(item)\n"
     ]
    },
    {
     "ename": "LookupError",
     "evalue": "'stat_abline' not found",
     "output_type": "error",
     "traceback": [
      "\u001b[0;31m---------------------------------------------------------------------------\u001b[0m",
      "\u001b[0;31mLookupError\u001b[0m                               Traceback (most recent call last)",
      "\u001b[0;32m<ipython-input-54-01b4d5e66584>\u001b[0m in \u001b[0;36m<module>\u001b[0;34m()\u001b[0m\n\u001b[0;32m----> 1\u001b[0;31m \u001b[0;32mimport\u001b[0m \u001b[0mrpy2\u001b[0m\u001b[0;34m.\u001b[0m\u001b[0mrobjects\u001b[0m\u001b[0;34m.\u001b[0m\u001b[0mlib\u001b[0m\u001b[0;34m.\u001b[0m\u001b[0mggplot2\u001b[0m \u001b[0;32mas\u001b[0m \u001b[0mggplot2\u001b[0m\u001b[0;34m\u001b[0m\u001b[0m\n\u001b[0m",
      "\u001b[0;32m/Users/nipunbatra/anaconda/lib/python2.7/site-packages/rpy2/robjects/lib/ggplot2.py\u001b[0m in \u001b[0;36m<module>\u001b[0;34m()\u001b[0m\n\u001b[1;32m    182\u001b[0m     \u001b[0;32mpass\u001b[0m\u001b[0;34m\u001b[0m\u001b[0m\n\u001b[1;32m    183\u001b[0m \u001b[0;34m\u001b[0m\u001b[0m\n\u001b[0;32m--> 184\u001b[0;31m \u001b[0;32mclass\u001b[0m \u001b[0mStatAbline\u001b[0m\u001b[0;34m(\u001b[0m\u001b[0mStat\u001b[0m\u001b[0;34m)\u001b[0m\u001b[0;34m:\u001b[0m\u001b[0;34m\u001b[0m\u001b[0m\n\u001b[0m\u001b[1;32m    185\u001b[0m     \u001b[0;34m\"\"\" Line from slope and intercept. \"\"\"\u001b[0m\u001b[0;34m\u001b[0m\u001b[0m\n\u001b[1;32m    186\u001b[0m     \u001b[0m_constructor\u001b[0m \u001b[0;34m=\u001b[0m \u001b[0mggplot2_env\u001b[0m\u001b[0;34m[\u001b[0m\u001b[0;34m'stat_abline'\u001b[0m\u001b[0;34m]\u001b[0m\u001b[0;34m\u001b[0m\u001b[0m\n",
      "\u001b[0;32m/Users/nipunbatra/anaconda/lib/python2.7/site-packages/rpy2/robjects/lib/ggplot2.py\u001b[0m in \u001b[0;36mStatAbline\u001b[0;34m()\u001b[0m\n\u001b[1;32m    184\u001b[0m \u001b[0;32mclass\u001b[0m \u001b[0mStatAbline\u001b[0m\u001b[0;34m(\u001b[0m\u001b[0mStat\u001b[0m\u001b[0;34m)\u001b[0m\u001b[0;34m:\u001b[0m\u001b[0;34m\u001b[0m\u001b[0m\n\u001b[1;32m    185\u001b[0m     \u001b[0;34m\"\"\" Line from slope and intercept. \"\"\"\u001b[0m\u001b[0;34m\u001b[0m\u001b[0m\n\u001b[0;32m--> 186\u001b[0;31m     \u001b[0m_constructor\u001b[0m \u001b[0;34m=\u001b[0m \u001b[0mggplot2_env\u001b[0m\u001b[0;34m[\u001b[0m\u001b[0;34m'stat_abline'\u001b[0m\u001b[0;34m]\u001b[0m\u001b[0;34m\u001b[0m\u001b[0m\n\u001b[0m\u001b[1;32m    187\u001b[0m \u001b[0mstat_abline\u001b[0m \u001b[0;34m=\u001b[0m \u001b[0mStatAbline\u001b[0m\u001b[0;34m.\u001b[0m\u001b[0mnew\u001b[0m\u001b[0;34m\u001b[0m\u001b[0m\n\u001b[1;32m    188\u001b[0m \u001b[0;34m\u001b[0m\u001b[0m\n",
      "\u001b[0;32m/Users/nipunbatra/anaconda/lib/python2.7/site-packages/rpy2/robjects/environments.pyc\u001b[0m in \u001b[0;36m__getitem__\u001b[0;34m(self, item)\u001b[0m\n\u001b[1;32m     15\u001b[0m \u001b[0;34m\u001b[0m\u001b[0m\n\u001b[1;32m     16\u001b[0m     \u001b[0;32mdef\u001b[0m \u001b[0m__getitem__\u001b[0m\u001b[0;34m(\u001b[0m\u001b[0mself\u001b[0m\u001b[0;34m,\u001b[0m \u001b[0mitem\u001b[0m\u001b[0;34m)\u001b[0m\u001b[0;34m:\u001b[0m\u001b[0;34m\u001b[0m\u001b[0m\n\u001b[0;32m---> 17\u001b[0;31m         \u001b[0mres\u001b[0m \u001b[0;34m=\u001b[0m \u001b[0msuper\u001b[0m\u001b[0;34m(\u001b[0m\u001b[0mEnvironment\u001b[0m\u001b[0;34m,\u001b[0m \u001b[0mself\u001b[0m\u001b[0;34m)\u001b[0m\u001b[0;34m.\u001b[0m\u001b[0m__getitem__\u001b[0m\u001b[0;34m(\u001b[0m\u001b[0mitem\u001b[0m\u001b[0;34m)\u001b[0m\u001b[0;34m\u001b[0m\u001b[0m\n\u001b[0m\u001b[1;32m     18\u001b[0m         \u001b[0mres\u001b[0m \u001b[0;34m=\u001b[0m \u001b[0mconversion\u001b[0m\u001b[0;34m.\u001b[0m\u001b[0mconverter\u001b[0m\u001b[0;34m.\u001b[0m\u001b[0mri2ro\u001b[0m\u001b[0;34m(\u001b[0m\u001b[0mres\u001b[0m\u001b[0;34m)\u001b[0m\u001b[0;34m\u001b[0m\u001b[0m\n\u001b[1;32m     19\u001b[0m         \u001b[0;31m# objects in a R environment have an associated name / symbol\u001b[0m\u001b[0;34m\u001b[0m\u001b[0;34m\u001b[0m\u001b[0m\n",
      "\u001b[0;31mLookupError\u001b[0m: 'stat_abline' not found"
     ]
    }
   ],
   "source": [
    "import rpy2.robjects.lib.ggplot2 as ggplot2"
   ]
  },
  {
   "cell_type": "markdown",
   "metadata": {},
   "source": [
    "Looks like I don't have `ggplot2` installed. The normal route would be to fire up the R terminal and to install the package up there. Instead, let us write a small function that will install an R package. It must be noted that this will be installed via the rpy2 interface. This will also serve as a nice example of calling custom R code in Python using the rpy2 interface."
   ]
  },
  {
   "cell_type": "code",
   "execution_count": 55,
   "metadata": {
    "collapsed": false
   },
   "outputs": [],
   "source": [
    "install_package = robjects.r(\"\"\"\n",
    " function(name){\n",
    " install.packages(name)\n",
    " }\n",
    "\"\"\")"
   ]
  },
  {
   "cell_type": "code",
   "execution_count": 56,
   "metadata": {
    "collapsed": false
   },
   "outputs": [
    {
     "name": "stdout",
     "output_type": "stream",
     "text": [
      "--- Please select a CRAN mirror for use in this session ---\n"
     ]
    },
    {
     "name": "stderr",
     "output_type": "stream",
     "text": [
      "/Users/nipunbatra/anaconda/lib/python2.7/site-packages/rpy2/robjects/functions.py:106: UserWarning: Installing package into ‘/Users/nipunbatra/Library/R/3.2/library’\n",
      "(as ‘lib’ is unspecified)\n",
      "\n",
      "  res = super(Function, self).__call__(*new_args, **new_kwargs)\n"
     ]
    },
    {
     "name": "stdout",
     "output_type": "stream",
     "text": [
      "HTTPS CRAN mirror \n",
      "\n",
      " 1: 0-Cloud [https]                2: Austria [https]             \n",
      " 3: Chile [https]                  4: China (Beijing 4) [https]   \n",
      " 5: Colombia (Cali) [https]        6: France (Lyon 2) [https]     \n",
      " 7: France (Paris 2) [https]       8: Germany (Münster) [https]   \n",
      " 9: Iceland [https]               10: Italy (Padua) [https]       \n",
      "11: Japan (Tokyo) [https]         12: Mexico (Mexico City) [https]\n",
      "13: Russia (Moscow) [https]       14: Spain (A Coruña) [https]    \n",
      "15: Spain (Madrid) [https]        16: Switzerland [https]         \n",
      "17: UK (Bristol) [https]          18: UK (Cambridge) [https]      \n",
      "19: USA (CA 1) [https]            20: USA (KS) [https]            \n",
      "21: USA (MI 1) [https]            22: USA (TN) [https]            \n",
      "23: USA (TX) [https]              24: USA (WA) [https]            \n",
      "25: (HTTP mirrors)                \n",
      "\n",
      "Selection: 11\n"
     ]
    },
    {
     "name": "stderr",
     "output_type": "stream",
     "text": [
      "/Users/nipunbatra/anaconda/lib/python2.7/site-packages/rpy2/robjects/functions.py:106: UserWarning: trying URL 'https://cran.ism.ac.jp/src/contrib/ggplot2_2.0.0.tar.gz'\n",
      "\n",
      "  res = super(Function, self).__call__(*new_args, **new_kwargs)\n"
     ]
    },
    {
     "ename": "KeyboardInterrupt",
     "evalue": "",
     "output_type": "error",
     "traceback": [
      "\u001b[0;31m---------------------------------------------------------------------------\u001b[0m",
      "\u001b[0;31mKeyboardInterrupt\u001b[0m                         Traceback (most recent call last)",
      "\u001b[0;32m/Users/nipunbatra/anaconda/lib/python2.7/warnings.pyc\u001b[0m in \u001b[0;36m_show_warning\u001b[0;34m(message, category, filename, lineno, file, line)\u001b[0m\n\u001b[1;32m     23\u001b[0m         \u001b[0mwarn\u001b[0m\u001b[0;34m(\u001b[0m\u001b[0mmessage\u001b[0m\u001b[0;34m,\u001b[0m \u001b[0mcategory\u001b[0m\u001b[0;34m,\u001b[0m \u001b[0mstacklevel\u001b[0m\u001b[0;34m+\u001b[0m\u001b[0;36m1\u001b[0m\u001b[0;34m)\u001b[0m\u001b[0;34m\u001b[0m\u001b[0m\n\u001b[1;32m     24\u001b[0m \u001b[0;34m\u001b[0m\u001b[0m\n\u001b[0;32m---> 25\u001b[0;31m \u001b[0;32mdef\u001b[0m \u001b[0m_show_warning\u001b[0m\u001b[0;34m(\u001b[0m\u001b[0mmessage\u001b[0m\u001b[0;34m,\u001b[0m \u001b[0mcategory\u001b[0m\u001b[0;34m,\u001b[0m \u001b[0mfilename\u001b[0m\u001b[0;34m,\u001b[0m \u001b[0mlineno\u001b[0m\u001b[0;34m,\u001b[0m \u001b[0mfile\u001b[0m\u001b[0;34m=\u001b[0m\u001b[0mNone\u001b[0m\u001b[0;34m,\u001b[0m \u001b[0mline\u001b[0m\u001b[0;34m=\u001b[0m\u001b[0mNone\u001b[0m\u001b[0;34m)\u001b[0m\u001b[0;34m:\u001b[0m\u001b[0;34m\u001b[0m\u001b[0m\n\u001b[0m\u001b[1;32m     26\u001b[0m     \u001b[0;34m\"\"\"Hook to write a warning to a file; replace if you like.\"\"\"\u001b[0m\u001b[0;34m\u001b[0m\u001b[0m\n\u001b[1;32m     27\u001b[0m     \u001b[0;32mif\u001b[0m \u001b[0mfile\u001b[0m \u001b[0;32mis\u001b[0m \u001b[0mNone\u001b[0m\u001b[0;34m:\u001b[0m\u001b[0;34m\u001b[0m\u001b[0m\n",
      "\u001b[0;31mKeyboardInterrupt\u001b[0m: "
     ]
    },
    {
     "name": "stdout",
     "output_type": "stream",
     "text": [
      "\n",
      "The downloaded source packages are in\n",
      "\t‘/private/var/folders/f4/kky9_80570ndrfzk8805mxh00000gp/T/RtmpxYv3rW/downloaded_packages’\n"
     ]
    },
    {
     "data": {
      "text/plain": [
       "rpy2.rinterface.NULL"
      ]
     },
     "execution_count": 56,
     "metadata": {},
     "output_type": "execute_result"
    }
   ],
   "source": [
    "install_package('ggplot2')"
   ]
  },
  {
   "cell_type": "code",
   "execution_count": null,
   "metadata": {
    "collapsed": false
   },
   "outputs": [],
   "source": [
    "import rpy2.robjects.lib.ggplot2 as ggplot2"
   ]
  },
  {
   "cell_type": "code",
   "execution_count": null,
   "metadata": {
    "collapsed": true
   },
   "outputs": [],
   "source": []
  },
  {
   "cell_type": "markdown",
   "metadata": {},
   "source": [
    "Oops, turns out that we have a newer version of ggplot2 than what rpy2 likes :(\n",
    "But, if we can use ggplot2 in a custom R script, like, we installed it? [This page](http://rpubs.com/sinhrks/plot_ts) is a really nice resource on plotting time series data in R. "
   ]
  },
  {
   "cell_type": "code",
   "execution_count": 279,
   "metadata": {
    "collapsed": false
   },
   "outputs": [
    {
     "name": "stderr",
     "output_type": "stream",
     "text": [
      "/Users/nipunbatra/anaconda/lib/python2.7/site-packages/rpy2/robjects/functions.py:106: UserWarning: also installing the dependencies ‘BH’, ‘mime’, ‘R6’, ‘brew’, ‘xml2’, ‘httr’, ‘curl’, ‘memoise’, ‘whisker’, ‘evaluate’, ‘rstudioapi’, ‘jsonlite’, ‘roxygen2’, ‘rversions’, ‘git2r’\n",
      "\n",
      "\n",
      "  res = super(Function, self).__call__(*new_args, **new_kwargs)\n",
      "/Users/nipunbatra/anaconda/lib/python2.7/site-packages/rpy2/robjects/functions.py:106: UserWarning: trying URL 'https://cran.fhcrc.org/src/contrib/BH_1.60.0-1.tar.gz'\n",
      "\n",
      "  res = super(Function, self).__call__(*new_args, **new_kwargs)\n",
      "/Users/nipunbatra/anaconda/lib/python2.7/site-packages/rpy2/robjects/functions.py:106: UserWarning:  length 9618456 bytes (9.2 MB)\n",
      "\n",
      "  res = super(Function, self).__call__(*new_args, **new_kwargs)\n",
      "/Users/nipunbatra/anaconda/lib/python2.7/site-packages/rpy2/robjects/functions.py:106: UserWarning: downloaded 9.2 MB\n",
      "\n",
      "\n",
      "  res = super(Function, self).__call__(*new_args, **new_kwargs)\n",
      "/Users/nipunbatra/anaconda/lib/python2.7/site-packages/rpy2/robjects/functions.py:106: UserWarning: trying URL 'https://cran.fhcrc.org/src/contrib/mime_0.4.tar.gz'\n",
      "\n",
      "  res = super(Function, self).__call__(*new_args, **new_kwargs)\n",
      "/Users/nipunbatra/anaconda/lib/python2.7/site-packages/rpy2/robjects/functions.py:106: UserWarning:  length 12545 bytes (12 KB)\n",
      "\n",
      "  res = super(Function, self).__call__(*new_args, **new_kwargs)\n",
      "/Users/nipunbatra/anaconda/lib/python2.7/site-packages/rpy2/robjects/functions.py:106: UserWarning: downloaded 12 KB\n",
      "\n",
      "\n",
      "  res = super(Function, self).__call__(*new_args, **new_kwargs)\n",
      "/Users/nipunbatra/anaconda/lib/python2.7/site-packages/rpy2/robjects/functions.py:106: UserWarning: trying URL 'https://cran.fhcrc.org/src/contrib/R6_2.1.1.tar.gz'\n",
      "\n",
      "  res = super(Function, self).__call__(*new_args, **new_kwargs)\n",
      "/Users/nipunbatra/anaconda/lib/python2.7/site-packages/rpy2/robjects/functions.py:106: UserWarning:  length 145066 bytes (141 KB)\n",
      "\n",
      "  res = super(Function, self).__call__(*new_args, **new_kwargs)\n",
      "/Users/nipunbatra/anaconda/lib/python2.7/site-packages/rpy2/robjects/functions.py:106: UserWarning: downloaded 141 KB\n",
      "\n",
      "\n",
      "  res = super(Function, self).__call__(*new_args, **new_kwargs)\n",
      "/Users/nipunbatra/anaconda/lib/python2.7/site-packages/rpy2/robjects/functions.py:106: UserWarning: trying URL 'https://cran.fhcrc.org/src/contrib/brew_1.0-6.tar.gz'\n",
      "\n",
      "  res = super(Function, self).__call__(*new_args, **new_kwargs)\n",
      "/Users/nipunbatra/anaconda/lib/python2.7/site-packages/rpy2/robjects/functions.py:106: UserWarning:  length 83315 bytes (81 KB)\n",
      "\n",
      "  res = super(Function, self).__call__(*new_args, **new_kwargs)\n",
      "/Users/nipunbatra/anaconda/lib/python2.7/site-packages/rpy2/robjects/functions.py:106: UserWarning: downloaded 81 KB\n",
      "\n",
      "\n",
      "  res = super(Function, self).__call__(*new_args, **new_kwargs)\n",
      "/Users/nipunbatra/anaconda/lib/python2.7/site-packages/rpy2/robjects/functions.py:106: UserWarning: trying URL 'https://cran.fhcrc.org/src/contrib/xml2_0.1.2.tar.gz'\n",
      "\n",
      "  res = super(Function, self).__call__(*new_args, **new_kwargs)\n",
      "/Users/nipunbatra/anaconda/lib/python2.7/site-packages/rpy2/robjects/functions.py:106: UserWarning:  length 74808 bytes (73 KB)\n",
      "\n",
      "  res = super(Function, self).__call__(*new_args, **new_kwargs)\n",
      "/Users/nipunbatra/anaconda/lib/python2.7/site-packages/rpy2/robjects/functions.py:106: UserWarning: downloaded 73 KB\n",
      "\n",
      "\n",
      "  res = super(Function, self).__call__(*new_args, **new_kwargs)\n",
      "/Users/nipunbatra/anaconda/lib/python2.7/site-packages/rpy2/robjects/functions.py:106: UserWarning: trying URL 'https://cran.fhcrc.org/src/contrib/httr_1.0.0.tar.gz'\n",
      "\n",
      "  res = super(Function, self).__call__(*new_args, **new_kwargs)\n",
      "/Users/nipunbatra/anaconda/lib/python2.7/site-packages/rpy2/robjects/functions.py:106: UserWarning:  length 245989 bytes (240 KB)\n",
      "\n",
      "  res = super(Function, self).__call__(*new_args, **new_kwargs)\n",
      "/Users/nipunbatra/anaconda/lib/python2.7/site-packages/rpy2/robjects/functions.py:106: UserWarning: downloaded 240 KB\n",
      "\n",
      "\n",
      "  res = super(Function, self).__call__(*new_args, **new_kwargs)\n",
      "/Users/nipunbatra/anaconda/lib/python2.7/site-packages/rpy2/robjects/functions.py:106: UserWarning: trying URL 'https://cran.fhcrc.org/src/contrib/curl_0.9.4.tar.gz'\n",
      "\n",
      "  res = super(Function, self).__call__(*new_args, **new_kwargs)\n",
      "/Users/nipunbatra/anaconda/lib/python2.7/site-packages/rpy2/robjects/functions.py:106: UserWarning:  length 245598 bytes (239 KB)\n",
      "\n",
      "  res = super(Function, self).__call__(*new_args, **new_kwargs)\n",
      "/Users/nipunbatra/anaconda/lib/python2.7/site-packages/rpy2/robjects/functions.py:106: UserWarning: downloaded 239 KB\n",
      "\n",
      "\n",
      "  res = super(Function, self).__call__(*new_args, **new_kwargs)\n",
      "/Users/nipunbatra/anaconda/lib/python2.7/site-packages/rpy2/robjects/functions.py:106: UserWarning: trying URL 'https://cran.fhcrc.org/src/contrib/memoise_0.2.1.tar.gz'\n",
      "\n",
      "  res = super(Function, self).__call__(*new_args, **new_kwargs)\n",
      "/Users/nipunbatra/anaconda/lib/python2.7/site-packages/rpy2/robjects/functions.py:106: UserWarning:  length 4212 bytes\n",
      "\n",
      "  res = super(Function, self).__call__(*new_args, **new_kwargs)\n",
      "/Users/nipunbatra/anaconda/lib/python2.7/site-packages/rpy2/robjects/functions.py:106: UserWarning: downloaded 4212 bytes\n",
      "\n",
      "\n",
      "  res = super(Function, self).__call__(*new_args, **new_kwargs)\n",
      "/Users/nipunbatra/anaconda/lib/python2.7/site-packages/rpy2/robjects/functions.py:106: UserWarning: trying URL 'https://cran.fhcrc.org/src/contrib/whisker_0.3-2.tar.gz'\n",
      "\n",
      "  res = super(Function, self).__call__(*new_args, **new_kwargs)\n",
      "/Users/nipunbatra/anaconda/lib/python2.7/site-packages/rpy2/robjects/functions.py:106: UserWarning:  length 27707 bytes (27 KB)\n",
      "\n",
      "  res = super(Function, self).__call__(*new_args, **new_kwargs)\n",
      "/Users/nipunbatra/anaconda/lib/python2.7/site-packages/rpy2/robjects/functions.py:106: UserWarning: downloaded 27 KB\n",
      "\n",
      "\n",
      "  res = super(Function, self).__call__(*new_args, **new_kwargs)\n",
      "/Users/nipunbatra/anaconda/lib/python2.7/site-packages/rpy2/robjects/functions.py:106: UserWarning: trying URL 'https://cran.fhcrc.org/src/contrib/evaluate_0.8.tar.gz'\n",
      "\n",
      "  res = super(Function, self).__call__(*new_args, **new_kwargs)\n",
      "/Users/nipunbatra/anaconda/lib/python2.7/site-packages/rpy2/robjects/functions.py:106: UserWarning:  length 18253 bytes (17 KB)\n",
      "\n",
      "  res = super(Function, self).__call__(*new_args, **new_kwargs)\n",
      "/Users/nipunbatra/anaconda/lib/python2.7/site-packages/rpy2/robjects/functions.py:106: UserWarning: downloaded 17 KB\n",
      "\n",
      "\n",
      "  res = super(Function, self).__call__(*new_args, **new_kwargs)\n",
      "/Users/nipunbatra/anaconda/lib/python2.7/site-packages/rpy2/robjects/functions.py:106: UserWarning: trying URL 'https://cran.fhcrc.org/src/contrib/rstudioapi_0.4.0.tar.gz'\n",
      "\n",
      "  res = super(Function, self).__call__(*new_args, **new_kwargs)\n",
      "/Users/nipunbatra/anaconda/lib/python2.7/site-packages/rpy2/robjects/functions.py:106: UserWarning:  length 10348 bytes (10 KB)\n",
      "\n",
      "  res = super(Function, self).__call__(*new_args, **new_kwargs)\n",
      "/Users/nipunbatra/anaconda/lib/python2.7/site-packages/rpy2/robjects/functions.py:106: UserWarning: trying URL 'https://cran.fhcrc.org/src/contrib/jsonlite_0.9.19.tar.gz'\n",
      "\n",
      "  res = super(Function, self).__call__(*new_args, **new_kwargs)\n",
      "/Users/nipunbatra/anaconda/lib/python2.7/site-packages/rpy2/robjects/functions.py:106: UserWarning:  length 955099 bytes (932 KB)\n",
      "\n",
      "  res = super(Function, self).__call__(*new_args, **new_kwargs)\n",
      "/Users/nipunbatra/anaconda/lib/python2.7/site-packages/rpy2/robjects/functions.py:106: UserWarning: downloaded 932 KB\n",
      "\n",
      "\n",
      "  res = super(Function, self).__call__(*new_args, **new_kwargs)\n",
      "/Users/nipunbatra/anaconda/lib/python2.7/site-packages/rpy2/robjects/functions.py:106: UserWarning: trying URL 'https://cran.fhcrc.org/src/contrib/roxygen2_5.0.1.tar.gz'\n",
      "\n",
      "  res = super(Function, self).__call__(*new_args, **new_kwargs)\n",
      "/Users/nipunbatra/anaconda/lib/python2.7/site-packages/rpy2/robjects/functions.py:106: UserWarning:  length 106197 bytes (103 KB)\n",
      "\n",
      "  res = super(Function, self).__call__(*new_args, **new_kwargs)\n",
      "/Users/nipunbatra/anaconda/lib/python2.7/site-packages/rpy2/robjects/functions.py:106: UserWarning: downloaded 103 KB\n",
      "\n",
      "\n",
      "  res = super(Function, self).__call__(*new_args, **new_kwargs)\n",
      "/Users/nipunbatra/anaconda/lib/python2.7/site-packages/rpy2/robjects/functions.py:106: UserWarning: trying URL 'https://cran.fhcrc.org/src/contrib/rversions_1.0.2.tar.gz'\n",
      "\n",
      "  res = super(Function, self).__call__(*new_args, **new_kwargs)\n",
      "/Users/nipunbatra/anaconda/lib/python2.7/site-packages/rpy2/robjects/functions.py:106: UserWarning:  length 4654 bytes\n",
      "\n",
      "  res = super(Function, self).__call__(*new_args, **new_kwargs)\n",
      "/Users/nipunbatra/anaconda/lib/python2.7/site-packages/rpy2/robjects/functions.py:106: UserWarning: downloaded 4654 bytes\n",
      "\n",
      "\n",
      "  res = super(Function, self).__call__(*new_args, **new_kwargs)\n",
      "/Users/nipunbatra/anaconda/lib/python2.7/site-packages/rpy2/robjects/functions.py:106: UserWarning: trying URL 'https://cran.fhcrc.org/src/contrib/git2r_0.13.1.tar.gz'\n",
      "\n",
      "  res = super(Function, self).__call__(*new_args, **new_kwargs)\n",
      "/Users/nipunbatra/anaconda/lib/python2.7/site-packages/rpy2/robjects/functions.py:106: UserWarning:  length 1058457 bytes (1.0 MB)\n",
      "\n",
      "  res = super(Function, self).__call__(*new_args, **new_kwargs)\n",
      "/Users/nipunbatra/anaconda/lib/python2.7/site-packages/rpy2/robjects/functions.py:106: UserWarning: downloaded 1.0 MB\n",
      "\n",
      "\n",
      "  res = super(Function, self).__call__(*new_args, **new_kwargs)\n",
      "/Users/nipunbatra/anaconda/lib/python2.7/site-packages/rpy2/robjects/functions.py:106: UserWarning: trying URL 'https://cran.fhcrc.org/src/contrib/devtools_1.9.1.tar.gz'\n",
      "\n",
      "  res = super(Function, self).__call__(*new_args, **new_kwargs)\n",
      "/Users/nipunbatra/anaconda/lib/python2.7/site-packages/rpy2/robjects/functions.py:106: UserWarning:  length 157024 bytes (153 KB)\n",
      "\n",
      "  res = super(Function, self).__call__(*new_args, **new_kwargs)\n"
     ]
    },
    {
     "name": "stdout",
     "output_type": "stream",
     "text": [
      "\n",
      "The downloaded source packages are in\n",
      "\t‘/private/var/folders/f4/kky9_80570ndrfzk8805mxh00000gp/T/RtmpIpTrsL/downloaded_packages’\n"
     ]
    },
    {
     "name": "stderr",
     "output_type": "stream",
     "text": [
      "/Users/nipunbatra/anaconda/lib/python2.7/site-packages/rpy2/robjects/functions.py:106: UserWarning: downloaded 153 KB\n",
      "\n",
      "\n",
      "  res = super(Function, self).__call__(*new_args, **new_kwargs)\n"
     ]
    },
    {
     "data": {
      "text/plain": [
       "rpy2.rinterface.NULL"
      ]
     },
     "execution_count": 279,
     "metadata": {},
     "output_type": "execute_result"
    }
   ],
   "source": [
    "install_package(\"devtools\")"
   ]
  },
  {
   "cell_type": "code",
   "execution_count": 281,
   "metadata": {
    "collapsed": false
   },
   "outputs": [
    {
     "name": "stderr",
     "output_type": "stream",
     "text": [
      "ERROR: An unexpected error occurred while tokenizing input\n",
      "The following traceback may be corrupted or invalid\n",
      "The error message is: ('EOF in multi-line string', (1, 0))\n",
      "\n"
     ]
    },
    {
     "ename": "RRuntimeError",
     "evalue": "Error in library(devtools) : there is no package called ‘devtools’\n",
     "output_type": "error",
     "traceback": [
      "\u001b[0;31m---------------------------------------------------------------------------\u001b[0m",
      "\u001b[0;31mRRuntimeError\u001b[0m                             Traceback (most recent call last)",
      "\u001b[0;32m<ipython-input-281-afcbfc76db70>\u001b[0m in \u001b[0;36m<module>\u001b[0;34m()\u001b[0m\n\u001b[1;32m      4\u001b[0m  \u001b[0minstall_github\u001b[0m\u001b[0;34m(\u001b[0m\u001b[0mname\u001b[0m\u001b[0;34m)\u001b[0m\u001b[0;34m\u001b[0m\u001b[0m\n\u001b[1;32m      5\u001b[0m  }\n\u001b[0;32m----> 6\u001b[0;31m \"\"\")\n\u001b[0m\u001b[1;32m      7\u001b[0m \u001b[0;34m\u001b[0m\u001b[0m\n\u001b[1;32m      8\u001b[0m \u001b[0minstall_package_github\u001b[0m\u001b[0;34m(\u001b[0m\u001b[0;34m'sinhrks/ggfortify'\u001b[0m\u001b[0;34m)\u001b[0m\u001b[0;34m\u001b[0m\u001b[0m\n",
      "\u001b[0;32m/Users/nipunbatra/anaconda/lib/python2.7/site-packages/rpy2/robjects/__init__.pyc\u001b[0m in \u001b[0;36m__call__\u001b[0;34m(self, string)\u001b[0m\n\u001b[1;32m    317\u001b[0m     \u001b[0;32mdef\u001b[0m \u001b[0m__call__\u001b[0m\u001b[0;34m(\u001b[0m\u001b[0mself\u001b[0m\u001b[0;34m,\u001b[0m \u001b[0mstring\u001b[0m\u001b[0;34m)\u001b[0m\u001b[0;34m:\u001b[0m\u001b[0;34m\u001b[0m\u001b[0m\n\u001b[1;32m    318\u001b[0m         \u001b[0mp\u001b[0m \u001b[0;34m=\u001b[0m \u001b[0m_rparse\u001b[0m\u001b[0;34m(\u001b[0m\u001b[0mtext\u001b[0m\u001b[0;34m=\u001b[0m\u001b[0mStrSexpVector\u001b[0m\u001b[0;34m(\u001b[0m\u001b[0;34m(\u001b[0m\u001b[0mstring\u001b[0m\u001b[0;34m,\u001b[0m\u001b[0;34m)\u001b[0m\u001b[0;34m)\u001b[0m\u001b[0;34m)\u001b[0m\u001b[0;34m\u001b[0m\u001b[0m\n\u001b[0;32m--> 319\u001b[0;31m         \u001b[0mres\u001b[0m \u001b[0;34m=\u001b[0m \u001b[0mself\u001b[0m\u001b[0;34m.\u001b[0m\u001b[0meval\u001b[0m\u001b[0;34m(\u001b[0m\u001b[0mp\u001b[0m\u001b[0;34m)\u001b[0m\u001b[0;34m\u001b[0m\u001b[0m\n\u001b[0m\u001b[1;32m    320\u001b[0m         \u001b[0;32mreturn\u001b[0m \u001b[0mconversion\u001b[0m\u001b[0;34m.\u001b[0m\u001b[0mri2py\u001b[0m\u001b[0;34m(\u001b[0m\u001b[0mres\u001b[0m\u001b[0;34m)\u001b[0m\u001b[0;34m\u001b[0m\u001b[0m\n\u001b[1;32m    321\u001b[0m \u001b[0;34m\u001b[0m\u001b[0m\n",
      "\u001b[0;32m/Users/nipunbatra/anaconda/lib/python2.7/site-packages/rpy2/robjects/functions.pyc\u001b[0m in \u001b[0;36m__call__\u001b[0;34m(self, *args, **kwargs)\u001b[0m\n\u001b[1;32m    176\u001b[0m                 \u001b[0mv\u001b[0m \u001b[0;34m=\u001b[0m \u001b[0mkwargs\u001b[0m\u001b[0;34m.\u001b[0m\u001b[0mpop\u001b[0m\u001b[0;34m(\u001b[0m\u001b[0mk\u001b[0m\u001b[0;34m)\u001b[0m\u001b[0;34m\u001b[0m\u001b[0m\n\u001b[1;32m    177\u001b[0m                 \u001b[0mkwargs\u001b[0m\u001b[0;34m[\u001b[0m\u001b[0mr_k\u001b[0m\u001b[0;34m]\u001b[0m \u001b[0;34m=\u001b[0m \u001b[0mv\u001b[0m\u001b[0;34m\u001b[0m\u001b[0m\n\u001b[0;32m--> 178\u001b[0;31m         \u001b[0;32mreturn\u001b[0m \u001b[0msuper\u001b[0m\u001b[0;34m(\u001b[0m\u001b[0mSignatureTranslatedFunction\u001b[0m\u001b[0;34m,\u001b[0m \u001b[0mself\u001b[0m\u001b[0;34m)\u001b[0m\u001b[0;34m.\u001b[0m\u001b[0m__call__\u001b[0m\u001b[0;34m(\u001b[0m\u001b[0;34m*\u001b[0m\u001b[0margs\u001b[0m\u001b[0;34m,\u001b[0m \u001b[0;34m**\u001b[0m\u001b[0mkwargs\u001b[0m\u001b[0;34m)\u001b[0m\u001b[0;34m\u001b[0m\u001b[0m\n\u001b[0m\u001b[1;32m    179\u001b[0m \u001b[0;34m\u001b[0m\u001b[0m\n\u001b[1;32m    180\u001b[0m \u001b[0mpattern_link\u001b[0m \u001b[0;34m=\u001b[0m \u001b[0mre\u001b[0m\u001b[0;34m.\u001b[0m\u001b[0mcompile\u001b[0m\u001b[0;34m(\u001b[0m\u001b[0;34mr'\\\\link\\{(.+?)\\}'\u001b[0m\u001b[0;34m)\u001b[0m\u001b[0;34m\u001b[0m\u001b[0m\n",
      "\u001b[0;32m/Users/nipunbatra/anaconda/lib/python2.7/site-packages/rpy2/robjects/functions.pyc\u001b[0m in \u001b[0;36m__call__\u001b[0;34m(self, *args, **kwargs)\u001b[0m\n\u001b[1;32m    104\u001b[0m         \u001b[0;32mfor\u001b[0m \u001b[0mk\u001b[0m\u001b[0;34m,\u001b[0m \u001b[0mv\u001b[0m \u001b[0;32min\u001b[0m \u001b[0mkwargs\u001b[0m\u001b[0;34m.\u001b[0m\u001b[0mitems\u001b[0m\u001b[0;34m(\u001b[0m\u001b[0;34m)\u001b[0m\u001b[0;34m:\u001b[0m\u001b[0;34m\u001b[0m\u001b[0m\n\u001b[1;32m    105\u001b[0m             \u001b[0mnew_kwargs\u001b[0m\u001b[0;34m[\u001b[0m\u001b[0mk\u001b[0m\u001b[0;34m]\u001b[0m \u001b[0;34m=\u001b[0m \u001b[0mconversion\u001b[0m\u001b[0;34m.\u001b[0m\u001b[0mpy2ri\u001b[0m\u001b[0;34m(\u001b[0m\u001b[0mv\u001b[0m\u001b[0;34m)\u001b[0m\u001b[0;34m\u001b[0m\u001b[0m\n\u001b[0;32m--> 106\u001b[0;31m         \u001b[0mres\u001b[0m \u001b[0;34m=\u001b[0m \u001b[0msuper\u001b[0m\u001b[0;34m(\u001b[0m\u001b[0mFunction\u001b[0m\u001b[0;34m,\u001b[0m \u001b[0mself\u001b[0m\u001b[0;34m)\u001b[0m\u001b[0;34m.\u001b[0m\u001b[0m__call__\u001b[0m\u001b[0;34m(\u001b[0m\u001b[0;34m*\u001b[0m\u001b[0mnew_args\u001b[0m\u001b[0;34m,\u001b[0m \u001b[0;34m**\u001b[0m\u001b[0mnew_kwargs\u001b[0m\u001b[0;34m)\u001b[0m\u001b[0;34m\u001b[0m\u001b[0m\n\u001b[0m\u001b[1;32m    107\u001b[0m         \u001b[0mres\u001b[0m \u001b[0;34m=\u001b[0m \u001b[0mconversion\u001b[0m\u001b[0;34m.\u001b[0m\u001b[0mri2ro\u001b[0m\u001b[0;34m(\u001b[0m\u001b[0mres\u001b[0m\u001b[0;34m)\u001b[0m\u001b[0;34m\u001b[0m\u001b[0m\n\u001b[1;32m    108\u001b[0m         \u001b[0;32mreturn\u001b[0m \u001b[0mres\u001b[0m\u001b[0;34m\u001b[0m\u001b[0m\n",
      "\u001b[0;31mRRuntimeError\u001b[0m: Error in library(devtools) : there is no package called ‘devtools’\n"
     ]
    }
   ],
   "source": [
    "install_package_github = robjects.r(\"\"\"\n",
    " library(devtools)\n",
    " function(name){\n",
    " install_github(name)\n",
    " }\n",
    "\"\"\")\n",
    "\n",
    "install_package_github('sinhrks/ggfortify')"
   ]
  },
  {
   "cell_type": "code",
   "execution_count": 282,
   "metadata": {
    "collapsed": false
   },
   "outputs": [],
   "source": [
    "gr = importr('grDevices')\n",
    "autoplot = robjects.r(\"\"\"\n",
    " library(ggplot2)\n",
    "    \n",
    " function(ts_data){\n",
    " autoplot(ts_data)\n",
    " }\n",
    "\"\"\")"
   ]
  },
  {
   "cell_type": "code",
   "execution_count": 283,
   "metadata": {
    "collapsed": false
   },
   "outputs": [
    {
     "ename": "RRuntimeError",
     "evalue": "Error: Objects of type ts not supported by autoplot.\n",
     "output_type": "error",
     "traceback": [
      "\u001b[0;31m---------------------------------------------------------------------------\u001b[0m",
      "\u001b[0;31mRRuntimeError\u001b[0m                             Traceback (most recent call last)",
      "\u001b[0;32m<ipython-input-283-4a11a665829b>\u001b[0m in \u001b[0;36m<module>\u001b[0;34m()\u001b[0m\n\u001b[0;32m----> 1\u001b[0;31m \u001b[0mautoplot\u001b[0m\u001b[0;34m(\u001b[0m\u001b[0mr_ts_data\u001b[0m\u001b[0;34m)\u001b[0m\u001b[0;34m\u001b[0m\u001b[0m\n\u001b[0m",
      "\u001b[0;32m/Users/nipunbatra/anaconda/lib/python2.7/site-packages/rpy2/robjects/functions.pyc\u001b[0m in \u001b[0;36m__call__\u001b[0;34m(self, *args, **kwargs)\u001b[0m\n\u001b[1;32m    176\u001b[0m                 \u001b[0mv\u001b[0m \u001b[0;34m=\u001b[0m \u001b[0mkwargs\u001b[0m\u001b[0;34m.\u001b[0m\u001b[0mpop\u001b[0m\u001b[0;34m(\u001b[0m\u001b[0mk\u001b[0m\u001b[0;34m)\u001b[0m\u001b[0;34m\u001b[0m\u001b[0m\n\u001b[1;32m    177\u001b[0m                 \u001b[0mkwargs\u001b[0m\u001b[0;34m[\u001b[0m\u001b[0mr_k\u001b[0m\u001b[0;34m]\u001b[0m \u001b[0;34m=\u001b[0m \u001b[0mv\u001b[0m\u001b[0;34m\u001b[0m\u001b[0m\n\u001b[0;32m--> 178\u001b[0;31m         \u001b[0;32mreturn\u001b[0m \u001b[0msuper\u001b[0m\u001b[0;34m(\u001b[0m\u001b[0mSignatureTranslatedFunction\u001b[0m\u001b[0;34m,\u001b[0m \u001b[0mself\u001b[0m\u001b[0;34m)\u001b[0m\u001b[0;34m.\u001b[0m\u001b[0m__call__\u001b[0m\u001b[0;34m(\u001b[0m\u001b[0;34m*\u001b[0m\u001b[0margs\u001b[0m\u001b[0;34m,\u001b[0m \u001b[0;34m**\u001b[0m\u001b[0mkwargs\u001b[0m\u001b[0;34m)\u001b[0m\u001b[0;34m\u001b[0m\u001b[0m\n\u001b[0m\u001b[1;32m    179\u001b[0m \u001b[0;34m\u001b[0m\u001b[0m\n\u001b[1;32m    180\u001b[0m \u001b[0mpattern_link\u001b[0m \u001b[0;34m=\u001b[0m \u001b[0mre\u001b[0m\u001b[0;34m.\u001b[0m\u001b[0mcompile\u001b[0m\u001b[0;34m(\u001b[0m\u001b[0;34mr'\\\\link\\{(.+?)\\}'\u001b[0m\u001b[0;34m)\u001b[0m\u001b[0;34m\u001b[0m\u001b[0m\n",
      "\u001b[0;32m/Users/nipunbatra/anaconda/lib/python2.7/site-packages/rpy2/robjects/functions.pyc\u001b[0m in \u001b[0;36m__call__\u001b[0;34m(self, *args, **kwargs)\u001b[0m\n\u001b[1;32m    104\u001b[0m         \u001b[0;32mfor\u001b[0m \u001b[0mk\u001b[0m\u001b[0;34m,\u001b[0m \u001b[0mv\u001b[0m \u001b[0;32min\u001b[0m \u001b[0mkwargs\u001b[0m\u001b[0;34m.\u001b[0m\u001b[0mitems\u001b[0m\u001b[0;34m(\u001b[0m\u001b[0;34m)\u001b[0m\u001b[0;34m:\u001b[0m\u001b[0;34m\u001b[0m\u001b[0m\n\u001b[1;32m    105\u001b[0m             \u001b[0mnew_kwargs\u001b[0m\u001b[0;34m[\u001b[0m\u001b[0mk\u001b[0m\u001b[0;34m]\u001b[0m \u001b[0;34m=\u001b[0m \u001b[0mconversion\u001b[0m\u001b[0;34m.\u001b[0m\u001b[0mpy2ri\u001b[0m\u001b[0;34m(\u001b[0m\u001b[0mv\u001b[0m\u001b[0;34m)\u001b[0m\u001b[0;34m\u001b[0m\u001b[0m\n\u001b[0;32m--> 106\u001b[0;31m         \u001b[0mres\u001b[0m \u001b[0;34m=\u001b[0m \u001b[0msuper\u001b[0m\u001b[0;34m(\u001b[0m\u001b[0mFunction\u001b[0m\u001b[0;34m,\u001b[0m \u001b[0mself\u001b[0m\u001b[0;34m)\u001b[0m\u001b[0;34m.\u001b[0m\u001b[0m__call__\u001b[0m\u001b[0;34m(\u001b[0m\u001b[0;34m*\u001b[0m\u001b[0mnew_args\u001b[0m\u001b[0;34m,\u001b[0m \u001b[0;34m**\u001b[0m\u001b[0mnew_kwargs\u001b[0m\u001b[0;34m)\u001b[0m\u001b[0;34m\u001b[0m\u001b[0m\n\u001b[0m\u001b[1;32m    107\u001b[0m         \u001b[0mres\u001b[0m \u001b[0;34m=\u001b[0m \u001b[0mconversion\u001b[0m\u001b[0;34m.\u001b[0m\u001b[0mri2ro\u001b[0m\u001b[0;34m(\u001b[0m\u001b[0mres\u001b[0m\u001b[0;34m)\u001b[0m\u001b[0;34m\u001b[0m\u001b[0m\n\u001b[1;32m    108\u001b[0m         \u001b[0;32mreturn\u001b[0m \u001b[0mres\u001b[0m\u001b[0;34m\u001b[0m\u001b[0m\n",
      "\u001b[0;31mRRuntimeError\u001b[0m: Error: Objects of type ts not supported by autoplot.\n"
     ]
    }
   ],
   "source": [
    "autoplot(r_ts_data)"
   ]
  },
  {
   "cell_type": "code",
   "execution_count": 57,
   "metadata": {
    "collapsed": false
   },
   "outputs": [],
   "source": [
    "r_plot = robjects.r(\"\"\"\n",
    " function(data, filename){\n",
    " png(filename=filename)\n",
    " plot(data)\n",
    " dev.off()}\n",
    "\"\"\")"
   ]
  },
  {
   "cell_type": "code",
   "execution_count": 96,
   "metadata": {
    "collapsed": false
   },
   "outputs": [
    {
     "data": {
      "text/plain": [
       "<IntVector - Python:0x114c59560 / R:0x1368f9748>\n",
       "[       1]"
      ]
     },
     "execution_count": 96,
     "metadata": {},
     "output_type": "execute_result"
    }
   ],
   "source": [
    "r_plot(r_ts_data, \"/Users/nipunbatra/Desktop/ts_1.png\")"
   ]
  },
  {
   "cell_type": "code",
   "execution_count": 97,
   "metadata": {
    "collapsed": true
   },
   "outputs": [],
   "source": [
    "from IPython.display import Image"
   ]
  },
  {
   "cell_type": "code",
   "execution_count": 98,
   "metadata": {
    "collapsed": false
   },
   "outputs": [
    {
     "data": {
      "image/png": "[encoded data removed]",
      "text/plain": [
       "<IPython.core.display.Image object>"
      ]
     },
     "execution_count": 98,
     "metadata": {},
     "output_type": "execute_result"
    }
   ],
   "source": [
    "Image(\"/Users/nipunbatra/Desktop/ts_1.png\")"
   ]
  },
  {
   "cell_type": "code",
   "execution_count": 99,
   "metadata": {
    "collapsed": false
   },
   "outputs": [],
   "source": [
    "r_ts_decomposed = r_stl(r_ts_data, 12)"
   ]
  },
  {
   "cell_type": "code",
   "execution_count": 100,
   "metadata": {
    "collapsed": false
   },
   "outputs": [
    {
     "data": {
      "text/plain": [
       "<IntVector - Python:0x1183488c0 / R:0x134cfce68>\n",
       "[       1]"
      ]
     },
     "execution_count": 100,
     "metadata": {},
     "output_type": "execute_result"
    }
   ],
   "source": [
    "r_plot(r_ts_decomposed, \"/Users/nipunbatra/Desktop/decomposed.png\")"
   ]
  },
  {
   "cell_type": "code",
   "execution_count": 101,
   "metadata": {
    "collapsed": false
   },
   "outputs": [
    {
     "data": {
      "image/png": "[encoded data removed]",
      "text/plain": [
       "<IPython.core.display.Image object>"
      ]
     },
     "execution_count": 101,
     "metadata": {},
     "output_type": "execute_result"
    }
   ],
   "source": [
    "Image(\"/Users/nipunbatra/Desktop/decomposed.png\")"
   ]
  },
  {
   "cell_type": "markdown",
   "metadata": {},
   "source": [
    "This looks great. Let us now write a small Python class which takes in a Pandas timeseries and uses R's stl for decomposition and returns a dataframe consisting of data and three other timeseries."
   ]
  },
  {
   "cell_type": "code",
   "execution_count": 228,
   "metadata": {
    "collapsed": false
   },
   "outputs": [],
   "source": [
    "class PYSTL(object):\n",
    "    \n",
    "    def convert_pd_freqstr(df):\n",
    "    \n",
    "        freqstr = df.index.freq.freqstr\n",
    "        freq_interval = freqstr[-1]\n",
    "        if len(freqstr)>1:\n",
    "            freq_number = int(freqstr[:-1])\n",
    "        else:\n",
    "            freq_number=1\n",
    "        if freq_interval is 'Y':\n",
    "            return 1.0/freq_number\n",
    "        elif freq_interval is 'M':\n",
    "            return 12.0/freq_number\n",
    "        elif freq_interval is 'D':\n",
    "            return 365.0/freq_number\n",
    "\n",
    "\n",
    "    def decompose(self, ser, np=12):\n",
    "        from rpy2 import robjects\n",
    "        from numpy import asarray\n",
    "        \n",
    "        r_stl = robjects.r['stl']\n",
    "        r_ts = robjects.r['ts']\n",
    "        start = robjects.IntVector([ser.index[0].year, ser.index[0].month, ser.index[0].day])\n",
    "        freq = convert_pd_freqstr(ser)\n",
    "        r_ts_data = r_ts(robjects.FloatVector(asarray(ser)), start=start, frequency=freq)\n",
    "        r_decomposed = r_stl(r_ts_data, freq)\n",
    "        res_ts = asarray(r_decomposed[0])\n",
    "        res_ts = pd.DataFrame({\"data\":data,\n",
    "                                    \"seasonal\" : pd.Series(res_ts[:,0],\n",
    "                                                           index=data.index),\n",
    "                                   \"trend\" : pd.Series(res_ts[:,1],\n",
    "                                                           index=data.index),\n",
    "                                   \"remainder\" : pd.Series(res_ts[:,2],\n",
    "                                                           index=data.index)})\n",
    "        \n",
    "        res_ts = res_ts[['data','seasonal','trend','remainder']]\n",
    "        self.decomposed = res_ts\n",
    "        return res_ts\n",
    "    \n",
    "    def plot(self, **kwargs):\n",
    "        ax = self.decomposed.plot(subplots=True, legend=False, **kwargs)\n",
    "        plt.tight_layout()\n",
    "        ax[0].set_ylabel(\"data\")\n",
    "        ax[1].set_ylabel(\"seasonal\")\n",
    "        ax[2].set_ylabel(\"trend\")\n",
    "        ax[3].set_ylabel(\"remainder\")\n",
    "        ax[3].set_xlabel(\"Time\")\n",
    "        \n",
    "\n",
    "        "
   ]
  },
  {
   "cell_type": "code",
   "execution_count": 229,
   "metadata": {
    "collapsed": false
   },
   "outputs": [],
   "source": [
    "pystl = PYSTL()"
   ]
  },
  {
   "cell_type": "code",
   "execution_count": 230,
   "metadata": {
    "collapsed": false
   },
   "outputs": [
    {
     "data": {
      "text/html": [
       "<div>\n",
       "<table border=\"1\" class=\"dataframe\">\n",
       "  <thead>\n",
       "    <tr style=\"text-align: right;\">\n",
       "      <th></th>\n",
       "      <th>data</th>\n",
       "      <th>seasonal</th>\n",
       "      <th>trend</th>\n",
       "      <th>remainder</th>\n",
       "    </tr>\n",
       "  </thead>\n",
       "  <tbody>\n",
       "    <tr>\n",
       "      <th>1999-01-31</th>\n",
       "      <td>0.220280</td>\n",
       "      <td>-0.037323</td>\n",
       "      <td>0.117639</td>\n",
       "      <td>0.139964</td>\n",
       "    </tr>\n",
       "    <tr>\n",
       "      <th>1999-02-28</th>\n",
       "      <td>0.646351</td>\n",
       "      <td>0.458148</td>\n",
       "      <td>0.145127</td>\n",
       "      <td>0.043076</td>\n",
       "    </tr>\n",
       "    <tr>\n",
       "      <th>1999-03-31</th>\n",
       "      <td>0.811693</td>\n",
       "      <td>0.815354</td>\n",
       "      <td>0.172615</td>\n",
       "      <td>-0.176276</td>\n",
       "    </tr>\n",
       "    <tr>\n",
       "      <th>1999-04-30</th>\n",
       "      <td>1.238139</td>\n",
       "      <td>1.013559</td>\n",
       "      <td>0.200103</td>\n",
       "      <td>0.024476</td>\n",
       "    </tr>\n",
       "    <tr>\n",
       "      <th>1999-05-31</th>\n",
       "      <td>1.011014</td>\n",
       "      <td>0.850605</td>\n",
       "      <td>0.227665</td>\n",
       "      <td>-0.067255</td>\n",
       "    </tr>\n",
       "  </tbody>\n",
       "</table>\n",
       "</div>"
      ],
      "text/plain": [
       "                data  seasonal     trend  remainder\n",
       "1999-01-31  0.220280 -0.037323  0.117639   0.139964\n",
       "1999-02-28  0.646351  0.458148  0.145127   0.043076\n",
       "1999-03-31  0.811693  0.815354  0.172615  -0.176276\n",
       "1999-04-30  1.238139  1.013559  0.200103   0.024476\n",
       "1999-05-31  1.011014  0.850605  0.227665  -0.067255"
      ]
     },
     "execution_count": 230,
     "metadata": {},
     "output_type": "execute_result"
    }
   ],
   "source": [
    "pystl.decompose(data).head()"
   ]
  },
  {
   "cell_type": "code",
   "execution_count": 231,
   "metadata": {
    "collapsed": false
   },
   "outputs": [
    {
     "data": {
      "image/png": "[encoded data removed]",
      "text/plain": [
       "<matplotlib.figure.Figure at 0x12816ba50>"
      ]
     },
     "metadata": {},
     "output_type": "display_data"
    }
   ],
   "source": [
    "pystl.plot(figsize=(12,6))"
   ]
  },
  {
   "cell_type": "code",
   "execution_count": 234,
   "metadata": {
    "collapsed": true
   },
   "outputs": [],
   "source": [
    "find_freq_r = robjects.r(\"\"\"\n",
    "find.freq <- function(x)\n",
    "{\n",
    "    n <- length(x)\n",
    "    spec <- spec.ar(c(x),plot=FALSE)\n",
    "    if(max(spec$spec)>10) # Arbitrary threshold chosen by trial and error.\n",
    "    {\n",
    "        period <- round(1/spec$freq[which.max(spec$spec)])\n",
    "        if(period==Inf) # Find next local maximum\n",
    "        {\n",
    "            j <- which(diff(spec$spec)>0)\n",
    "            if(length(j)>0)\n",
    "            {\n",
    "                nextmax <- j[1] + which.max(spec$spec[j[1]:500])\n",
    "                period <- round(1/spec$freq[nextmax])\n",
    "            }\n",
    "            else\n",
    "                period <- 1\n",
    "        }\n",
    "    }\n",
    "    else\n",
    "        period <- 1\n",
    "    return(period)\n",
    "}\n",
    "\"\"\")"
   ]
  },
  {
   "cell_type": "code",
   "execution_count": 235,
   "metadata": {
    "collapsed": false
   },
   "outputs": [],
   "source": [
    "def find_freq(data):\n",
    "    r_data = pandas2ri.py2ri(data)\n",
    "    return find_freq_r(r_data)[0]"
   ]
  },
  {
   "cell_type": "code",
   "execution_count": 245,
   "metadata": {
    "collapsed": false
   },
   "outputs": [
    {
     "data": {
      "text/plain": [
       "12.0"
      ]
     },
     "execution_count": 245,
     "metadata": {},
     "output_type": "execute_result"
    }
   ],
   "source": [
    "find_freq(data[:110])"
   ]
  },
  {
   "cell_type": "code",
   "execution_count": 153,
   "metadata": {
    "collapsed": false
   },
   "outputs": [],
   "source": [
    "ser = data.copy()\n",
    "from rpy2 import robjects\n",
    "from numpy import asarray\n",
    "r_stl = robjects.r['stl']\n",
    "r_ts = robjects.r['ts']\n",
    "start = robjects.IntVector([ser.index[0].year, ser.index[0].month, ser.index[0].day])\n",
    "freq = convert_pd_freqstr(ser)\n",
    "r_ser = r_ts(robjects.FloatVector(asarray(ser)), start=start, frequency=int(freq))"
   ]
  },
  {
   "cell_type": "code",
   "execution_count": 158,
   "metadata": {
    "collapsed": false
   },
   "outputs": [
    {
     "data": {
      "text/plain": [
       "<FloatVector - Python:0x11f222ea8 / R:0x11f308b00>\n",
       "[0.220280, 0.646351, 0.811693, ..., 2.517668, 2.894672, 3.453496]"
      ]
     },
     "execution_count": 158,
     "metadata": {},
     "output_type": "execute_result"
    }
   ],
   "source": [
    "r_ser"
   ]
  },
  {
   "cell_type": "code",
   "execution_count": 155,
   "metadata": {
    "collapsed": false
   },
   "outputs": [
    {
     "data": {
      "image/png": "[encoded data removed]",
      "text/plain": [
       "<IPython.core.display.Image object>"
      ]
     },
     "execution_count": 155,
     "metadata": {},
     "output_type": "execute_result"
    }
   ],
   "source": [
    "r_plot(r_ser, \"/Users/nipunbatra/Desktop/test.png\")\n",
    "Image(\"/Users/nipunbatra/Desktop/test.png\")"
   ]
  },
  {
   "cell_type": "code",
   "execution_count": 237,
   "metadata": {
    "collapsed": false
   },
   "outputs": [
    {
     "ename": "RRuntimeError",
     "evalue": "Error in (function (x, s.window, s.degree = 0, t.window = NULL, t.degree = 1,  : \n  series is not periodic or has less than two periods\n",
     "output_type": "error",
     "traceback": [
      "\u001b[0;31m---------------------------------------------------------------------------\u001b[0m",
      "\u001b[0;31mRRuntimeError\u001b[0m                             Traceback (most recent call last)",
      "\u001b[0;32m<ipython-input-237-d454d9e00247>\u001b[0m in \u001b[0;36m<module>\u001b[0;34m()\u001b[0m\n\u001b[0;32m----> 1\u001b[0;31m \u001b[0mrobjects\u001b[0m\u001b[0;34m.\u001b[0m\u001b[0mr\u001b[0m\u001b[0;34m[\u001b[0m\u001b[0;34m'stl'\u001b[0m\u001b[0;34m]\u001b[0m\u001b[0;34m(\u001b[0m\u001b[0mrd\u001b[0m\u001b[0;34m,\u001b[0m \u001b[0;36m12\u001b[0m\u001b[0;34m)\u001b[0m\u001b[0;34m\u001b[0m\u001b[0m\n\u001b[0m",
      "\u001b[0;32m/Users/nipunbatra/anaconda/lib/python2.7/site-packages/rpy2/robjects/functions.pyc\u001b[0m in \u001b[0;36m__call__\u001b[0;34m(self, *args, **kwargs)\u001b[0m\n\u001b[1;32m    176\u001b[0m                 \u001b[0mv\u001b[0m \u001b[0;34m=\u001b[0m \u001b[0mkwargs\u001b[0m\u001b[0;34m.\u001b[0m\u001b[0mpop\u001b[0m\u001b[0;34m(\u001b[0m\u001b[0mk\u001b[0m\u001b[0;34m)\u001b[0m\u001b[0;34m\u001b[0m\u001b[0m\n\u001b[1;32m    177\u001b[0m                 \u001b[0mkwargs\u001b[0m\u001b[0;34m[\u001b[0m\u001b[0mr_k\u001b[0m\u001b[0;34m]\u001b[0m \u001b[0;34m=\u001b[0m \u001b[0mv\u001b[0m\u001b[0;34m\u001b[0m\u001b[0m\n\u001b[0;32m--> 178\u001b[0;31m         \u001b[0;32mreturn\u001b[0m \u001b[0msuper\u001b[0m\u001b[0;34m(\u001b[0m\u001b[0mSignatureTranslatedFunction\u001b[0m\u001b[0;34m,\u001b[0m \u001b[0mself\u001b[0m\u001b[0;34m)\u001b[0m\u001b[0;34m.\u001b[0m\u001b[0m__call__\u001b[0m\u001b[0;34m(\u001b[0m\u001b[0;34m*\u001b[0m\u001b[0margs\u001b[0m\u001b[0;34m,\u001b[0m \u001b[0;34m**\u001b[0m\u001b[0mkwargs\u001b[0m\u001b[0;34m)\u001b[0m\u001b[0;34m\u001b[0m\u001b[0m\n\u001b[0m\u001b[1;32m    179\u001b[0m \u001b[0;34m\u001b[0m\u001b[0m\n\u001b[1;32m    180\u001b[0m \u001b[0mpattern_link\u001b[0m \u001b[0;34m=\u001b[0m \u001b[0mre\u001b[0m\u001b[0;34m.\u001b[0m\u001b[0mcompile\u001b[0m\u001b[0;34m(\u001b[0m\u001b[0;34mr'\\\\link\\{(.+?)\\}'\u001b[0m\u001b[0;34m)\u001b[0m\u001b[0;34m\u001b[0m\u001b[0m\n",
      "\u001b[0;32m/Users/nipunbatra/anaconda/lib/python2.7/site-packages/rpy2/robjects/functions.pyc\u001b[0m in \u001b[0;36m__call__\u001b[0;34m(self, *args, **kwargs)\u001b[0m\n\u001b[1;32m    104\u001b[0m         \u001b[0;32mfor\u001b[0m \u001b[0mk\u001b[0m\u001b[0;34m,\u001b[0m \u001b[0mv\u001b[0m \u001b[0;32min\u001b[0m \u001b[0mkwargs\u001b[0m\u001b[0;34m.\u001b[0m\u001b[0mitems\u001b[0m\u001b[0;34m(\u001b[0m\u001b[0;34m)\u001b[0m\u001b[0;34m:\u001b[0m\u001b[0;34m\u001b[0m\u001b[0m\n\u001b[1;32m    105\u001b[0m             \u001b[0mnew_kwargs\u001b[0m\u001b[0;34m[\u001b[0m\u001b[0mk\u001b[0m\u001b[0;34m]\u001b[0m \u001b[0;34m=\u001b[0m \u001b[0mconversion\u001b[0m\u001b[0;34m.\u001b[0m\u001b[0mpy2ri\u001b[0m\u001b[0;34m(\u001b[0m\u001b[0mv\u001b[0m\u001b[0;34m)\u001b[0m\u001b[0;34m\u001b[0m\u001b[0m\n\u001b[0;32m--> 106\u001b[0;31m         \u001b[0mres\u001b[0m \u001b[0;34m=\u001b[0m \u001b[0msuper\u001b[0m\u001b[0;34m(\u001b[0m\u001b[0mFunction\u001b[0m\u001b[0;34m,\u001b[0m \u001b[0mself\u001b[0m\u001b[0;34m)\u001b[0m\u001b[0;34m.\u001b[0m\u001b[0m__call__\u001b[0m\u001b[0;34m(\u001b[0m\u001b[0;34m*\u001b[0m\u001b[0mnew_args\u001b[0m\u001b[0;34m,\u001b[0m \u001b[0;34m**\u001b[0m\u001b[0mnew_kwargs\u001b[0m\u001b[0;34m)\u001b[0m\u001b[0;34m\u001b[0m\u001b[0m\n\u001b[0m\u001b[1;32m    107\u001b[0m         \u001b[0mres\u001b[0m \u001b[0;34m=\u001b[0m \u001b[0mconversion\u001b[0m\u001b[0;34m.\u001b[0m\u001b[0mri2ro\u001b[0m\u001b[0;34m(\u001b[0m\u001b[0mres\u001b[0m\u001b[0;34m)\u001b[0m\u001b[0;34m\u001b[0m\u001b[0m\n\u001b[1;32m    108\u001b[0m         \u001b[0;32mreturn\u001b[0m \u001b[0mres\u001b[0m\u001b[0;34m\u001b[0m\u001b[0m\n",
      "\u001b[0;31mRRuntimeError\u001b[0m: Error in (function (x, s.window, s.degree = 0, t.window = NULL, t.degree = 1,  : \n  series is not periodic or has less than two periods\n"
     ]
    }
   ],
   "source": [
    "robjects.r['stl'](rd, 12)"
   ]
  },
  {
   "cell_type": "code",
   "execution_count": 224,
   "metadata": {
    "collapsed": false
   },
   "outputs": [
    {
     "ename": "RRuntimeError",
     "evalue": "Error in (function (x, s.window, s.degree = 0, t.window = NULL, t.degree = 1,  : \n  series is not periodic or has less than two periods\n",
     "output_type": "error",
     "traceback": [
      "\u001b[0;31m---------------------------------------------------------------------------\u001b[0m",
      "\u001b[0;31mRRuntimeError\u001b[0m                             Traceback (most recent call last)",
      "\u001b[0;32m<ipython-input-224-e034fb65bfef>\u001b[0m in \u001b[0;36m<module>\u001b[0;34m()\u001b[0m\n\u001b[0;32m----> 1\u001b[0;31m \u001b[0mrobjects\u001b[0m\u001b[0;34m.\u001b[0m\u001b[0mr\u001b[0m\u001b[0;34m[\u001b[0m\u001b[0;34m'stl'\u001b[0m\u001b[0;34m]\u001b[0m\u001b[0;34m(\u001b[0m\u001b[0mnottem_ser\u001b[0m\u001b[0;34m,\u001b[0m\u001b[0;36m7\u001b[0m\u001b[0;34m)\u001b[0m\u001b[0;34m\u001b[0m\u001b[0m\n\u001b[0m",
      "\u001b[0;32m/Users/nipunbatra/anaconda/lib/python2.7/site-packages/rpy2/robjects/functions.pyc\u001b[0m in \u001b[0;36m__call__\u001b[0;34m(self, *args, **kwargs)\u001b[0m\n\u001b[1;32m    176\u001b[0m                 \u001b[0mv\u001b[0m \u001b[0;34m=\u001b[0m \u001b[0mkwargs\u001b[0m\u001b[0;34m.\u001b[0m\u001b[0mpop\u001b[0m\u001b[0;34m(\u001b[0m\u001b[0mk\u001b[0m\u001b[0;34m)\u001b[0m\u001b[0;34m\u001b[0m\u001b[0m\n\u001b[1;32m    177\u001b[0m                 \u001b[0mkwargs\u001b[0m\u001b[0;34m[\u001b[0m\u001b[0mr_k\u001b[0m\u001b[0;34m]\u001b[0m \u001b[0;34m=\u001b[0m \u001b[0mv\u001b[0m\u001b[0;34m\u001b[0m\u001b[0m\n\u001b[0;32m--> 178\u001b[0;31m         \u001b[0;32mreturn\u001b[0m \u001b[0msuper\u001b[0m\u001b[0;34m(\u001b[0m\u001b[0mSignatureTranslatedFunction\u001b[0m\u001b[0;34m,\u001b[0m \u001b[0mself\u001b[0m\u001b[0;34m)\u001b[0m\u001b[0;34m.\u001b[0m\u001b[0m__call__\u001b[0m\u001b[0;34m(\u001b[0m\u001b[0;34m*\u001b[0m\u001b[0margs\u001b[0m\u001b[0;34m,\u001b[0m \u001b[0;34m**\u001b[0m\u001b[0mkwargs\u001b[0m\u001b[0;34m)\u001b[0m\u001b[0;34m\u001b[0m\u001b[0m\n\u001b[0m\u001b[1;32m    179\u001b[0m \u001b[0;34m\u001b[0m\u001b[0m\n\u001b[1;32m    180\u001b[0m \u001b[0mpattern_link\u001b[0m \u001b[0;34m=\u001b[0m \u001b[0mre\u001b[0m\u001b[0;34m.\u001b[0m\u001b[0mcompile\u001b[0m\u001b[0;34m(\u001b[0m\u001b[0;34mr'\\\\link\\{(.+?)\\}'\u001b[0m\u001b[0;34m)\u001b[0m\u001b[0;34m\u001b[0m\u001b[0m\n",
      "\u001b[0;32m/Users/nipunbatra/anaconda/lib/python2.7/site-packages/rpy2/robjects/functions.pyc\u001b[0m in \u001b[0;36m__call__\u001b[0;34m(self, *args, **kwargs)\u001b[0m\n\u001b[1;32m    104\u001b[0m         \u001b[0;32mfor\u001b[0m \u001b[0mk\u001b[0m\u001b[0;34m,\u001b[0m \u001b[0mv\u001b[0m \u001b[0;32min\u001b[0m \u001b[0mkwargs\u001b[0m\u001b[0;34m.\u001b[0m\u001b[0mitems\u001b[0m\u001b[0;34m(\u001b[0m\u001b[0;34m)\u001b[0m\u001b[0;34m:\u001b[0m\u001b[0;34m\u001b[0m\u001b[0m\n\u001b[1;32m    105\u001b[0m             \u001b[0mnew_kwargs\u001b[0m\u001b[0;34m[\u001b[0m\u001b[0mk\u001b[0m\u001b[0;34m]\u001b[0m \u001b[0;34m=\u001b[0m \u001b[0mconversion\u001b[0m\u001b[0;34m.\u001b[0m\u001b[0mpy2ri\u001b[0m\u001b[0;34m(\u001b[0m\u001b[0mv\u001b[0m\u001b[0;34m)\u001b[0m\u001b[0;34m\u001b[0m\u001b[0m\n\u001b[0;32m--> 106\u001b[0;31m         \u001b[0mres\u001b[0m \u001b[0;34m=\u001b[0m \u001b[0msuper\u001b[0m\u001b[0;34m(\u001b[0m\u001b[0mFunction\u001b[0m\u001b[0;34m,\u001b[0m \u001b[0mself\u001b[0m\u001b[0;34m)\u001b[0m\u001b[0;34m.\u001b[0m\u001b[0m__call__\u001b[0m\u001b[0;34m(\u001b[0m\u001b[0;34m*\u001b[0m\u001b[0mnew_args\u001b[0m\u001b[0;34m,\u001b[0m \u001b[0;34m**\u001b[0m\u001b[0mnew_kwargs\u001b[0m\u001b[0;34m)\u001b[0m\u001b[0;34m\u001b[0m\u001b[0m\n\u001b[0m\u001b[1;32m    107\u001b[0m         \u001b[0mres\u001b[0m \u001b[0;34m=\u001b[0m \u001b[0mconversion\u001b[0m\u001b[0;34m.\u001b[0m\u001b[0mri2ro\u001b[0m\u001b[0;34m(\u001b[0m\u001b[0mres\u001b[0m\u001b[0;34m)\u001b[0m\u001b[0;34m\u001b[0m\u001b[0m\n\u001b[1;32m    108\u001b[0m         \u001b[0;32mreturn\u001b[0m \u001b[0mres\u001b[0m\u001b[0;34m\u001b[0m\u001b[0m\n",
      "\u001b[0;31mRRuntimeError\u001b[0m: Error in (function (x, s.window, s.degree = 0, t.window = NULL, t.degree = 1,  : \n  series is not periodic or has less than two periods\n"
     ]
    }
   ],
   "source": [
    "robjects.r['stl'](nottem_ser,7)"
   ]
  },
  {
   "cell_type": "code",
   "execution_count": null,
   "metadata": {
    "collapsed": true
   },
   "outputs": [],
   "source": []
  }
 ],
 "metadata": {
  "kernelspec": {
   "display_name": "Python 2",
   "language": "python",
   "name": "python2"
  },
  "language_info": {
   "codemirror_mode": {
    "name": "ipython",
    "version": 2
   },
   "file_extension": ".py",
   "mimetype": "text/x-python",
   "name": "python",
   "nbconvert_exporter": "python",
   "pygments_lexer": "ipython2",
   "version": "2.7.11"
  }
 },
 "nbformat": 4,
 "nbformat_minor": 0
}
