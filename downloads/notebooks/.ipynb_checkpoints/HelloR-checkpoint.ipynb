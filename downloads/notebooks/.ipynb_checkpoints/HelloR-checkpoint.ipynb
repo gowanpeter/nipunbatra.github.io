{
 "cells": [
  {
   "cell_type": "markdown",
   "metadata": {},
   "source": [
    "I typically use Python for my data analysis. However, there are many packages which exist only in R. RPy2 allows interaction between R and Python. The installation on OSX wasn't straighforward. The first part of this post explains how I was able to install RPy2 on OSX. In the next part, I give some sample usage."
   ]
  },
  {
   "cell_type": "markdown",
   "metadata": {},
   "source": [
    "### Installing RPY2"
   ]
  },
  {
   "cell_type": "markdown",
   "metadata": {},
   "source": [
    "I assume that R was installed to the default location. First, we need to edit \n",
    "```\n",
    "/opt/local/Library/Frameworks/R.framework/Resources/etc/Makeconf\n",
    "```\n",
    "\n",
    "and change the following line \n",
    "\n",
    "```\n",
    "LIBS =  -lpcre -lbz2 -lz -lm -liconv -licuuc -licui18n\n",
    "``` \n",
    "\n",
    "TO\n",
    "\n",
    "```\n",
    "LIBS = -lpcre -lbz2 -lz -lm -liconv\n",
    "```\n",
    "\n",
    "Next, I used Conda to install rpy2 following instructions on [this Stack Overflow question](http://stackoverflow.com/questions/24987932/installing-rpy2-on-mac-osx-with-anaconda-python-3-4-and-r-3-1-installed-via-macp).\n",
    "\n",
    "```bash\n",
    "conda skeleton pypi rpy2\n",
    "conda build rpy2\n",
    "conda install rpy2 --use-local\n",
    "```"
   ]
  },
  {
   "cell_type": "markdown",
   "metadata": {},
   "source": [
    "### Sample usage"
   ]
  },
  {
   "cell_type": "code",
   "execution_count": 10,
   "metadata": {
    "collapsed": false
   },
   "outputs": [],
   "source": [
    "import pandas as pd\n",
    "import numpy as np\n",
    "import matplotlib.pyplot as plt\n",
    "df = pd.DataFrame(np.random.randn(10,5))"
   ]
  },
  {
   "cell_type": "code",
   "execution_count": 11,
   "metadata": {
    "collapsed": false
   },
   "outputs": [
    {
     "data": {
      "text/html": [
       "<div>\n",
       "<table border=\"1\" class=\"dataframe\">\n",
       "  <thead>\n",
       "    <tr style=\"text-align: right;\">\n",
       "      <th></th>\n",
       "      <th>0</th>\n",
       "      <th>1</th>\n",
       "      <th>2</th>\n",
       "      <th>3</th>\n",
       "      <th>4</th>\n",
       "    </tr>\n",
       "  </thead>\n",
       "  <tbody>\n",
       "    <tr>\n",
       "      <th>0</th>\n",
       "      <td>-0.109199</td>\n",
       "      <td>-0.484883</td>\n",
       "      <td>0.811473</td>\n",
       "      <td>1.686629</td>\n",
       "      <td>-0.830384</td>\n",
       "    </tr>\n",
       "    <tr>\n",
       "      <th>1</th>\n",
       "      <td>-0.834123</td>\n",
       "      <td>-1.285800</td>\n",
       "      <td>1.410968</td>\n",
       "      <td>-0.725307</td>\n",
       "      <td>1.072794</td>\n",
       "    </tr>\n",
       "    <tr>\n",
       "      <th>2</th>\n",
       "      <td>0.290833</td>\n",
       "      <td>1.778150</td>\n",
       "      <td>0.638011</td>\n",
       "      <td>-0.811454</td>\n",
       "      <td>-0.135623</td>\n",
       "    </tr>\n",
       "    <tr>\n",
       "      <th>3</th>\n",
       "      <td>-0.394996</td>\n",
       "      <td>-0.240359</td>\n",
       "      <td>-0.298879</td>\n",
       "      <td>0.659799</td>\n",
       "      <td>-0.228504</td>\n",
       "    </tr>\n",
       "    <tr>\n",
       "      <th>4</th>\n",
       "      <td>0.784954</td>\n",
       "      <td>-0.813065</td>\n",
       "      <td>-1.286696</td>\n",
       "      <td>-0.008936</td>\n",
       "      <td>-1.155361</td>\n",
       "    </tr>\n",
       "  </tbody>\n",
       "</table>\n",
       "</div>"
      ],
      "text/plain": [
       "          0         1         2         3         4\n",
       "0 -0.109199 -0.484883  0.811473  1.686629 -0.830384\n",
       "1 -0.834123 -1.285800  1.410968 -0.725307  1.072794\n",
       "2  0.290833  1.778150  0.638011 -0.811454 -0.135623\n",
       "3 -0.394996 -0.240359 -0.298879  0.659799 -0.228504\n",
       "4  0.784954 -0.813065 -1.286696 -0.008936 -1.155361"
      ]
     },
     "execution_count": 11,
     "metadata": {},
     "output_type": "execute_result"
    }
   ],
   "source": [
    "df.head()"
   ]
  },
  {
   "cell_type": "code",
   "execution_count": 12,
   "metadata": {
    "collapsed": false
   },
   "outputs": [
    {
     "data": {
      "text/html": [
       "<div>\n",
       "<table border=\"1\" class=\"dataframe\">\n",
       "  <thead>\n",
       "    <tr style=\"text-align: right;\">\n",
       "      <th></th>\n",
       "      <th>0</th>\n",
       "      <th>1</th>\n",
       "      <th>2</th>\n",
       "      <th>3</th>\n",
       "      <th>4</th>\n",
       "    </tr>\n",
       "  </thead>\n",
       "  <tbody>\n",
       "    <tr>\n",
       "      <th>count</th>\n",
       "      <td>10.000000</td>\n",
       "      <td>10.000000</td>\n",
       "      <td>10.000000</td>\n",
       "      <td>10.000000</td>\n",
       "      <td>10.000000</td>\n",
       "    </tr>\n",
       "    <tr>\n",
       "      <th>mean</th>\n",
       "      <td>-0.096310</td>\n",
       "      <td>0.081223</td>\n",
       "      <td>-0.118384</td>\n",
       "      <td>0.321359</td>\n",
       "      <td>-0.476276</td>\n",
       "    </tr>\n",
       "    <tr>\n",
       "      <th>std</th>\n",
       "      <td>1.124557</td>\n",
       "      <td>0.941040</td>\n",
       "      <td>0.876442</td>\n",
       "      <td>0.812371</td>\n",
       "      <td>0.937087</td>\n",
       "    </tr>\n",
       "    <tr>\n",
       "      <th>min</th>\n",
       "      <td>-1.836006</td>\n",
       "      <td>-1.285800</td>\n",
       "      <td>-1.286696</td>\n",
       "      <td>-0.811454</td>\n",
       "      <td>-2.336085</td>\n",
       "    </tr>\n",
       "    <tr>\n",
       "      <th>25%</th>\n",
       "      <td>-0.724341</td>\n",
       "      <td>-0.460527</td>\n",
       "      <td>-0.846898</td>\n",
       "      <td>-0.170075</td>\n",
       "      <td>-0.868087</td>\n",
       "    </tr>\n",
       "    <tr>\n",
       "      <th>50%</th>\n",
       "      <td>-0.228049</td>\n",
       "      <td>-0.236871</td>\n",
       "      <td>-0.282755</td>\n",
       "      <td>0.295095</td>\n",
       "      <td>-0.421804</td>\n",
       "    </tr>\n",
       "    <tr>\n",
       "      <th>75%</th>\n",
       "      <td>0.488334</td>\n",
       "      <td>0.805611</td>\n",
       "      <td>0.545028</td>\n",
       "      <td>0.740733</td>\n",
       "      <td>-0.158843</td>\n",
       "    </tr>\n",
       "    <tr>\n",
       "      <th>max</th>\n",
       "      <td>2.149441</td>\n",
       "      <td>1.778150</td>\n",
       "      <td>1.410968</td>\n",
       "      <td>1.686629</td>\n",
       "      <td>1.072794</td>\n",
       "    </tr>\n",
       "  </tbody>\n",
       "</table>\n",
       "</div>"
      ],
      "text/plain": [
       "               0          1          2          3          4\n",
       "count  10.000000  10.000000  10.000000  10.000000  10.000000\n",
       "mean   -0.096310   0.081223  -0.118384   0.321359  -0.476276\n",
       "std     1.124557   0.941040   0.876442   0.812371   0.937087\n",
       "min    -1.836006  -1.285800  -1.286696  -0.811454  -2.336085\n",
       "25%    -0.724341  -0.460527  -0.846898  -0.170075  -0.868087\n",
       "50%    -0.228049  -0.236871  -0.282755   0.295095  -0.421804\n",
       "75%     0.488334   0.805611   0.545028   0.740733  -0.158843\n",
       "max     2.149441   1.778150   1.410968   1.686629   1.072794"
      ]
     },
     "execution_count": 12,
     "metadata": {},
     "output_type": "execute_result"
    }
   ],
   "source": [
    "df.describe()"
   ]
  },
  {
   "cell_type": "code",
   "execution_count": 13,
   "metadata": {
    "collapsed": false
   },
   "outputs": [],
   "source": [
    "from rpy2.robjects import pandas2ri\n",
    "pandas2ri.activate()"
   ]
  },
  {
   "cell_type": "markdown",
   "metadata": {},
   "source": [
    "### Creating an R data drame corresponding to `df`"
   ]
  },
  {
   "cell_type": "code",
   "execution_count": 14,
   "metadata": {
    "collapsed": true
   },
   "outputs": [],
   "source": [
    "rdf = pandas2ri.py2ri(df)"
   ]
  },
  {
   "cell_type": "code",
   "execution_count": 15,
   "metadata": {
    "collapsed": false
   },
   "outputs": [
    {
     "data": {
      "text/plain": [
       "<DataFrame - Python:0x1141ebf38 / R:0x1009855b0>\n",
       "[Array, Array, Array, Array, Array]\n",
       "  X0: <class 'rpy2.robjects.vectors.Array'>\n",
       "  <Array - Python:0x1141ed368 / R:0x1120a2548>\n",
       "[-0.109199, -0.834123, 0.290833, ..., -1.221273, 0.554167, 2.149441]\n",
       "  X1: <class 'rpy2.robjects.vectors.Array'>\n",
       "  <Array - Python:0x1141ed2d8 / R:0x1120a3808>\n",
       "[-0.484883, -1.285800, 1.778150, ..., 0.909395, -0.387461, -0.233383]\n",
       "  X2: <class 'rpy2.robjects.vectors.Array'>\n",
       "  <Array - Python:0x1141ed3b0 / R:0x1120c81f0>\n",
       "[0.811473, 1.410968, 0.638011, ..., -0.940421, -0.566326, -0.951415]\n",
       "  X3: <class 'rpy2.robjects.vectors.Array'>\n",
       "  <Array - Python:0x1141ed488 / R:0x1121987f0>\n",
       "[1.686629, -0.725307, -0.811454, ..., 0.466500, 1.278749, -0.223788]\n",
       "  X4: <class 'rpy2.robjects.vectors.Array'>\n",
       "  <Array - Python:0x1141ed5a8 / R:0x11380a958>\n",
       "[-0.830384, 1.072794, -0.135623, ..., -0.479923, -2.336085, -0.363685]"
      ]
     },
     "execution_count": 15,
     "metadata": {},
     "output_type": "execute_result"
    }
   ],
   "source": [
    "rdf"
   ]
  },
  {
   "cell_type": "code",
   "execution_count": 16,
   "metadata": {
    "collapsed": false
   },
   "outputs": [
    {
     "name": "stdout",
     "output_type": "stream",
     "text": [
      "          X0         X1         X2           X3         X4\n",
      "0 -0.1091990 -0.4848830  0.8114729  1.686629050 -0.8303842\n",
      "1 -0.8341230 -1.2858001  1.4109684 -0.725307160  1.0727939\n",
      "2  0.2908333  1.7781499  0.6380108 -0.811454278 -0.1356233\n",
      "3 -0.3949959 -0.2403594 -0.2988791  0.659799210 -0.2285036\n",
      "4  0.7849540 -0.8130649 -1.2866963 -0.008935847 -1.1553609\n",
      "5 -1.8360065  0.7432235 -0.2666311  0.767711423  0.5746690\n",
      "6 -0.3468995  0.8264074  0.2660812  0.123690417 -0.8806542\n",
      "7 -1.2212734  0.9093955 -0.9404215  0.466499724 -0.4799235\n",
      "8  0.5541671 -0.3874608 -0.5663260  1.278748625 -2.3360854\n",
      "9  2.1494409 -0.2333825 -0.9514155 -0.223788233 -0.3636848\n",
      "\n"
     ]
    }
   ],
   "source": [
    "print(rdf)"
   ]
  },
  {
   "cell_type": "markdown",
   "metadata": {},
   "source": [
    "Now, let us perform some `R` operations on the dataframe"
   ]
  },
  {
   "cell_type": "code",
   "execution_count": 17,
   "metadata": {
    "collapsed": true
   },
   "outputs": [],
   "source": [
    "import rpy2.robjects as robjects"
   ]
  },
  {
   "cell_type": "markdown",
   "metadata": {},
   "source": [
    "From the `rpy2` documentation, \n",
    "\n",
    ">The object r in rpy2.robjects represents the running embedded R process.\n",
    "If familiar with R and the R console, r is a little like a communication channel from Python to R.\n",
    "\n"
   ]
  },
  {
   "cell_type": "markdown",
   "metadata": {},
   "source": [
    "### Calling basic `R` functions"
   ]
  },
  {
   "cell_type": "markdown",
   "metadata": {},
   "source": [
    "* Let us now compute the `head` of our R `dataframe` rdf"
   ]
  },
  {
   "cell_type": "code",
   "execution_count": 33,
   "metadata": {
    "collapsed": false
   },
   "outputs": [],
   "source": [
    "head_df = robjects.r['head']"
   ]
  },
  {
   "cell_type": "code",
   "execution_count": 34,
   "metadata": {
    "collapsed": false
   },
   "outputs": [
    {
     "name": "stdout",
     "output_type": "stream",
     "text": [
      "         X0        X1        X2         X3         X4\n",
      "0 -0.109199 -0.484883 0.8114729  1.6866291 -0.8303842\n",
      "1 -0.834123 -1.285800 1.4109684 -0.7253072  1.0727939\n",
      "\n"
     ]
    }
   ],
   "source": [
    "print(head_df(rdf, 2))"
   ]
  },
  {
   "cell_type": "markdown",
   "metadata": {},
   "source": [
    "* Now, let us find the description of the dataframe"
   ]
  },
  {
   "cell_type": "code",
   "execution_count": 37,
   "metadata": {
    "collapsed": false
   },
   "outputs": [
    {
     "name": "stdout",
     "output_type": "stream",
     "text": [
      "       X0                 X1                 X2                X3         \n",
      " Min.   :-1.83601   Min.   :-1.28580   Min.   :-1.2867   Min.   :-0.8115  \n",
      " 1st Qu.:-0.72434   1st Qu.:-0.46053   1st Qu.:-0.8469   1st Qu.:-0.1701  \n",
      " Median :-0.22805   Median :-0.23687   Median :-0.2828   Median : 0.2951  \n",
      " Mean   :-0.09631   Mean   : 0.08122   Mean   :-0.1184   Mean   : 0.3214  \n",
      " 3rd Qu.: 0.48833   3rd Qu.: 0.80561   3rd Qu.: 0.5450   3rd Qu.: 0.7407  \n",
      " Max.   : 2.14944   Max.   : 1.77815   Max.   : 1.4110   Max.   : 1.6866  \n",
      "       X4         \n",
      " Min.   :-2.3361  \n",
      " 1st Qu.:-0.8681  \n",
      " Median :-0.4218  \n",
      " Mean   :-0.4763  \n",
      " 3rd Qu.:-0.1588  \n",
      " Max.   : 1.0728  \n",
      "\n"
     ]
    }
   ],
   "source": [
    "r_summary =  robjects.r['summary'](rdf)\n",
    "print(r_summary)"
   ]
  },
  {
   "cell_type": "markdown",
   "metadata": {},
   "source": [
    "### A complex example showing various usage scenarios\n"
   ]
  },
  {
   "cell_type": "markdown",
   "metadata": {},
   "source": [
    "Let us take the example of linear regression on faithful geyser data set. First, let us load the `R dataset` into Pandas."
   ]
  },
  {
   "cell_type": "code",
   "execution_count": 54,
   "metadata": {
    "collapsed": false
   },
   "outputs": [],
   "source": [
    "faithful_pandas_df = robjects.r('faithful')"
   ]
  },
  {
   "cell_type": "code",
   "execution_count": 55,
   "metadata": {
    "collapsed": false
   },
   "outputs": [
    {
     "data": {
      "text/plain": [
       "pandas.core.frame.DataFrame"
      ]
     },
     "execution_count": 55,
     "metadata": {},
     "output_type": "execute_result"
    }
   ],
   "source": [
    "type(faithful_pandas_df)"
   ]
  },
  {
   "cell_type": "code",
   "execution_count": 57,
   "metadata": {
    "collapsed": false
   },
   "outputs": [
    {
     "data": {
      "text/html": [
       "<div>\n",
       "<table border=\"1\" class=\"dataframe\">\n",
       "  <thead>\n",
       "    <tr style=\"text-align: right;\">\n",
       "      <th></th>\n",
       "      <th>eruptions</th>\n",
       "      <th>waiting</th>\n",
       "    </tr>\n",
       "  </thead>\n",
       "  <tbody>\n",
       "    <tr>\n",
       "      <th>1</th>\n",
       "      <td>3.600</td>\n",
       "      <td>79</td>\n",
       "    </tr>\n",
       "    <tr>\n",
       "      <th>2</th>\n",
       "      <td>1.800</td>\n",
       "      <td>54</td>\n",
       "    </tr>\n",
       "    <tr>\n",
       "      <th>3</th>\n",
       "      <td>3.333</td>\n",
       "      <td>74</td>\n",
       "    </tr>\n",
       "    <tr>\n",
       "      <th>4</th>\n",
       "      <td>2.283</td>\n",
       "      <td>62</td>\n",
       "    </tr>\n",
       "    <tr>\n",
       "      <th>5</th>\n",
       "      <td>4.533</td>\n",
       "      <td>85</td>\n",
       "    </tr>\n",
       "  </tbody>\n",
       "</table>\n",
       "</div>"
      ],
      "text/plain": [
       "   eruptions  waiting\n",
       "1      3.600       79\n",
       "2      1.800       54\n",
       "3      3.333       74\n",
       "4      2.283       62\n",
       "5      4.533       85"
      ]
     },
     "execution_count": 57,
     "metadata": {},
     "output_type": "execute_result"
    }
   ],
   "source": [
    "faithful_pandas_df.head()"
   ]
  },
  {
   "cell_type": "markdown",
   "metadata": {},
   "source": [
    "Now, let us create an R dataframe from this Python dataframe. It should be noted that we could have directly used the faithful geyser dataset in R. But, I chose to do this extra conversion for purpose of illustration."
   ]
  },
  {
   "cell_type": "code",
   "execution_count": 58,
   "metadata": {
    "collapsed": false
   },
   "outputs": [],
   "source": [
    "faithful_r_df = pandas2ri.py2ri(faithful_pandas_df)"
   ]
  },
  {
   "cell_type": "markdown",
   "metadata": {},
   "source": [
    "Let us take the `head` of the R dataframe and confirm that it is the same as the pandas dataframe."
   ]
  },
  {
   "cell_type": "code",
   "execution_count": 65,
   "metadata": {
    "collapsed": false
   },
   "outputs": [
    {
     "name": "stdout",
     "output_type": "stream",
     "text": [
      "  eruptions waiting\n",
      "1     3.600      79\n",
      "2     1.800      54\n",
      "3     3.333      74\n",
      "4     2.283      62\n",
      "5     4.533      85\n",
      "\n"
     ]
    }
   ],
   "source": [
    "print(robjects.r['head'](faithful_r_df, 5))"
   ]
  },
  {
   "cell_type": "markdown",
   "metadata": {},
   "source": [
    "Great, now let us fit a linear relationship bewteen `#eruptions` and `waiting` as follows:\n",
    "> $$\\mathrm{eruptions} = \\alpha + \\beta\\times\\mathrm{waiting} + \\epsilon$$"
   ]
  },
  {
   "cell_type": "markdown",
   "metadata": {},
   "source": [
    "For the purpose of this illustration, we will assume that there exists no package for linear regression in Python. So, we will be using the `lm` R `stats` package. Our aim would be to create a function in Python that does the following:\n",
    "\n",
    "1. Take as inputs a Pandas dataframe and the relationship string (eg. a ~b+c meeans that a is linear on b and c)\n",
    "2. Use rpy2 interface to convert the Pandas dataframe to R dataframe\n",
    "3. Use `lm` package from R to fit the linear relationship\n",
    "4. Find the coefficients of the fit\n",
    "5. Be able to predict for new data"
   ]
  },
  {
   "cell_type": "markdown",
   "metadata": {},
   "source": [
    "Since we have already done step 2, we'll jump to step 3"
   ]
  },
  {
   "cell_type": "code",
   "execution_count": 72,
   "metadata": {
    "collapsed": true
   },
   "outputs": [],
   "source": [
    "stats = importr('stats')"
   ]
  },
  {
   "cell_type": "code",
   "execution_count": 73,
   "metadata": {
    "collapsed": true
   },
   "outputs": [],
   "source": [
    "fit = stats.lm('eruptions ~ waiting', data=faithful_r_df)"
   ]
  },
  {
   "cell_type": "code",
   "execution_count": 89,
   "metadata": {
    "collapsed": false
   },
   "outputs": [
    {
     "name": "stdout",
     "output_type": "stream",
     "text": [
      " [1] \"coefficients\"  \"residuals\"     \"effects\"       \"rank\"         \n",
      " [5] \"fitted.values\" \"assign\"        \"qr\"            \"df.residual\"  \n",
      " [9] \"xlevels\"       \"call\"          \"terms\"         \"model\"        \n",
      "\n"
     ]
    }
   ],
   "source": [
    "print(fit.names)"
   ]
  },
  {
   "cell_type": "markdown",
   "metadata": {},
   "source": [
    "Let us extract the residuals from the fit R object now."
   ]
  },
  {
   "cell_type": "code",
   "execution_count": 93,
   "metadata": {
    "collapsed": false
   },
   "outputs": [],
   "source": [
    "residuals = fit.rx2('residuals')"
   ]
  },
  {
   "cell_type": "markdown",
   "metadata": {},
   "source": [
    "Viewing the first five residuals"
   ]
  },
  {
   "cell_type": "code",
   "execution_count": 96,
   "metadata": {
    "collapsed": false
   },
   "outputs": [
    {
     "name": "stdout",
     "output_type": "stream",
     "text": [
      "[1] -0.50059190 -0.40989320 -0.38945216 -0.53191679 -0.02135959\n",
      "\n"
     ]
    }
   ],
   "source": [
    "print(residuals[:5])"
   ]
  },
  {
   "cell_type": "markdown",
   "metadata": {},
   "source": [
    "Getting a NumPy array from the residuals"
   ]
  },
  {
   "cell_type": "code",
   "execution_count": 107,
   "metadata": {
    "collapsed": false
   },
   "outputs": [],
   "source": [
    "residuals_numpy = pandas2ri.ri2py(residuals)"
   ]
  },
  {
   "cell_type": "code",
   "execution_count": 108,
   "metadata": {
    "collapsed": false
   },
   "outputs": [
    {
     "data": {
      "text/plain": [
       "array([-0.5005919 , -0.4098932 , -0.38945216, -0.53191679, -0.02135959])"
      ]
     },
     "execution_count": 108,
     "metadata": {},
     "output_type": "execute_result"
    }
   ],
   "source": [
    "residuals_numpy[:5]"
   ]
  },
  {
   "cell_type": "markdown",
   "metadata": {},
   "source": [
    "Let us plot a histogram of these residuals using matplotlib now. For a `good` fit, we would expect a normal distributed residual set."
   ]
  },
  {
   "cell_type": "code",
   "execution_count": 109,
   "metadata": {
    "collapsed": true
   },
   "outputs": [],
   "source": [
    "import matplotlib.pyplot as plt\n",
    "plt.style.use('fivethirtyeight')\n",
    "%matplotlib inline"
   ]
  },
  {
   "cell_type": "code",
   "execution_count": 110,
   "metadata": {
    "collapsed": false
   },
   "outputs": [
    {
     "data": {
      "text/plain": [
       "(array([  8.,   9.,  22.,  42.,  32.,  60.,  46.,  34.,  14.,   5.]),\n",
       " array([-1.29917268, -1.04992622, -0.80067976, -0.5514333 , -0.30218683,\n",
       "        -0.05294037,  0.19630609,  0.44555255,  0.69479902,  0.94404548,\n",
       "         1.19329194]),\n",
       " <a list of 10 Patch objects>)"
      ]
     },
     "execution_count": 110,
     "metadata": {},
     "output_type": "execute_result"
    },
    {
     "data": {
      "image/png": "[encoded data removed]",
      "text/plain": [
       "<matplotlib.figure.Figure at 0x115970610>"
      ]
     },
     "metadata": {},
     "output_type": "display_data"
    }
   ],
   "source": [
    "plt.hist(residuals_numpy)"
   ]
  },
  {
   "cell_type": "markdown",
   "metadata": {},
   "source": [
    "The histogram looks reasonably good."
   ]
  },
  {
   "cell_type": "markdown",
   "metadata": {},
   "source": [
    "Now, let us extract the coeffiencts from the linear fit"
   ]
  },
  {
   "cell_type": "code",
   "execution_count": 118,
   "metadata": {
    "collapsed": true
   },
   "outputs": [],
   "source": [
    "coeffs = fit.rx2('coefficients')"
   ]
  },
  {
   "cell_type": "code",
   "execution_count": 119,
   "metadata": {
    "collapsed": false
   },
   "outputs": [
    {
     "name": "stdout",
     "output_type": "stream",
     "text": [
      "(Intercept)     waiting \n",
      "-1.87401599  0.07562795 \n",
      "\n"
     ]
    }
   ],
   "source": [
    "print(coeffs)"
   ]
  },
  {
   "cell_type": "code",
   "execution_count": 120,
   "metadata": {
    "collapsed": false
   },
   "outputs": [
    {
     "data": {
      "text/plain": [
       "rpy2.robjects.vectors.FloatVector"
      ]
     },
     "execution_count": 120,
     "metadata": {},
     "output_type": "execute_result"
    }
   ],
   "source": [
    "type(coeffs)"
   ]
  },
  {
   "cell_type": "code",
   "execution_count": 121,
   "metadata": {
    "collapsed": false
   },
   "outputs": [],
   "source": [
    "coeffs_python = pandas2ri.ri2py(coeffs)"
   ]
  },
  {
   "cell_type": "code",
   "execution_count": 122,
   "metadata": {
    "collapsed": false
   },
   "outputs": [
    {
     "data": {
      "text/plain": [
       "array([-1.87401599,  0.07562795])"
      ]
     },
     "execution_count": 122,
     "metadata": {},
     "output_type": "execute_result"
    }
   ],
   "source": [
    "coeffs_python"
   ]
  },
  {
   "cell_type": "markdown",
   "metadata": {},
   "source": [
    "Looks like we lost the names of columns (waiting, etc.) "
   ]
  },
  {
   "cell_type": "code",
   "execution_count": 132,
   "metadata": {
    "collapsed": false
   },
   "outputs": [
    {
     "data": {
      "text/plain": [
       "['(Intercept)', 'waiting']"
      ]
     },
     "execution_count": 132,
     "metadata": {},
     "output_type": "execute_result"
    }
   ],
   "source": [
    "coeffs_python_names = pandas2ri.ri2py(coeffs.names).tolist()\n",
    "coeffs_python_names"
   ]
  },
  {
   "cell_type": "markdown",
   "metadata": {},
   "source": [
    "Let us now extract the fitted value of `eruptions`"
   ]
  },
  {
   "cell_type": "code",
   "execution_count": 133,
   "metadata": {
    "collapsed": true
   },
   "outputs": [],
   "source": [
    "fit_eruptions = pandas2ri.ri2py(fit.rx2('fitted.values'))"
   ]
  },
  {
   "cell_type": "markdown",
   "metadata": {},
   "source": [
    "Now, let us plot the true and the fitted eruptions in matplotlib."
   ]
  },
  {
   "cell_type": "code",
   "execution_count": 144,
   "metadata": {
    "collapsed": false
   },
   "outputs": [
    {
     "data": {
      "text/plain": [
       "<matplotlib.text.Text at 0x11a67efd0>"
      ]
     },
     "execution_count": 144,
     "metadata": {},
     "output_type": "execute_result"
    },
    {
     "data": {
      "image/png": "[encoded data removed]",
      "text/plain": [
       "<matplotlib.figure.Figure at 0x11a54d2d0>"
      ]
     },
     "metadata": {},
     "output_type": "display_data"
    }
   ],
   "source": [
    "plt.scatter(faithful_pandas_df['waiting'], fit_eruptions, label='Fitted')\n",
    "plt.scatter(faithful_pandas_df['waiting'], faithful_pandas_df['eruptions'], label='True eruptions', color='r')\n",
    "plt.legend(loc='upper left')\n",
    "plt.xlabel(\"Waiting\")\n",
    "plt.ylabel(\"Eruptions\")"
   ]
  },
  {
   "cell_type": "markdown",
   "metadata": {},
   "source": [
    "Now, let us predict using the learnt linear model on last five entries in the dataset."
   ]
  },
  {
   "cell_type": "code",
   "execution_count": 145,
   "metadata": {
    "collapsed": true
   },
   "outputs": [],
   "source": [
    "last_5 = robjects.r['tail'](faithful_r_df, 5)"
   ]
  },
  {
   "cell_type": "code",
   "execution_count": 146,
   "metadata": {
    "collapsed": false
   },
   "outputs": [
    {
     "name": "stdout",
     "output_type": "stream",
     "text": [
      "    eruptions waiting\n",
      "268     4.117      81\n",
      "269     2.150      46\n",
      "270     4.417      90\n",
      "271     1.817      46\n",
      "272     4.467      74\n",
      "\n"
     ]
    }
   ],
   "source": [
    "print(last_5)"
   ]
  },
  {
   "cell_type": "code",
   "execution_count": 149,
   "metadata": {
    "collapsed": true
   },
   "outputs": [],
   "source": [
    "pred_r = stats.predict(fit, newdata=last_5)"
   ]
  },
  {
   "cell_type": "code",
   "execution_count": 150,
   "metadata": {
    "collapsed": false
   },
   "outputs": [
    {
     "name": "stdout",
     "output_type": "stream",
     "text": [
      "     268      269      270      271      272 \n",
      "4.251848 1.604870 4.932499 1.604870 3.722452 \n",
      "\n"
     ]
    }
   ],
   "source": [
    "print(pred_r)"
   ]
  },
  {
   "cell_type": "code",
   "execution_count": 173,
   "metadata": {
    "collapsed": false
   },
   "outputs": [
    {
     "data": {
      "text/plain": [
       "array([ 4.2518478 ,  1.60486962,  4.93249933,  1.60486962,  3.72245216])"
      ]
     },
     "execution_count": 173,
     "metadata": {},
     "output_type": "execute_result"
    }
   ],
   "source": [
    "pred_python = pandas2ri.ri2py(pred_r)\n",
    "pred_python"
   ]
  },
  {
   "cell_type": "markdown",
   "metadata": {},
   "source": [
    "Great! Now that we are able to fit a model and also predict on it, let us now package this function similar to the scikit-learn API"
   ]
  },
  {
   "cell_type": "code",
   "execution_count": 186,
   "metadata": {
    "collapsed": false
   },
   "outputs": [],
   "source": [
    "class PYLM(object):\n",
    "    from rpy2.robjects import pandas2ri\n",
    "    pandas2ri.activate()\n",
    "    from rpy2.robjects.packages import importr\n",
    "    stats = importr('stats')\n",
    "    def convert_fit_to_python(self, fit):\n",
    "        coeffs_r = fit.rx2('coefficients')\n",
    "        coeffs= pandas2ri.ri2py(coeffs_r)\n",
    "        coeff_names =  pandas2ri.ri2py(coeffs_r.names).tolist()\n",
    "        coeff_series = pd.Series({k:v for k,v in zip(coeff_names, coeffs)})\n",
    "        fitted_values = pandas2ri.ri2py(fit.rx2('fitted.values'))\n",
    "        return coeff_series\n",
    "        \n",
    "    def fit(self, relationship, df):\n",
    "        \"\"\"\n",
    "        relationship: string of the form: a~b+c\n",
    "        df: Pandas Dataframe\n",
    "        \"\"\"\n",
    "        # Get R dataframe\n",
    "        r_df = pandas2ri.py2ri(df)\n",
    "        # Create linear fit\n",
    "        fit = stats.lm(relationship, data=df)\n",
    "        self.fit = fit\n",
    "        python_fit = self.convert_fit_to_python(fit)\n",
    "        return python_fit\n",
    "    \n",
    "    def predict(self, df):\n",
    "        pred_r = stats.predict(self.fit, newdata=df)\n",
    "        pred_python = pandas2ri.ri2py(pred_r)\n",
    "        return pred_python\n",
    "        \n",
    "        "
   ]
  },
  {
   "cell_type": "code",
   "execution_count": 187,
   "metadata": {
    "collapsed": false
   },
   "outputs": [
    {
     "data": {
      "text/plain": [
       "(Intercept)   -1.874016\n",
       "waiting        0.075628\n",
       "dtype: float64"
      ]
     },
     "execution_count": 187,
     "metadata": {},
     "output_type": "execute_result"
    }
   ],
   "source": [
    "pylm = PYLM()\n",
    "relationship='eruptions~waiting'\n",
    "pylm.fit(relationship, faithful_pandas_df)"
   ]
  },
  {
   "cell_type": "code",
   "execution_count": 188,
   "metadata": {
    "collapsed": false
   },
   "outputs": [
    {
     "data": {
      "text/plain": [
       "array([ 4.2518478 ,  1.60486962,  4.93249933,  1.60486962,  3.72245216])"
      ]
     },
     "execution_count": 188,
     "metadata": {},
     "output_type": "execute_result"
    }
   ],
   "source": [
    "pylm.predict(faithful_pandas_df.tail(5))"
   ]
  },
  {
   "cell_type": "markdown",
   "metadata": {},
   "source": [
    "Great, this means that we've now been able get the functionality of R's `lm` package!"
   ]
  },
  {
   "cell_type": "code",
   "execution_count": null,
   "metadata": {
    "collapsed": true
   },
   "outputs": [],
   "source": []
  }
 ],
 "metadata": {
  "kernelspec": {
   "display_name": "Python 2",
   "language": "python",
   "name": "python2"
  },
  "language_info": {
   "codemirror_mode": {
    "name": "ipython",
    "version": 2
   },
   "file_extension": ".py",
   "mimetype": "text/x-python",
   "name": "python",
   "nbconvert_exporter": "python",
   "pygments_lexer": "ipython2",
   "version": "2.7.11"
  }
 },
 "nbformat": 4,
 "nbformat_minor": 0
}
