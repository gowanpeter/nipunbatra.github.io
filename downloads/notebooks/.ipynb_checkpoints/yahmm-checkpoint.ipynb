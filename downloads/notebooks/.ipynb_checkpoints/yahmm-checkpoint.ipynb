{
 "metadata": {
  "name": "",
  "signature": "sha256:6d96b9ee784c0875f6d9909cf2736886d04148deee683c0e1f5b121dedb38e2e"
 },
 "nbformat": 3,
 "nbformat_minor": 0,
 "worksheets": [
  {
   "cells": [
    {
     "cell_type": "code",
     "collapsed": false,
     "input": [
      "from yahmm import *"
     ],
     "language": "python",
     "metadata": {},
     "outputs": [],
     "prompt_number": 1
    },
    {
     "cell_type": "code",
     "collapsed": false,
     "input": [
      "model = Model( name=\"Rainy-Sunny\" )"
     ],
     "language": "python",
     "metadata": {},
     "outputs": [],
     "prompt_number": 2
    },
    {
     "cell_type": "code",
     "collapsed": false,
     "input": [
      "rainy = State( DiscreteDistribution({ 'walk': 0.1, 'shop': 0.4, 'clean': 0.5 }), name='Rainy' )"
     ],
     "language": "python",
     "metadata": {},
     "outputs": [],
     "prompt_number": 3
    },
    {
     "cell_type": "code",
     "collapsed": false,
     "input": [
      "sunny = State( DiscreteDistribution({ 'walk': 0.6, 'shop': 0.3, 'clean': 0.1 }), name='Sunny' )\n"
     ],
     "language": "python",
     "metadata": {},
     "outputs": [],
     "prompt_number": 4
    },
    {
     "cell_type": "code",
     "collapsed": false,
     "input": [
      "model.add_state( rainy )\n",
      ">>> model.add_state( sunny )"
     ],
     "language": "python",
     "metadata": {},
     "outputs": [],
     "prompt_number": 5
    },
    {
     "cell_type": "code",
     "collapsed": false,
     "input": [
      ">>> # Now add the two transitions from the start of the model to the hidden states\n",
      ">>> model.add_transition( model.start, rainy, 0.6 )\n",
      ">>> model.add_transition( model.start, sunny, 0.4 )"
     ],
     "language": "python",
     "metadata": {},
     "outputs": [],
     "prompt_number": 6
    },
    {
     "cell_type": "code",
     "collapsed": false,
     "input": [
      ">>> # Add the transitions from the hidden states to each other\n",
      ">>> model.add_transition( rainy, rainy, 0.7 )\n",
      ">>> model.add_transition( rainy, sunny, 0.3 )\n",
      ">>> model.add_transition( sunny, rainy, 0.4 )\n",
      ">>> model.add_transition( sunny, sunny, 0.6 )"
     ],
     "language": "python",
     "metadata": {},
     "outputs": [],
     "prompt_number": 7
    },
    {
     "cell_type": "code",
     "collapsed": false,
     "input": [
      ">>> model.bake( verbose=True )\n"
     ],
     "language": "python",
     "metadata": {},
     "outputs": [],
     "prompt_number": 8
    },
    {
     "cell_type": "code",
     "collapsed": false,
     "input": [
      "model.draw()"
     ],
     "language": "python",
     "metadata": {},
     "outputs": [],
     "prompt_number": 9
    },
    {
     "cell_type": "code",
     "collapsed": false,
     "input": [
      "model.sample(length=20)"
     ],
     "language": "python",
     "metadata": {},
     "outputs": [
      {
       "metadata": {},
       "output_type": "pyout",
       "prompt_number": 15,
       "text": [
        "['shop',\n",
        " 'shop',\n",
        " 'shop',\n",
        " 'clean',\n",
        " 'shop',\n",
        " 'clean',\n",
        " 'shop',\n",
        " 'clean',\n",
        " 'walk',\n",
        " 'clean',\n",
        " 'shop',\n",
        " 'shop',\n",
        " 'clean',\n",
        " 'shop',\n",
        " 'clean',\n",
        " 'shop',\n",
        " 'clean',\n",
        " 'clean',\n",
        " 'shop',\n",
        " 'shop']"
       ]
      }
     ],
     "prompt_number": 15
    },
    {
     "cell_type": "markdown",
     "metadata": {},
     "source": [
      "Now,let us try and learn a new model on these set of observations."
     ]
    },
    {
     "cell_type": "code",
     "collapsed": false,
     "input": [
      "model_learnt = Model( name=\"Rainy-Sunny-learn\" )"
     ],
     "language": "python",
     "metadata": {},
     "outputs": [],
     "prompt_number": 16
    },
    {
     "cell_type": "code",
     "collapsed": false,
     "input": [
      "state1 = State( DiscreteDistribution({observation:(random.randint(1,10)*1.0)/10 for observation in ['walk', 'shop','clean']}), name='s1' )"
     ],
     "language": "python",
     "metadata": {},
     "outputs": [],
     "prompt_number": 18
    },
    {
     "cell_type": "code",
     "collapsed": false,
     "input": [
      "state1.distribution"
     ],
     "language": "python",
     "metadata": {},
     "outputs": [
      {
       "metadata": {},
       "output_type": "pyout",
       "prompt_number": 20,
       "text": [
        "DiscreteDistribution({'shop': 0.5, 'clean': 1.0, 'walk': 0.8})"
       ]
      }
     ],
     "prompt_number": 20
    },
    {
     "cell_type": "code",
     "collapsed": false,
     "input": [
      "state2 = State( DiscreteDistribution({observation:(random.randint(1,10)*1.0)/10 for observation in ['walk', 'shop','clean']}), name='s2' )"
     ],
     "language": "python",
     "metadata": {},
     "outputs": [],
     "prompt_number": 21
    },
    {
     "cell_type": "code",
     "collapsed": false,
     "input": [
      "state2.distribution"
     ],
     "language": "python",
     "metadata": {},
     "outputs": [
      {
       "metadata": {},
       "output_type": "pyout",
       "prompt_number": 22,
       "text": [
        "DiscreteDistribution({'shop': 0.1, 'clean': 0.4, 'walk': 0.5})"
       ]
      }
     ],
     "prompt_number": 22
    },
    {
     "cell_type": "code",
     "collapsed": false,
     "input": [
      "model2.add_state( )\n",
      ">>> model.add_state( sunny )"
     ],
     "language": "python",
     "metadata": {},
     "outputs": []
    }
   ],
   "metadata": {}
  }
 ]
}