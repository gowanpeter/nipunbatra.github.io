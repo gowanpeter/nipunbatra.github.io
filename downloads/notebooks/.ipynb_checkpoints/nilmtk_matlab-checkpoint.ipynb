{
 "cells": [
  {
   "cell_type": "markdown",
   "metadata": {},
   "source": [
    "In this post, I'll show how to interface an NILM algorithm written in Matlab with nilmtk. I'll be using the code provided by the authors of the [Infinite Factorial Dynamical Model](http://papers.nips.cc/paper/5667-infinite-factorial-dynamical-model.pdf) paper presented at [NIPS 2015](https://nips.cc/). The authors have kindly made their [code](https://github.com/franrruiz/iFDM) available on Github. I had a conversation with them and they modified the code so that it can be easily interfaced with nilmk.\n",
    "\n",
    "Since the code is written in Matlab, we need to install some package that allows communication between Python and Matlab. The Matlab engine for Python would have been a perfect choice given that it is supported by Matlab. However, I had tough luck getting it to work on my system. Instead, I ended up using [pymatbridge](https://arokem.github.io/python-matlab-bridge/). Not only does pymatbridge provide the ability to communicate between the two languages, it also comes with a handy IPython extension that I'll be using in this post."
   ]
  },
  {
   "cell_type": "code",
   "execution_count": 1,
   "metadata": {
    "collapsed": false
   },
   "outputs": [
    {
     "name": "stderr",
     "output_type": "stream",
     "text": [
      "Vendor:  Continuum Analytics, Inc.\n",
      "Package: mkl\n",
      "Message: trial mode expires in 29 days\n"
     ]
    }
   ],
   "source": [
    "import pandas as pd\n",
    "import matplotlib.pyplot as plt\n",
    "plt.style.use('ggplot')\n",
    "import warnings\n",
    "warnings.filterwarnings('ignore')\n",
    "\n",
    "import pymatbridge as pymat\n",
    "\n",
    "%matplotlib inline"
   ]
  },
  {
   "cell_type": "code",
   "execution_count": 2,
   "metadata": {
    "collapsed": false
   },
   "outputs": [
    {
     "name": "stdout",
     "output_type": "stream",
     "text": [
      "Starting MATLAB on ZMQ socket ipc:///tmp/pymatbridge-a6bdb861-8a5e-4a5c-90c0-ea7c9facb962\n",
      "Send 'exit' command to kill the server\n",
      ".......MATLAB started and connected!\n"
     ]
    }
   ],
   "source": [
    "%load_ext pymatbridge"
   ]
  },
  {
   "cell_type": "markdown",
   "metadata": {},
   "source": [
    "Now, I have a Matlab session started."
   ]
  },
  {
   "cell_type": "markdown",
   "metadata": {
    "collapsed": false
   },
   "source": [
    "I'll be using the REDD data set for illustration. I'll disaggregate the first day from House #1. Also, we'll be disaggregating the lights, fridge, dish washer, microwave."
   ]
  },
  {
   "cell_type": "code",
   "execution_count": 3,
   "metadata": {
    "collapsed": true
   },
   "outputs": [],
   "source": [
    "from nilmtk import *"
   ]
  },
  {
   "cell_type": "code",
   "execution_count": 4,
   "metadata": {
    "collapsed": false
   },
   "outputs": [
    {
     "name": "stderr",
     "output_type": "stream",
     "text": [
      "/Users/nipunbatra/anaconda/lib/python2.7/site-packages/tables/__init__.py:82: RuntimeWarning: numpy.dtype size changed, may indicate binary incompatibility\n",
      "  from tables.utilsextension import (\n",
      "/Users/nipunbatra/anaconda/lib/python2.7/site-packages/tables/file.py:35: RuntimeWarning: numpy.dtype size changed, may indicate binary incompatibility\n",
      "  from tables import hdf5extension\n",
      "/Users/nipunbatra/anaconda/lib/python2.7/site-packages/tables/link.py:32: RuntimeWarning: numpy.dtype size changed, may indicate binary incompatibility\n",
      "  from tables import linkextension\n",
      "/Users/nipunbatra/anaconda/lib/python2.7/site-packages/tables/table.py:25: RuntimeWarning: numpy.dtype size changed, may indicate binary incompatibility\n",
      "  from tables import tableextension\n",
      "/Users/nipunbatra/anaconda/lib/python2.7/site-packages/tables/index.py:30: RuntimeWarning: numpy.dtype size changed, may indicate binary incompatibility\n",
      "  from tables import indexesextension\n"
     ]
    }
   ],
   "source": [
    "ds = DataSet(\"/data/REDD/redd.h5\")"
   ]
  },
  {
   "cell_type": "markdown",
   "metadata": {},
   "source": [
    "Getting the `elec` for the first house."
   ]
  },
  {
   "cell_type": "code",
   "execution_count": 5,
   "metadata": {
    "collapsed": true
   },
   "outputs": [],
   "source": [
    "elec = ds.buildings[1].elec"
   ]
  },
  {
   "cell_type": "markdown",
   "metadata": {},
   "source": [
    "Setting the time window for our analysis."
   ]
  },
  {
   "cell_type": "code",
   "execution_count": 6,
   "metadata": {
    "collapsed": true
   },
   "outputs": [],
   "source": [
    "ds.set_window(\"2011-04-19\", \"2011-04-20\")"
   ]
  },
  {
   "cell_type": "markdown",
   "metadata": {},
   "source": [
    "Creating a Pandas dataframe of the appliances we are interested in, along with the mains. We will be summing up all the lights instances."
   ]
  },
  {
   "cell_type": "code",
   "execution_count": 9,
   "metadata": {
    "collapsed": false
   },
   "outputs": [],
   "source": [
    "appliances = {'mains':elec.mains(),\n",
    "             'fridge':elec['fridge'],\n",
    "             'dish washer':elec['dish washer'],\n",
    "             'microwave':elec['microwave'],\n",
    "             'light':MeterGroup([elec['light',1], elec['light',2], elec['light',3]])}"
   ]
  },
  {
   "cell_type": "markdown",
   "metadata": {},
   "source": [
    "We'll  be downsampling the data to 30 seconds by median filter."
   ]
  },
  {
   "cell_type": "code",
   "execution_count": 10,
   "metadata": {
    "collapsed": false
   },
   "outputs": [
    {
     "name": "stdout",
     "output_type": "stream",
     "text": [
      "dish washer\n",
      "mains\n",
      "Loading data for meter ElecMeterID(instance=2, building=1, dataset='REDD')     \n",
      "Done loading data all meters for this chunk.\n",
      "fridge\n",
      "microwave\n",
      "light\n",
      "Loading data for meter ElecMeterID(instance=18, building=1, dataset='REDD')     \n",
      "Done loading data all meters for this chunk.\n"
     ]
    }
   ],
   "source": [
    "data = {}\n",
    "for appliance_name, appliance_el  in appliances.iteritems():\n",
    "    print appliance_name\n",
    "    data[appliance_name] = next(appliance_el.load(sample_period=30, resample_kwargs = {\"how\":\"median\"}))\n",
    "    if appliance_name ==\"mains\":\n",
    "           data[appliance_name] = data[appliance_name][('power','apparent')]\n",
    "    else:\n",
    "        data[appliance_name] = data[appliance_name][('power','active')]"
   ]
  },
  {
   "cell_type": "markdown",
   "metadata": {},
   "source": [
    "Creating the dataframe."
   ]
  },
  {
   "cell_type": "code",
   "execution_count": 11,
   "metadata": {
    "collapsed": false
   },
   "outputs": [],
   "source": [
    "data_df = pd.DataFrame(data)[[\"mains\",\"fridge\",\"light\",\"dish washer\", \"microwave\"]].dropna()"
   ]
  },
  {
   "cell_type": "code",
   "execution_count": 12,
   "metadata": {
    "collapsed": false
   },
   "outputs": [
    {
     "data": {
      "text/html": [
       "<div>\n",
       "<table border=\"1\" class=\"dataframe\">\n",
       "  <thead>\n",
       "    <tr style=\"text-align: right;\">\n",
       "      <th></th>\n",
       "      <th>mains</th>\n",
       "      <th>fridge</th>\n",
       "      <th>light</th>\n",
       "      <th>dish washer</th>\n",
       "      <th>microwave</th>\n",
       "    </tr>\n",
       "  </thead>\n",
       "  <tbody>\n",
       "    <tr>\n",
       "      <th>2011-04-19 00:00:00-04:00</th>\n",
       "      <td>190.699997</td>\n",
       "      <td>7</td>\n",
       "      <td>82</td>\n",
       "      <td>0</td>\n",
       "      <td>4</td>\n",
       "    </tr>\n",
       "    <tr>\n",
       "      <th>2011-04-19 00:00:30-04:00</th>\n",
       "      <td>191.434998</td>\n",
       "      <td>7</td>\n",
       "      <td>83</td>\n",
       "      <td>0</td>\n",
       "      <td>4</td>\n",
       "    </tr>\n",
       "    <tr>\n",
       "      <th>2011-04-19 00:01:00-04:00</th>\n",
       "      <td>190.529999</td>\n",
       "      <td>6</td>\n",
       "      <td>83</td>\n",
       "      <td>0</td>\n",
       "      <td>4</td>\n",
       "    </tr>\n",
       "    <tr>\n",
       "      <th>2011-04-19 00:01:30-04:00</th>\n",
       "      <td>191.619995</td>\n",
       "      <td>7</td>\n",
       "      <td>83</td>\n",
       "      <td>0</td>\n",
       "      <td>4</td>\n",
       "    </tr>\n",
       "    <tr>\n",
       "      <th>2011-04-19 00:02:00-04:00</th>\n",
       "      <td>192.069992</td>\n",
       "      <td>7</td>\n",
       "      <td>83</td>\n",
       "      <td>0</td>\n",
       "      <td>4</td>\n",
       "    </tr>\n",
       "  </tbody>\n",
       "</table>\n",
       "</div>"
      ],
      "text/plain": [
       "                                mains  fridge  light  dish washer  microwave\n",
       "2011-04-19 00:00:00-04:00  190.699997       7     82            0          4\n",
       "2011-04-19 00:00:30-04:00  191.434998       7     83            0          4\n",
       "2011-04-19 00:01:00-04:00  190.529999       6     83            0          4\n",
       "2011-04-19 00:01:30-04:00  191.619995       7     83            0          4\n",
       "2011-04-19 00:02:00-04:00  192.069992       7     83            0          4"
      ]
     },
     "execution_count": 12,
     "metadata": {},
     "output_type": "execute_result"
    }
   ],
   "source": [
    "data_df.head()"
   ]
  },
  {
   "cell_type": "code",
   "execution_count": 13,
   "metadata": {
    "collapsed": false
   },
   "outputs": [
    {
     "data": {
      "text/html": [
       "<div>\n",
       "<table border=\"1\" class=\"dataframe\">\n",
       "  <thead>\n",
       "    <tr style=\"text-align: right;\">\n",
       "      <th></th>\n",
       "      <th>mains</th>\n",
       "      <th>fridge</th>\n",
       "      <th>light</th>\n",
       "      <th>dish washer</th>\n",
       "      <th>microwave</th>\n",
       "    </tr>\n",
       "  </thead>\n",
       "  <tbody>\n",
       "    <tr>\n",
       "      <th>count</th>\n",
       "      <td>2692.000000</td>\n",
       "      <td>2692.000000</td>\n",
       "      <td>2692.000000</td>\n",
       "      <td>2692.000000</td>\n",
       "      <td>2692.000000</td>\n",
       "    </tr>\n",
       "    <tr>\n",
       "      <th>mean</th>\n",
       "      <td>295.715698</td>\n",
       "      <td>47.881500</td>\n",
       "      <td>111.082466</td>\n",
       "      <td>0.013930</td>\n",
       "      <td>20.370171</td>\n",
       "    </tr>\n",
       "    <tr>\n",
       "      <th>std</th>\n",
       "      <td>252.303360</td>\n",
       "      <td>77.789963</td>\n",
       "      <td>51.122974</td>\n",
       "      <td>0.116826</td>\n",
       "      <td>156.773621</td>\n",
       "    </tr>\n",
       "    <tr>\n",
       "      <th>min</th>\n",
       "      <td>168.059998</td>\n",
       "      <td>6.000000</td>\n",
       "      <td>66.000000</td>\n",
       "      <td>0.000000</td>\n",
       "      <td>2.000000</td>\n",
       "    </tr>\n",
       "    <tr>\n",
       "      <th>25%</th>\n",
       "      <td>175.342499</td>\n",
       "      <td>6.000000</td>\n",
       "      <td>83.000000</td>\n",
       "      <td>0.000000</td>\n",
       "      <td>4.000000</td>\n",
       "    </tr>\n",
       "    <tr>\n",
       "      <th>50%</th>\n",
       "      <td>246.055000</td>\n",
       "      <td>6.000000</td>\n",
       "      <td>84.000000</td>\n",
       "      <td>0.000000</td>\n",
       "      <td>4.000000</td>\n",
       "    </tr>\n",
       "    <tr>\n",
       "      <th>75%</th>\n",
       "      <td>353.608734</td>\n",
       "      <td>7.000000</td>\n",
       "      <td>122.000000</td>\n",
       "      <td>0.000000</td>\n",
       "      <td>4.000000</td>\n",
       "    </tr>\n",
       "    <tr>\n",
       "      <th>max</th>\n",
       "      <td>3388.339844</td>\n",
       "      <td>233.000000</td>\n",
       "      <td>408.000000</td>\n",
       "      <td>1.000000</td>\n",
       "      <td>1586.000000</td>\n",
       "    </tr>\n",
       "  </tbody>\n",
       "</table>\n",
       "</div>"
      ],
      "text/plain": [
       "             mains       fridge        light  dish washer    microwave\n",
       "count  2692.000000  2692.000000  2692.000000  2692.000000  2692.000000\n",
       "mean    295.715698    47.881500   111.082466     0.013930    20.370171\n",
       "std     252.303360    77.789963    51.122974     0.116826   156.773621\n",
       "min     168.059998     6.000000    66.000000     0.000000     2.000000\n",
       "25%     175.342499     6.000000    83.000000     0.000000     4.000000\n",
       "50%     246.055000     6.000000    84.000000     0.000000     4.000000\n",
       "75%     353.608734     7.000000   122.000000     0.000000     4.000000\n",
       "max    3388.339844   233.000000   408.000000     1.000000  1586.000000"
      ]
     },
     "execution_count": 13,
     "metadata": {},
     "output_type": "execute_result"
    }
   ],
   "source": [
    "data_df.describe()"
   ]
  },
  {
   "cell_type": "code",
   "execution_count": 15,
   "metadata": {
    "collapsed": false
   },
   "outputs": [
    {
     "data": {
      "text/plain": [
       "<matplotlib.axes._subplots.AxesSubplot at 0x1139a9990>"
      ]
     },
     "execution_count": 15,
     "metadata": {},
     "output_type": "execute_result"
    },
    {
     "data": {
      "image/png": "[encoded data removed]",
      "text/plain": [
       "<matplotlib.figure.Figure at 0x111bfc2d0>"
      ]
     },
     "metadata": {},
     "output_type": "display_data"
    }
   ],
   "source": [
    "data_df.plot()"
   ]
  },
  {
   "cell_type": "markdown",
   "metadata": {},
   "source": [
    "### Interface requirements"
   ]
  },
  {
   "cell_type": "markdown",
   "metadata": {},
   "source": [
    "The reason we chose to create a dataframe in this format is that we tried to keep a simple interface between Matlab and Python. We chose the following interface:\n",
    "\n",
    "1. The input to the Matlab method should be a .mat where the rows correpond to different appliances and the columns correpsond to time. The first row should correspond to the mains (aggregate).\n",
    "2. The output from the Matlab method should be a .mat where the rows correspond to the disaggregated time series data with columns correpsonding to time.\n",
    "3. Any additional arguments to the Matlab disaggregation method should be a JSON file.\n",
    "\n",
    "So, based on these requirements, the Matlab function had the following signature\n",
    "\n",
    "```Matlab\n",
    "function power_disaggregation(input_file, output_file, config_file)\n",
    "%\n",
    "% This function applies the iFDM model [1] for power disaggregation.\n",
    "% \n",
    "% Usage:\n",
    "%     power_disaggregation(input_file, output_file [, config_file])\n",
    "% \n",
    "%  +input_file: Path to the input file. It should contain a matrix in which\n",
    "%   the first row corresponds to the observations (aggregated signal),\n",
    "%   while the rest of the rows correspond to the individual consuption of\n",
    "%   the devices. The number of columns of the matrix corresponds to the\n",
    "%   number of time steps.\n",
    "% \n",
    "%  +output_file: Path to the output file. Two variables are saved in the\n",
    "%   output file, detailed below. Warning: These results correspond to the\n",
    "%   last iteration of the sampler, they have not been averaged over several\n",
    "%   iterations.\n",
    "%   -acc: The resulting accuracy.\n",
    "%   -output: The inferred disaggregated signals, sorted to match the input.\n",
    "% \n",
    "%  +config_file: Path to a JSON configuration file (optional). \n",
    "```"
   ]
  },
  {
   "cell_type": "markdown",
   "metadata": {},
   "source": [
    "So, we are all set. We'll have a look at the first few lines of the parameters passed to the disaggregation method. "
   ]
  },
  {
   "cell_type": "code",
   "execution_count": 16,
   "metadata": {
    "collapsed": false
   },
   "outputs": [
    {
     "name": "stdout",
     "output_type": "stream",
     "text": [
      " {\r\n",
      "     \"Q\": 4,\r\n",
      "     \"Niter\": 1000,\r\n",
      "     \"verboseCycle\": 10,\r\n",
      "     \"pgas\":\r\n",
      "     {\r\n",
      "         \"N_PG\": 1000,\r\n",
      "         \"Niter\": 1,\r\n",
      "         \"maxM\": 40\r\n",
      "     },\r\n"
     ]
    }
   ],
   "source": [
    "!head /Users/nipunbatra/git/iFDM/PowerDisaggregation/parameters.json"
   ]
  },
  {
   "cell_type": "markdown",
   "metadata": {},
   "source": [
    "The authors suggested that the data should be scaled such that the aggregate power is in 10s. So, they suggested a scaling down factor of 100, which I'll do next."
   ]
  },
  {
   "cell_type": "code",
   "execution_count": 17,
   "metadata": {
    "collapsed": true
   },
   "outputs": [],
   "source": [
    "scaled_data_df = data_df.div(100)"
   ]
  },
  {
   "cell_type": "markdown",
   "metadata": {},
   "source": [
    "Now, we'll get the matrix representation from the dataframe and store in a .mat."
   ]
  },
  {
   "cell_type": "code",
   "execution_count": 18,
   "metadata": {
    "collapsed": true
   },
   "outputs": [],
   "source": [
    "import scipy.io as sio"
   ]
  },
  {
   "cell_type": "code",
   "execution_count": 19,
   "metadata": {
    "collapsed": false
   },
   "outputs": [],
   "source": [
    "sio.savemat(\"/Users/nipunbatra/git/iFDM/PowerDisaggregation/redd_data_nilmtk_1.mat\",{\"X\":scaled_data_df.T.values})"
   ]
  },
  {
   "cell_type": "code",
   "execution_count": 21,
   "metadata": {
    "collapsed": false
   },
   "outputs": [
    {
     "name": "stdout",
     "output_type": "stream",
     "text": [
      "/Users/nipunbatra/git/iFDM/PowerDisaggregation\n"
     ]
    }
   ],
   "source": [
    "cd ~/git/iFDM/PowerDisaggregation/"
   ]
  },
  {
   "cell_type": "markdown",
   "metadata": {},
   "source": [
    "Finally, I'll call the Matlab method for disaggregation on the data we've produced using nilmtk."
   ]
  },
  {
   "cell_type": "code",
   "execution_count": 20,
   "metadata": {
    "collapsed": false
   },
   "outputs": [
    {
     "data": {
      "text/plain": [
       "Initializing inference...\r",
       "Iteration 10 out of 1000 completed\r",
       "Iteration 20 out of 1000 completed\r",
       "Iteration 30 out of 1000 completed\r",
       "Iteration 40 out of 1000 completed\r",
       "Iteration 50 out of 1000 completed\r",
       "Iteration 60 out of 1000 completed\r",
       "Iteration 70 out of 1000 completed\r",
       "Iteration 80 out of 1000 completed\r",
       "Iteration 90 out of 1000 completed\r",
       "Iteration 100 out of 1000 completed\r",
       "Iteration 110 out of 1000 completed\r",
       "Iteration 120 out of 1000 completed\r",
       "Iteration 130 out of 1000 completed\r",
       "Iteration 140 out of 1000 completed\r",
       "Iteration 150 out of 1000 completed\r",
       "Iteration 160 out of 1000 completed\r",
       "Iteration 170 out of 1000 completed\r",
       "Iteration 180 out of 1000 completed\r",
       "Iteration 190 out of 1000 completed\r",
       "Iteration 200 out of 1000 completed\r",
       "Iteration 210 out of 1000 completed\r",
       "Iteration 220 out of 1000 completed\r",
       "Iteration 230 out of 1000 completed\r",
       "Iteration 240 out of 1000 completed\r",
       "Iteration 250 out of 1000 completed\r",
       "Iteration 260 out of 1000 completed\r",
       "Iteration 270 out of 1000 completed\r",
       "Iteration 280 out of 1000 completed\r",
       "Iteration 290 out of 1000 completed\r",
       "Iteration 300 out of 1000 completed\r",
       "Iteration 310 out of 1000 completed\r",
       "Iteration 320 out of 1000 completed\r",
       "Iteration 330 out of 1000 completed\r",
       "Iteration 340 out of 1000 completed\r",
       "Iteration 350 out of 1000 completed\r",
       "Iteration 360 out of 1000 completed\r",
       "Iteration 370 out of 1000 completed\r",
       "Iteration 380 out of 1000 completed\r",
       "Iteration 390 out of 1000 completed\r",
       "Iteration 400 out of 1000 completed\r",
       "Iteration 410 out of 1000 completed\r",
       "Iteration 420 out of 1000 completed\r",
       "Iteration 430 out of 1000 completed\r",
       "Iteration 440 out of 1000 completed\r",
       "Iteration 450 out of 1000 completed\r",
       "Iteration 460 out of 1000 completed\r",
       "Iteration 470 out of 1000 completed\r",
       "Iteration 480 out of 1000 completed\r",
       "Iteration 490 out of 1000 completed\r",
       "Iteration 500 out of 1000 completed\r",
       "Iteration 510 out of 1000 completed\r",
       "Iteration 520 out of 1000 completed\r",
       "Iteration 530 out of 1000 completed\r",
       "Iteration 540 out of 1000 completed\r",
       "Iteration 550 out of 1000 completed\r",
       "Iteration 560 out of 1000 completed\r",
       "Iteration 570 out of 1000 completed\r",
       "Iteration 580 out of 1000 completed\r",
       "Iteration 590 out of 1000 completed\r",
       "Iteration 600 out of 1000 completed\r",
       "Iteration 610 out of 1000 completed\r",
       "Iteration 620 out of 1000 completed\r",
       "Iteration 630 out of 1000 completed\r",
       "Iteration 640 out of 1000 completed\r",
       "Iteration 650 out of 1000 completed\r",
       "Iteration 660 out of 1000 completed\r",
       "Iteration 670 out of 1000 completed\r",
       "Iteration 680 out of 1000 completed\r",
       "Iteration 690 out of 1000 completed\r",
       "Iteration 700 out of 1000 completed\r",
       "Iteration 710 out of 1000 completed\r",
       "Iteration 720 out of 1000 completed\r",
       "Iteration 730 out of 1000 completed\r",
       "Iteration 740 out of 1000 completed\r",
       "Iteration 750 out of 1000 completed\r",
       "Iteration 760 out of 1000 completed\r",
       "Iteration 770 out of 1000 completed\r",
       "Iteration 780 out of 1000 completed\r",
       "Iteration 790 out of 1000 completed\r",
       "Iteration 800 out of 1000 completed\r",
       "Iteration 810 out of 1000 completed\r",
       "Iteration 820 out of 1000 completed\r",
       "Iteration 830 out of 1000 completed\r",
       "Iteration 840 out of 1000 completed\r",
       "Iteration 850 out of 1000 completed\r",
       "Iteration 860 out of 1000 completed\r",
       "Iteration 870 out of 1000 completed\r",
       "Iteration 880 out of 1000 completed\r",
       "Iteration 890 out of 1000 completed\r",
       "Iteration 900 out of 1000 completed\r",
       "Iteration 910 out of 1000 completed\r",
       "Iteration 920 out of 1000 completed\r",
       "Iteration 930 out of 1000 completed\r",
       "Iteration 940 out of 1000 completed\r",
       "Iteration 950 out of 1000 completed\r",
       "Iteration 960 out of 1000 completed\r",
       "Iteration 970 out of 1000 completed\r",
       "Iteration 980 out of 1000 completed\r",
       "Iteration 990 out of 1000 completed\r",
       "Iteration 1000 out of 1000 completed\r"
      ]
     },
     "metadata": {},
     "output_type": "display_data"
    }
   ],
   "source": [
    "%%matlab\n",
    "cd('/Users/nipunbatra/git/iFDM/PowerDisaggregation/');\n",
    "pwd;\n",
    "power_disaggregation('redd_data_nilmtk_1.mat','output_nilmtk.mat', 'parameters.json' )"
   ]
  },
  {
   "cell_type": "code",
   "execution_count": 22,
   "metadata": {
    "collapsed": false
   },
   "outputs": [],
   "source": [
    "out = sio.loadmat(\"/Users/nipunbatra/git/iFDM/PowerDisaggregation/output_nilmtk.mat\")\n",
    "disag_df = out['output']"
   ]
  },
  {
   "cell_type": "code",
   "execution_count": 23,
   "metadata": {
    "collapsed": false
   },
   "outputs": [],
   "source": [
    "disag_df = pd.DataFrame(disag_df).T\n",
    "disag_df.columns = data_df.columns[1:]\n",
    "disag_df.index = data_df.index\n",
    "\n",
    "# Scaling back up by a factor of 100\n",
    "disag_df = disag_df.mul(100)"
   ]
  },
  {
   "cell_type": "markdown",
   "metadata": {},
   "source": [
    "Creating dataframes for appliances to compare the ground truth and the disaggregated streams."
   ]
  },
  {
   "cell_type": "code",
   "execution_count": 24,
   "metadata": {
    "collapsed": false
   },
   "outputs": [
    {
     "data": {
      "image/png": "[encoded data removed]",
      "text/plain": [
       "<matplotlib.figure.Figure at 0x111b12650>"
      ]
     },
     "metadata": {},
     "output_type": "display_data"
    },
    {
     "data": {
      "image/png": "[encoded data removed]",
      "text/plain": [
       "<matplotlib.figure.Figure at 0x117916e10>"
      ]
     },
     "metadata": {},
     "output_type": "display_data"
    },
    {
     "data": {
      "image/png": "[encoded data removed]",
      "text/plain": [
       "<matplotlib.figure.Figure at 0x1179fbd10>"
      ]
     },
     "metadata": {},
     "output_type": "display_data"
    },
    {
     "data": {
      "image/png": "[encoded data removed]",
      "text/plain": [
       "<matplotlib.figure.Figure at 0x117ab0d10>"
      ]
     },
     "metadata": {},
     "output_type": "display_data"
    }
   ],
   "source": [
    "appliance_dfs = {}\n",
    "for appliance in ['fridge', 'light', 'dish washer','microwave']:\n",
    "    appliance_dfs[appliance] = pd.DataFrame({\"GT\":data_df[appliance],\"Predicted\":disag_df[appliance]})\n",
    "    appliance_dfs[appliance].plot(title=appliance)"
   ]
  },
  {
   "cell_type": "markdown",
   "metadata": {},
   "source": [
    "There you go! We have a working interface to the Matlab iFDM NILM algorithm. It should be noted that the program over 1000 iterations took several hours to run. I think that speedups upto 2 orders of magnitude should be possible by compiling it using `mex-setup`. I'll get onto that in a while. Another thing to note is that the disaggregated fridge power signal matches the state changes observed in the ground truth signal. However, the predicted seems to have a higher magniutde than the ground truth. This can possibly be due to the fact that the aggregate measures apparent power and the appliance meters measure active power.\n",
    "\n",
    "I think that this small demo shows that it is straight forward to interface a Matlab NILM algorithm with nilmtk. Hope to get more such state-of-the-art algorithms interfaced with nilmtk soon."
   ]
  }
 ],
 "metadata": {
  "kernelspec": {
   "display_name": "Python 2",
   "language": "python",
   "name": "python2"
  },
  "language_info": {
   "codemirror_mode": {
    "name": "ipython",
    "version": 2
   },
   "file_extension": ".py",
   "mimetype": "text/x-python",
   "name": "python",
   "nbconvert_exporter": "python",
   "pygments_lexer": "ipython2",
   "version": "2.7.11"
  }
 },
 "nbformat": 4,
 "nbformat_minor": 0
}
