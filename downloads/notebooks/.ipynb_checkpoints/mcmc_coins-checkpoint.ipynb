{
 "metadata": {
  "name": "",
  "signature": "sha256:37f9cfa31f3519d26e5c2b4b7b919a3cc19435be5049be058c5b924a453e6df9"
 },
 "nbformat": 3,
 "nbformat_minor": 0,
 "worksheets": [
  {
   "cells": [
    {
     "cell_type": "markdown",
     "metadata": {},
     "source": [
      "# Revisiting Coins! tdata"
     ]
    },
    {
     "cell_type": "code",
     "collapsed": false,
     "input": [
      "import pymc as pm\n",
      "import numpy as np\n",
      "import matplotlib.pyplot as plt\n",
      "import scipy.stats as stats\n",
      "import seaborn as sns\n",
      "%matplotlib inline"
     ],
     "language": "python",
     "metadata": {},
     "outputs": [],
     "prompt_number": 4
    },
    {
     "cell_type": "markdown",
     "metadata": {},
     "source": [
      "#### Observations"
     ]
    },
    {
     "cell_type": "markdown",
     "metadata": {},
     "source": [
      "1 =  Heads\n",
      "\n",
      "0 = Tails"
     ]
    },
    {
     "cell_type": "code",
     "collapsed": false,
     "input": [
      "observations = np.array([[1,0,0,0,1,1,0,1,0,1],\n",
      "                         [1,1,1,1,0,1,1,1,1,1],\n",
      "                         [1,0,1,1,1,1,1,0,1,1],\n",
      "                         [1,0,1,0,0,0,1,1,0,0],\n",
      "                         [0,1,1,1,0,1,1,1,0,1]])\n",
      "observations_flattened = observations.flatten()"
     ],
     "language": "python",
     "metadata": {},
     "outputs": [],
     "prompt_number": 75
    },
    {
     "cell_type": "markdown",
     "metadata": {},
     "source": [
      "#### Number of heads in each obervation set"
     ]
    },
    {
     "cell_type": "code",
     "collapsed": false,
     "input": [
      "n_heads_array = np.sum(observations, axis=1)\n",
      "plt.bar(range(len(n_heads_array)),n_heads_array.tolist());\n",
      "plt.title(\"Number of heads vs Observation set\")\n",
      "plt.xlabel(\"Observation set\")\n",
      "plt.ylabel(\"#Heads observed\");"
     ],
     "language": "python",
     "metadata": {},
     "outputs": [
      {
       "metadata": {},
       "output_type": "display_data",
       "png": "[encoded data removed]",
       "text": [
        "<matplotlib.figure.Figure at 0x6521d50>"
       ]
      }
     ],
     "prompt_number": 132
    },
    {
     "cell_type": "code",
     "collapsed": false,
     "input": [
      "# Ground truth\n",
      "coins_id = np.array([False,True,True,False,True])"
     ],
     "language": "python",
     "metadata": {},
     "outputs": [],
     "prompt_number": 79
    },
    {
     "cell_type": "code",
     "collapsed": false,
     "input": [
      "n_observation_sets = observations.shape[0]\n",
      "n_observation_per_set = observations.shape[1]"
     ],
     "language": "python",
     "metadata": {},
     "outputs": [],
     "prompt_number": 44
    },
    {
     "cell_type": "code",
     "collapsed": false,
     "input": [
      "# Prior on coin A\n",
      "theta_a = pm.Beta('theta_a',2,2)\n",
      "\n",
      "# Prior on coin B\n",
      "theta_b = pm.Beta('theta_b',2,2)\n",
      "\n",
      "# Choosing either A or B (for 5 observations)\n",
      "coin_choice_array = pm.DiscreteUniform('coin_choice',0,1, size = 5)\n",
      "\n",
      "# Creating a theta (theta_a if A is tossed or theta_b if B is tossed)\n",
      "@pm.deterministic\n",
      "def theta(theta_a = theta_a, theta_b=theta_b, coin_choice_array=coin_choice_array):\n",
      "    #print coin_choice_array\n",
      "    out = np.zeros(n_observation_sets)\n",
      "    for i, coin_choice in enumerate(coin_choice_array):\n",
      "        if coin_choice:\n",
      "            out[i] = theta_a\n",
      "        else:\n",
      "            out[i] = theta_b                   \n",
      "    return out"
     ],
     "language": "python",
     "metadata": {},
     "outputs": [],
     "prompt_number": 160
    },
    {
     "cell_type": "code",
     "collapsed": false,
     "input": [
      "theta.value"
     ],
     "language": "python",
     "metadata": {},
     "outputs": [
      {
       "metadata": {},
       "output_type": "pyout",
       "prompt_number": 161,
       "text": [
        "array([ 0.56726661,  0.56726661,  0.56726661,  0.56726661,  0.56726661])"
       ]
      }
     ],
     "prompt_number": 161
    },
    {
     "cell_type": "code",
     "collapsed": false,
     "input": [
      "observation_model = pm.Binomial(\"obs\", n=10, p=theta, value = n_heads_array, observed=True)\n",
      "model = pm.Model([observation_model, theta_a, theta_b, coin_choice_array])"
     ],
     "language": "python",
     "metadata": {},
     "outputs": [],
     "prompt_number": 162
    },
    {
     "cell_type": "code",
     "collapsed": false,
     "input": [
      "observation_model.random()"
     ],
     "language": "python",
     "metadata": {},
     "outputs": [
      {
       "metadata": {},
       "output_type": "pyout",
       "prompt_number": 163,
       "text": [
        "array([4, 5, 6, 5, 5])"
       ]
      }
     ],
     "prompt_number": 163
    },
    {
     "cell_type": "code",
     "collapsed": false,
     "input": [
      "mcmc = pm.MCMC(model)\n",
      "mcmc.sample(40000, 10000, 1)"
     ],
     "language": "python",
     "metadata": {},
     "outputs": [
      {
       "output_type": "stream",
       "stream": "stdout",
       "text": [
        "\r",
        " [--                7%                  ] 3000 of 40000 complete in 0.5 sec"
       ]
      },
      {
       "output_type": "stream",
       "stream": "stdout",
       "text": [
        "\r",
        " [-----            14%                  ] 5966 of 40000 complete in 1.0 sec"
       ]
      },
      {
       "output_type": "stream",
       "stream": "stdout",
       "text": [
        "\r",
        " [--------         22%                  ] 8906 of 40000 complete in 1.5 sec"
       ]
      },
      {
       "output_type": "stream",
       "stream": "stdout",
       "text": [
        "\r",
        " [----------       28%                  ] 11548 of 40000 complete in 2.0 sec"
       ]
      },
      {
       "output_type": "stream",
       "stream": "stdout",
       "text": [
        "\r",
        " [-------------    35%                  ] 14012 of 40000 complete in 2.5 sec"
       ]
      },
      {
       "output_type": "stream",
       "stream": "stdout",
       "text": [
        "\r",
        " [---------------  41%                  ] 16482 of 40000 complete in 3.0 sec"
       ]
      },
      {
       "output_type": "stream",
       "stream": "stdout",
       "text": [
        "\r",
        " [-----------------47%                  ] 18930 of 40000 complete in 3.5 sec"
       ]
      },
      {
       "output_type": "stream",
       "stream": "stdout",
       "text": [
        "\r",
        " [-----------------53%                  ] 21383 of 40000 complete in 4.0 sec"
       ]
      },
      {
       "output_type": "stream",
       "stream": "stdout",
       "text": [
        "\r",
        " [-----------------59%--                ] 23836 of 40000 complete in 4.5 sec"
       ]
      },
      {
       "output_type": "stream",
       "stream": "stdout",
       "text": [
        "\r",
        " [-----------------65%----              ] 26282 of 40000 complete in 5.0 sec"
       ]
      },
      {
       "output_type": "stream",
       "stream": "stdout",
       "text": [
        "\r",
        " [-----------------71%-------           ] 28730 of 40000 complete in 5.5 sec"
       ]
      },
      {
       "output_type": "stream",
       "stream": "stdout",
       "text": [
        "\r",
        " [-----------------77%---------         ] 31179 of 40000 complete in 6.0 sec"
       ]
      },
      {
       "output_type": "stream",
       "stream": "stdout",
       "text": [
        "\r",
        " [-----------------84%-----------       ] 33630 of 40000 complete in 6.5 sec"
       ]
      },
      {
       "output_type": "stream",
       "stream": "stdout",
       "text": [
        "\r",
        " [-----------------90%--------------    ] 36078 of 40000 complete in 7.0 sec"
       ]
      },
      {
       "output_type": "stream",
       "stream": "stdout",
       "text": [
        "\r",
        " [-----------------96%----------------  ] 38522 of 40000 complete in 7.5 sec"
       ]
      },
      {
       "output_type": "stream",
       "stream": "stdout",
       "text": [
        "\r",
        " [-----------------100%-----------------] 40000 of 40000 complete in 7.8 sec"
       ]
      }
     ],
     "prompt_number": 164
    },
    {
     "cell_type": "code",
     "collapsed": false,
     "input": [
      "plt.hist(mcmc.trace('theta_a')[:], bins=20);"
     ],
     "language": "python",
     "metadata": {},
     "outputs": [
      {
       "metadata": {},
       "output_type": "display_data",
       "png": "[encoded data removed]",
       "text": [
        "<matplotlib.figure.Figure at 0x60e4350>"
       ]
      }
     ],
     "prompt_number": 165
    },
    {
     "cell_type": "code",
     "collapsed": false,
     "input": [
      "plt.hist(mcmc.trace('theta_b')[:], bins=20);"
     ],
     "language": "python",
     "metadata": {},
     "outputs": [
      {
       "metadata": {},
       "output_type": "display_data",
       "png": "[encoded data removed]",
       "text": [
        "<matplotlib.figure.Figure at 0x64f3bd0>"
       ]
      }
     ],
     "prompt_number": 166
    },
    {
     "cell_type": "markdown",
     "metadata": {},
     "source": [
      "This was bound to happen! We had very uninformative priors. Even EM gave values of 0.66 to both theta_a and theta_b if we started them with the same value."
     ]
    },
    {
     "cell_type": "markdown",
     "metadata": {},
     "source": [
      "#### More informative priors"
     ]
    },
    {
     "cell_type": "code",
     "collapsed": false,
     "input": [
      "# Prior on coin A\n",
      "theta_a = pm.Beta('theta_a',4,2)\n",
      "\n",
      "# Prior on coin B\n",
      "theta_b = pm.Beta('theta_b',2,4)\n",
      "\n",
      "# Choosing either A or B (for 5 observations)\n",
      "coin_choice_array = pm.DiscreteUniform('coin_choice',0,1, size = 5)\n",
      "\n",
      "# Creating a theta (theta_a if A is tossed or theta_b if B is tossed)\n",
      "@pm.deterministic\n",
      "def theta(theta_a = theta_a, theta_b=theta_b, coin_choice_array=coin_choice_array):\n",
      "    #print coin_choice_array\n",
      "    out = np.zeros(n_observation_sets)\n",
      "    for i, coin_choice in enumerate(coin_choice_array):\n",
      "        if coin_choice:\n",
      "            out[i] = theta_a\n",
      "        else:\n",
      "            out[i] = theta_b                   \n",
      "    return out"
     ],
     "language": "python",
     "metadata": {},
     "outputs": [],
     "prompt_number": 167
    },
    {
     "cell_type": "code",
     "collapsed": false,
     "input": [
      "observation_model = pm.Binomial(\"obs\", n=10, p=theta, value = n_heads_array, observed=True)\n",
      "model = pm.Model([observation_model, theta_a, theta_b, coin_choice_array])"
     ],
     "language": "python",
     "metadata": {},
     "outputs": [],
     "prompt_number": 168
    },
    {
     "cell_type": "code",
     "collapsed": false,
     "input": [
      "mcmc = pm.MCMC(model)\n",
      "mcmc.sample(40000, 10000, 1)"
     ],
     "language": "python",
     "metadata": {},
     "outputs": [
      {
       "output_type": "stream",
       "stream": "stdout",
       "text": [
        "\r",
        " [--                7%                  ] 2935 of 40000 complete in 0.5 sec"
       ]
      },
      {
       "output_type": "stream",
       "stream": "stdout",
       "text": [
        "\r",
        " [-----            14%                  ] 5787 of 40000 complete in 1.0 sec"
       ]
      },
      {
       "output_type": "stream",
       "stream": "stdout",
       "text": [
        "\r",
        " [--------         21%                  ] 8680 of 40000 complete in 1.5 sec"
       ]
      },
      {
       "output_type": "stream",
       "stream": "stdout",
       "text": [
        "\r",
        " [----------       28%                  ] 11319 of 40000 complete in 2.0 sec"
       ]
      },
      {
       "output_type": "stream",
       "stream": "stdout",
       "text": [
        "\r",
        " [-------------    34%                  ] 13748 of 40000 complete in 2.5 sec"
       ]
      },
      {
       "output_type": "stream",
       "stream": "stdout",
       "text": [
        "\r",
        " [---------------  39%                  ] 15900 of 40000 complete in 3.0 sec"
       ]
      },
      {
       "output_type": "stream",
       "stream": "stdout",
       "text": [
        "\r",
        " [-----------------45%                  ] 18334 of 40000 complete in 3.5 sec"
       ]
      },
      {
       "output_type": "stream",
       "stream": "stdout",
       "text": [
        "\r",
        " [-----------------51%                  ] 20757 of 40000 complete in 4.0 sec"
       ]
      },
      {
       "output_type": "stream",
       "stream": "stdout",
       "text": [
        "\r",
        " [-----------------57%--                ] 23177 of 40000 complete in 4.5 sec"
       ]
      },
      {
       "output_type": "stream",
       "stream": "stdout",
       "text": [
        "\r",
        " [-----------------64%----              ] 25606 of 40000 complete in 5.0 sec"
       ]
      },
      {
       "output_type": "stream",
       "stream": "stdout",
       "text": [
        "\r",
        " [-----------------70%------            ] 28002 of 40000 complete in 5.5 sec"
       ]
      },
      {
       "output_type": "stream",
       "stream": "stdout",
       "text": [
        "\r",
        " [-----------------76%--------          ] 30407 of 40000 complete in 6.0 sec"
       ]
      },
      {
       "output_type": "stream",
       "stream": "stdout",
       "text": [
        "\r",
        " [-----------------82%-----------       ] 32824 of 40000 complete in 6.5 sec"
       ]
      },
      {
       "output_type": "stream",
       "stream": "stdout",
       "text": [
        "\r",
        " [-----------------88%-------------     ] 35288 of 40000 complete in 7.0 sec"
       ]
      },
      {
       "output_type": "stream",
       "stream": "stdout",
       "text": [
        "\r",
        " [-----------------94%---------------   ] 37699 of 40000 complete in 7.5 sec"
       ]
      },
      {
       "output_type": "stream",
       "stream": "stdout",
       "text": [
        "\r",
        " [-----------------100%-----------------] 40000 of 40000 complete in 8.0 sec"
       ]
      }
     ],
     "prompt_number": 169
    },
    {
     "cell_type": "code",
     "collapsed": false,
     "input": [
      "plt.hist(mcmc.trace('theta_a')[:], bins=20);"
     ],
     "language": "python",
     "metadata": {},
     "outputs": [
      {
       "metadata": {},
       "output_type": "display_data",
       "png": "[encoded data removed]",
       "text": [
        "<matplotlib.figure.Figure at 0x6518710>"
       ]
      }
     ],
     "prompt_number": 170
    },
    {
     "cell_type": "code",
     "collapsed": false,
     "input": [
      "plt.hist(mcmc.trace('theta_b')[:], bins=20);"
     ],
     "language": "python",
     "metadata": {},
     "outputs": [
      {
       "metadata": {},
       "output_type": "display_data",
       "png": "[encoded data removed]",
       "text": [
        "<matplotlib.figure.Figure at 0x6526d90>"
       ]
      }
     ],
     "prompt_number": 171
    },
    {
     "cell_type": "markdown",
     "metadata": {},
     "source": [
      "Nice! peaks around the same point as EM!"
     ]
    }
   ],
   "metadata": {}
  }
 ]
}