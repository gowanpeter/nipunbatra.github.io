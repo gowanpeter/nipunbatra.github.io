{
 "metadata": {
  "name": "",
  "signature": "sha256:2b79b9751c3269a3bde90608d2afa4745f55045ecac5ef1c69e430d3637c4927"
 },
 "nbformat": 3,
 "nbformat_minor": 0,
 "worksheets": [
  {
   "cells": [
    {
     "cell_type": "code",
     "collapsed": false,
     "input": [
      "import pymc as pm\n",
      "import numpy as np\n",
      "import matplotlib.pyplot as plt\n",
      "import scipy.stats as stats\n",
      "import seaborn as sns\n",
      "import random\n",
      "%matplotlib inline"
     ],
     "language": "python",
     "metadata": {},
     "outputs": [],
     "prompt_number": 1
    },
    {
     "cell_type": "markdown",
     "metadata": {},
     "source": [
      "![](http://upload.wikimedia.org/wikipedia/commons/4/43/HMMGraph.svg)"
     ]
    },
    {
     "cell_type": "markdown",
     "metadata": {},
     "source": [
      "Model picked up from HMM page on Wikipedia. Let us put our priors somewhat related to these numbers."
     ]
    },
    {
     "cell_type": "markdown",
     "metadata": {},
     "source": [
      "### Priors"
     ]
    },
    {
     "cell_type": "markdown",
     "metadata": {},
     "source": [
      "#### Start state"
     ]
    },
    {
     "cell_type": "markdown",
     "metadata": {},
     "source": [
      "//Let us assume that we observed 10 Sunny days and 20 rainy day. So, we can model our prior on start state as:\n",
      "\n",
      "$\\theta_{start\\_state}\\sim \\beta(20,10)$"
     ]
    },
    {
     "cell_type": "markdown",
     "metadata": {},
     "source": [
      "#### Transition"
     ]
    },
    {
     "cell_type": "markdown",
     "metadata": {},
     "source": [
      "Rainy->Rainy with high probability and sunny to sunny with high probability"
     ]
    },
    {
     "cell_type": "markdown",
     "metadata": {},
     "source": [
      "$\\theta_{transition\\_rainy}\\sim \\beta(8,2)$\n",
      "\n",
      "$\\theta_{transition\\_sunny}\\sim \\beta(5,15)$"
     ]
    },
    {
     "cell_type": "markdown",
     "metadata": {},
     "source": [
      "#### Emission"
     ]
    },
    {
     "cell_type": "markdown",
     "metadata": {},
     "source": [
      "$\\theta_{emission\\_rainy}\\sim D(3,4,3)$\n",
      "\n",
      "$\\theta_{emission\\_sunny}\\sim D(10,6,4)$"
     ]
    },
    {
     "cell_type": "markdown",
     "metadata": {},
     "source": [
      "#### Creating a training set"
     ]
    },
    {
     "cell_type": "code",
     "collapsed": false,
     "input": [
      "## Some not so informative priors!\n",
      "# Prior on start state\n",
      "theta_start_state = pm.Beta('theta_start_state',12,8)\n",
      "\n",
      "# Prior on transition from rainy\n",
      "theta_transition_rainy = pm.Beta('transition_rainy',8,2)\n",
      "\n",
      "# Prior on transition from sunny\n",
      "theta_transition_sunny = pm.Beta('transition_sunny',2,8)\n",
      "\n",
      "# Prior on emission from rainy\n",
      "theta_emission_rainy = pm.Dirichlet('emission_rainy',[3,4,3])\n",
      "\n",
      "# Prior on emission from sunny\n",
      "theta_emission_sunny = pm.Dirichlet('emission_sunny',[10,6,4])"
     ],
     "language": "python",
     "metadata": {},
     "outputs": [],
     "prompt_number": 2
    },
    {
     "cell_type": "code",
     "collapsed": false,
     "input": [
      "# Start state\n",
      "print theta_start_state.value\n",
      "x_train_0 = pm.Categorical('x_train_0',[theta_start_state, 1-theta_start_state])\n",
      "print x_train_0.value\n",
      "print x_train_0.logp"
     ],
     "language": "python",
     "metadata": {},
     "outputs": [
      {
       "output_type": "stream",
       "stream": "stdout",
       "text": [
        "0.520536561471\n",
        "0\n",
        "-0.652895150414\n"
       ]
      }
     ],
     "prompt_number": 3
    },
    {
     "cell_type": "code",
     "collapsed": false,
     "input": [
      "N = 100\n",
      "\n",
      "# Create a train set for hidden states\n",
      "x_train = np.empty(N, dtype=object)\n",
      "\n",
      "# Creating a train set of observations\n",
      "y_train = np.empty(N, dtype=object)\n",
      "\n",
      "x_train[0] = x_train_0\n",
      "\"\"\"\n",
      "p = []\n",
      "for i in xrange(1, N):\n",
      "    # This will return the first variable if prev=0, and the second otherwise\n",
      "    p.append(pm.Lambda('p_%i' % i, lambda prev=x_train[i-1]: (theta_transition_rainy, theta_transition_sunny)[bool(prev)]))\n",
      "    \n",
      "    x_train[i] = pm.Categorical('x_train_%i' % i, p[-1])\n",
      "    \n",
      "\"\"\"\n",
      "\n",
      "for i in xrange(1, N):\n",
      "    if x_train[i-1].value==0:\n",
      "        x_train[i] = pm.Categorical('x_train_%d'%i,[theta_transition_rainy, 1- theta_transition_rainy])\n",
      "    else:\n",
      "        x_train[i] = pm.Categorical('x_train_%d'%i,[theta_transition_sunny, 1- theta_transition_sunny])\n",
      "        \n",
      "\n",
      "for i in xrange(0,N):\n",
      "    if x_train[i].value == 0:\n",
      "        # Rain\n",
      "        y_train[i] = pm.Categorical('y_train_%d' %i, theta_emission_rainy)\n",
      "    else:\n",
      "        y_train[i] = pm.Categorical('y_train_%d' %i, theta_emission_sunny)\n"
     ],
     "language": "python",
     "metadata": {},
     "outputs": [],
     "prompt_number": 4
    },
    {
     "cell_type": "code",
     "collapsed": false,
     "input": [
      "x_seq = [z.value for z in x_train]\n",
      "y_seq = [z.value for z in y_train]"
     ],
     "language": "python",
     "metadata": {},
     "outputs": [],
     "prompt_number": 5
    },
    {
     "cell_type": "code",
     "collapsed": false,
     "input": [
      "plt.subplot(2,1,1)\n",
      "plt.plot(x_seq,'o-')\n",
      "plt.yticks([0,1],['rainy','sunny'])\n",
      "plt.ylim((-0.1,1.1))\n",
      "\n",
      "plt.title('Hidden states')\n",
      "plt.subplot(2,1,2)\n",
      "plt.plot(y_seq,'go-')\n",
      "plt.title('Observed')\n",
      "plt.yticks([0,1,2],['walk','shop','clean'])\n",
      "plt.ylim((-0.1,2.1))\n",
      "plt.tight_layout()\n"
     ],
     "language": "python",
     "metadata": {},
     "outputs": [
      {
       "metadata": {},
       "output_type": "display_data",
       "png": "[encoded data removed]",
       "text": [
        "<matplotlib.figure.Figure at 0x5296510>"
       ]
      }
     ],
     "prompt_number": 6
    },
    {
     "cell_type": "markdown",
     "metadata": {},
     "source": [
      "#### Learning params based on training data"
     ]
    },
    {
     "cell_type": "code",
     "collapsed": false,
     "input": [
      "pm.categorical_like(1,1)"
     ],
     "language": "python",
     "metadata": {},
     "outputs": [
      {
       "metadata": {},
       "output_type": "pyout",
       "prompt_number": 69,
       "text": [
        "-1.7976931348623157e+308"
       ]
      }
     ],
     "prompt_number": 69
    },
    {
     "cell_type": "code",
     "collapsed": false,
     "input": [
      "@pm.stochastic(observed=True)\n",
      "def y(value=y_train, hidden_states = x_train):\n",
      "    def logp(value, hidden_states):\n",
      "        try:\n",
      "            logprob = 0 \n",
      "            for i in xrange(0,len(hidden_states)):\n",
      "                if hidden_states[i] == 0:\n",
      "                    # Rain\n",
      "                    logprob = logprob + pm.categorical_like(value[i], theta_emission_rainy)\n",
      "                else:\n",
      "                    # Sunny\n",
      "                    logprob = logprob + pm.categorical_like(value[i], theta_emission_sunny)\n",
      "        except:\n",
      "            pass\n",
      "        return logprob  "
     ],
     "language": "python",
     "metadata": {},
     "outputs": [
      {
       "output_type": "stream",
       "stream": "stdout",
       "text": [
        "Probabilities in categorical_like sum to [<pymc.distributions.Dirichlet 'emission_rainy' at 0x5280a10>]\n",
        "Probabilities in categorical_like sum to [<pymc.distributions.Dirichlet 'emission_rainy' at 0x5280a10>]\n",
        "Probabilities in categorical_like sum to [<pymc.distributions.Dirichlet 'emission_sunny' at 0x5280950>]\n",
        "Probabilities in categorical_like sum to [<pymc.distributions.Dirichlet 'emission_rainy' at 0x5280a10>]\n",
        "Probabilities in categorical_like sum to [<pymc.distributions.Dirichlet 'emission_sunny' at 0x5280950>]\n",
        "Probabilities in categorical_like sum to [<pymc.distributions.Dirichlet 'emission_sunny' at 0x5280950>]\n",
        "Probabilities in categorical_like sum to [<pymc.distributions.Dirichlet 'emission_rainy' at 0x5280a10>]\n",
        "Probabilities in categorical_like sum to [<pymc.distributions.Dirichlet 'emission_rainy' at 0x5280a10>]\n",
        "Probabilities in categorical_like sum to [<pymc.distributions.Dirichlet 'emission_rainy' at 0x5280a10>]\n",
        "Probabilities in categorical_like sum to [<pymc.distributions.Dirichlet 'emission_rainy' at 0x5280a10>]\n",
        "Probabilities in categorical_like sum to [<pymc.distributions.Dirichlet 'emission_sunny' at 0x5280950>]\n",
        "Probabilities in categorical_like sum to [<pymc.distributions.Dirichlet 'emission_rainy' at 0x5280a10>]\n",
        "Probabilities in categorical_like sum to [<pymc.distributions.Dirichlet 'emission_rainy' at 0x5280a10>]\n",
        "Probabilities in categorical_like sum to [<pymc.distributions.Dirichlet 'emission_rainy' at 0x5280a10>]\n",
        "Probabilities in categorical_like sum to [<pymc.distributions.Dirichlet 'emission_sunny' at 0x5280950>]\n",
        "Probabilities in categorical_like sum to [<pymc.distributions.Dirichlet 'emission_sunny' at 0x5280950>]\n",
        "Probabilities in categorical_like sum to [<pymc.distributions.Dirichlet 'emission_sunny' at 0x5280950>]\n",
        "Probabilities in categorical_like sum to [<pymc.distributions.Dirichlet 'emission_sunny' at 0x5280950>]\n",
        "Probabilities in categorical_like sum to [<pymc.distributions.Dirichlet 'emission_rainy' at 0x5280a10>]\n",
        "Probabilities in categorical_like sum to [<pymc.distributions.Dirichlet 'emission_rainy' at 0x5280a10>]\n",
        "Probabilities in categorical_like sum to [<pymc.distributions.Dirichlet 'emission_rainy' at 0x5280a10>]\n",
        "Probabilities in categorical_like sum to [<pymc.distributions.Dirichlet 'emission_sunny' at 0x5280950>]\n",
        "Probabilities in categorical_like sum to [<pymc.distributions.Dirichlet 'emission_sunny' at 0x5280950>]\n",
        "Probabilities in categorical_like sum to [<pymc.distributions.Dirichlet 'emission_rainy' at 0x5280a10>]\n",
        "Probabilities in categorical_like sum to [<pymc.distributions.Dirichlet 'emission_sunny' at 0x5280950>]\n",
        "Probabilities in categorical_like sum to [<pymc.distributions.Dirichlet 'emission_sunny' at 0x5280950>]\n",
        "Probabilities in categorical_like sum to [<pymc.distributions.Dirichlet 'emission_sunny' at 0x5280950>]\n",
        "Probabilities in categorical_like sum to [<pymc.distributions.Dirichlet 'emission_sunny' at 0x5280950>]\n",
        "Probabilities in categorical_like sum to [<pymc.distributions.Dirichlet 'emission_sunny' at 0x5280950>]\n",
        "Probabilities in categorical_like sum to [<pymc.distributions.Dirichlet 'emission_sunny' at 0x5280950>]\n",
        "Probabilities in categorical_like sum to [<pymc.distributions.Dirichlet 'emission_sunny' at 0x5280950>]\n",
        "Probabilities in categorical_like sum to [<pymc.distributions.Dirichlet 'emission_sunny' at 0x5280950>]\n",
        "Probabilities in categorical_like sum to [<pymc.distributions.Dirichlet 'emission_sunny' at 0x5280950>]\n",
        "Probabilities in categorical_like sum to [<pymc.distributions.Dirichlet 'emission_sunny' at 0x5280950>]\n",
        "Probabilities in categorical_like sum to [<pymc.distributions.Dirichlet 'emission_sunny' at 0x5280950>]\n",
        "Probabilities in categorical_like sum to [<pymc.distributions.Dirichlet 'emission_rainy' at 0x5280a10>]\n",
        "Probabilities in categorical_like sum to [<pymc.distributions.Dirichlet 'emission_rainy' at 0x5280a10>]\n",
        "Probabilities in categorical_like sum to [<pymc.distributions.Dirichlet 'emission_sunny' at 0x5280950>]\n",
        "Probabilities in categorical_like sum to [<pymc.distributions.Dirichlet 'emission_sunny' at 0x5280950>]\n",
        "Probabilities in categorical_like sum to [<pymc.distributions.Dirichlet 'emission_rainy' at 0x5280a10>]\n",
        "Probabilities in categorical_like sum to [<pymc.distributions.Dirichlet 'emission_rainy' at 0x5280a10>]\n",
        "Probabilities in categorical_like sum to [<pymc.distributions.Dirichlet 'emission_sunny' at 0x5280950>]\n",
        "Probabilities in categorical_like sum to [<pymc.distributions.Dirichlet 'emission_rainy' at 0x5280a10>]\n",
        "Probabilities in categorical_like sum to [<pymc.distributions.Dirichlet 'emission_rainy' at 0x5280a10>]\n",
        "Probabilities in categorical_like sum to [<pymc.distributions.Dirichlet 'emission_rainy' at 0x5280a10>]\n",
        "Probabilities in categorical_like sum to [<pymc.distributions.Dirichlet 'emission_rainy' at 0x5280a10>]\n",
        "Probabilities in categorical_like sum to [<pymc.distributions.Dirichlet 'emission_rainy' at 0x5280a10>]\n",
        "Probabilities in categorical_like sum to [<pymc.distributions.Dirichlet 'emission_rainy' at 0x5280a10>]\n",
        "Probabilities in categorical_like sum to [<pymc.distributions.Dirichlet 'emission_rainy' at 0x5280a10>]\n",
        "Probabilities in categorical_like sum to [<pymc.distributions.Dirichlet 'emission_rainy' at 0x5280a10>]\n",
        "Probabilities in categorical_like sum to [<pymc.distributions.Dirichlet 'emission_rainy' at 0x5280a10>]\n",
        "Probabilities in categorical_like sum to [<pymc.distributions.Dirichlet 'emission_rainy' at 0x5280a10>]\n",
        "Probabilities in categorical_like sum to [<pymc.distributions.Dirichlet 'emission_sunny' at 0x5280950>]\n",
        "Probabilities in categorical_like sum to [<pymc.distributions.Dirichlet 'emission_sunny' at 0x5280950>]\n",
        "Probabilities in categorical_like sum to [<pymc.distributions.Dirichlet 'emission_sunny' at 0x5280950>]\n",
        "Probabilities in categorical_like sum to [<pymc.distributions.Dirichlet 'emission_rainy' at 0x5280a10>]\n",
        "Probabilities in categorical_like sum to [<pymc.distributions.Dirichlet 'emission_rainy' at 0x5280a10>]\n",
        "Probabilities in categorical_like sum to [<pymc.distributions.Dirichlet 'emission_rainy' at 0x5280a10>]\n",
        "Probabilities in categorical_like sum to [<pymc.distributions.Dirichlet 'emission_rainy' at 0x5280a10>]\n",
        "Probabilities in categorical_like sum to [<pymc.distributions.Dirichlet 'emission_sunny' at 0x5280950>]\n",
        "Probabilities in categorical_like sum to [<pymc.distributions.Dirichlet 'emission_sunny' at 0x5280950>]\n",
        "Probabilities in categorical_like sum to [<pymc.distributions.Dirichlet 'emission_sunny' at 0x5280950>]\n",
        "Probabilities in categorical_like sum to [<pymc.distributions.Dirichlet 'emission_rainy' at 0x5280a10>]\n",
        "Probabilities in categorical_like sum to [<pymc.distributions.Dirichlet 'emission_rainy' at 0x5280a10>]\n",
        "Probabilities in categorical_like sum to [<pymc.distributions.Dirichlet 'emission_rainy' at 0x5280a10>]\n",
        "Probabilities in categorical_like sum to [<pymc.distributions.Dirichlet 'emission_rainy' at 0x5280a10>]\n",
        "Probabilities in categorical_like sum to [<pymc.distributions.Dirichlet 'emission_rainy' at 0x5280a10>]\n",
        "Probabilities in categorical_like sum to [<pymc.distributions.Dirichlet 'emission_rainy' at 0x5280a10>]\n",
        "Probabilities in categorical_like sum to [<pymc.distributions.Dirichlet 'emission_rainy' at 0x5280a10>]\n",
        "Probabilities in categorical_like sum to [<pymc.distributions.Dirichlet 'emission_rainy' at 0x5280a10>]\n",
        "Probabilities in categorical_like sum to [<pymc.distributions.Dirichlet 'emission_sunny' at 0x5280950>]\n",
        "Probabilities in categorical_like sum to [<pymc.distributions.Dirichlet 'emission_sunny' at 0x5280950>]\n",
        "Probabilities in categorical_like sum to [<pymc.distributions.Dirichlet 'emission_sunny' at 0x5280950>]\n",
        "Probabilities in categorical_like sum to [<pymc.distributions.Dirichlet 'emission_sunny' at 0x5280950>]\n",
        "Probabilities in categorical_like sum to [<pymc.distributions.Dirichlet 'emission_sunny' at 0x5280950>]\n",
        "Probabilities in categorical_like sum to [<pymc.distributions.Dirichlet 'emission_rainy' at 0x5280a10>]\n",
        "Probabilities in categorical_like sum to [<pymc.distributions.Dirichlet 'emission_rainy' at 0x5280a10>]\n",
        "Probabilities in categorical_like sum to [<pymc.distributions.Dirichlet 'emission_sunny' at 0x5280950>]\n",
        "Probabilities in categorical_like sum to [<pymc.distributions.Dirichlet 'emission_sunny' at 0x5280950>]\n",
        "Probabilities in categorical_like sum to"
       ]
      },
      {
       "output_type": "stream",
       "stream": "stdout",
       "text": [
        " [<pymc.distributions.Dirichlet 'emission_rainy' at 0x5280a10>]\n",
        "Probabilities in categorical_like sum to [<pymc.distributions.Dirichlet 'emission_rainy' at 0x5280a10>]\n",
        "Probabilities in categorical_like sum to [<pymc.distributions.Dirichlet 'emission_sunny' at 0x5280950>]\n",
        "Probabilities in categorical_like sum to [<pymc.distributions.Dirichlet 'emission_sunny' at 0x5280950>]\n",
        "Probabilities in categorical_like sum to [<pymc.distributions.Dirichlet 'emission_sunny' at 0x5280950>]\n",
        "Probabilities in categorical_like sum to [<pymc.distributions.Dirichlet 'emission_rainy' at 0x5280a10>]\n",
        "Probabilities in categorical_like sum to [<pymc.distributions.Dirichlet 'emission_rainy' at 0x5280a10>]\n",
        "Probabilities in categorical_like sum to [<pymc.distributions.Dirichlet 'emission_rainy' at 0x5280a10>]\n",
        "Probabilities in categorical_like sum to [<pymc.distributions.Dirichlet 'emission_rainy' at 0x5280a10>]\n",
        "Probabilities in categorical_like sum to [<pymc.distributions.Dirichlet 'emission_rainy' at 0x5280a10>]\n",
        "Probabilities in categorical_like sum to [<pymc.distributions.Dirichlet 'emission_rainy' at 0x5280a10>]\n",
        "Probabilities in categorical_like sum to [<pymc.distributions.Dirichlet 'emission_rainy' at 0x5280a10>]\n",
        "Probabilities in categorical_like sum to [<pymc.distributions.Dirichlet 'emission_rainy' at 0x5280a10>]\n",
        "Probabilities in categorical_like sum to [<pymc.distributions.Dirichlet 'emission_sunny' at 0x5280950>]\n",
        "Probabilities in categorical_like sum to [<pymc.distributions.Dirichlet 'emission_sunny' at 0x5280950>]\n",
        "Probabilities in categorical_like sum to [<pymc.distributions.Dirichlet 'emission_rainy' at 0x5280a10>]\n",
        "Probabilities in categorical_like sum to [<pymc.distributions.Dirichlet 'emission_rainy' at 0x5280a10>]\n",
        "Probabilities in categorical_like sum to [<pymc.distributions.Dirichlet 'emission_rainy' at 0x5280a10>]\n",
        "Probabilities in categorical_like sum to [<pymc.distributions.Dirichlet 'emission_sunny' at 0x5280950>]\n",
        "Probabilities in categorical_like sum to [<pymc.distributions.Dirichlet 'emission_rainy' at 0x5280a10>]\n",
        "Probabilities in categorical_like sum to [<pymc.distributions.Dirichlet 'emission_rainy' at 0x5280a10>]\n"
       ]
      },
      {
       "ename": "ZeroProbability",
       "evalue": "Stochastic y's value is outside its support,\n or it forbids its parents' current values.",
       "output_type": "pyerr",
       "traceback": [
        "\u001b[1;31m---------------------------------------------------------------------------\u001b[0m\n\u001b[1;31mZeroProbability\u001b[0m                           Traceback (most recent call last)",
        "\u001b[1;32m<ipython-input-8-680781ce763e>\u001b[0m in \u001b[0;36m<module>\u001b[1;34m()\u001b[0m\n\u001b[0;32m      1\u001b[0m \u001b[1;33m@\u001b[0m\u001b[0mpm\u001b[0m\u001b[1;33m.\u001b[0m\u001b[0mstochastic\u001b[0m\u001b[1;33m(\u001b[0m\u001b[0mobserved\u001b[0m\u001b[1;33m=\u001b[0m\u001b[0mTrue\u001b[0m\u001b[1;33m)\u001b[0m\u001b[1;33m\u001b[0m\u001b[0m\n\u001b[1;32m----> 2\u001b[1;33m \u001b[1;32mdef\u001b[0m \u001b[0my\u001b[0m\u001b[1;33m(\u001b[0m\u001b[0mvalue\u001b[0m\u001b[1;33m=\u001b[0m\u001b[0my_train\u001b[0m\u001b[1;33m,\u001b[0m \u001b[0mhidden_states\u001b[0m \u001b[1;33m=\u001b[0m \u001b[0mx_train\u001b[0m\u001b[1;33m)\u001b[0m\u001b[1;33m:\u001b[0m\u001b[1;33m\u001b[0m\u001b[0m\n\u001b[0m\u001b[0;32m      3\u001b[0m     \u001b[1;32mdef\u001b[0m \u001b[0mlogp\u001b[0m\u001b[1;33m(\u001b[0m\u001b[0mvalue\u001b[0m\u001b[1;33m,\u001b[0m \u001b[0mhidden_states\u001b[0m\u001b[1;33m)\u001b[0m\u001b[1;33m:\u001b[0m\u001b[1;33m\u001b[0m\u001b[0m\n\u001b[0;32m      4\u001b[0m         \u001b[1;32mtry\u001b[0m\u001b[1;33m:\u001b[0m\u001b[1;33m\u001b[0m\u001b[0m\n\u001b[0;32m      5\u001b[0m             \u001b[0mlogprob\u001b[0m \u001b[1;33m=\u001b[0m \u001b[1;36m0\u001b[0m\u001b[1;33m\u001b[0m\u001b[0m\n",
        "\u001b[1;32m/home/nipun/miniconda/lib/python2.7/site-packages/pymc/InstantiationDecorators.pyc\u001b[0m in \u001b[0;36minstantiate_p\u001b[1;34m(__func__)\u001b[0m\n\u001b[0;32m    174\u001b[0m     \u001b[1;32mdef\u001b[0m \u001b[0minstantiate_p\u001b[0m\u001b[1;33m(\u001b[0m\u001b[0m__func__\u001b[0m\u001b[1;33m)\u001b[0m\u001b[1;33m:\u001b[0m\u001b[1;33m\u001b[0m\u001b[0m\n\u001b[0;32m    175\u001b[0m         \u001b[0mvalue\u001b[0m\u001b[1;33m,\u001b[0m \u001b[0mparents\u001b[0m \u001b[1;33m=\u001b[0m \u001b[0m_extract\u001b[0m\u001b[1;33m(\u001b[0m\u001b[0m__func__\u001b[0m\u001b[1;33m,\u001b[0m \u001b[0mkwds\u001b[0m\u001b[1;33m,\u001b[0m \u001b[0mkeys\u001b[0m\u001b[1;33m,\u001b[0m \u001b[1;34m'Stochastic'\u001b[0m\u001b[1;33m)\u001b[0m\u001b[1;33m\u001b[0m\u001b[0m\n\u001b[1;32m--> 176\u001b[1;33m         \u001b[1;32mreturn\u001b[0m \u001b[0m__class__\u001b[0m\u001b[1;33m(\u001b[0m\u001b[0mvalue\u001b[0m\u001b[1;33m=\u001b[0m\u001b[0mvalue\u001b[0m\u001b[1;33m,\u001b[0m \u001b[0mparents\u001b[0m\u001b[1;33m=\u001b[0m\u001b[0mparents\u001b[0m\u001b[1;33m,\u001b[0m \u001b[1;33m**\u001b[0m\u001b[0mkwds\u001b[0m\u001b[1;33m)\u001b[0m\u001b[1;33m\u001b[0m\u001b[0m\n\u001b[0m\u001b[0;32m    177\u001b[0m \u001b[1;33m\u001b[0m\u001b[0m\n\u001b[0;32m    178\u001b[0m     \u001b[0mkeys\u001b[0m \u001b[1;33m=\u001b[0m \u001b[1;33m[\u001b[0m\u001b[1;34m'logp'\u001b[0m\u001b[1;33m,\u001b[0m \u001b[1;34m'random'\u001b[0m\u001b[1;33m,\u001b[0m \u001b[1;34m'rseed'\u001b[0m\u001b[1;33m]\u001b[0m\u001b[1;33m\u001b[0m\u001b[0m\n",
        "\u001b[1;32m/home/nipun/miniconda/lib/python2.7/site-packages/pymc/PyMCObjects.pyc\u001b[0m in \u001b[0;36m__init__\u001b[1;34m(self, logp, doc, name, parents, random, trace, value, dtype, rseed, observed, cache_depth, plot, verbose, isdata, check_logp, logp_partial_gradients)\u001b[0m\n\u001b[0;32m    757\u001b[0m         \u001b[1;32mif\u001b[0m \u001b[0mcheck_logp\u001b[0m\u001b[1;33m:\u001b[0m\u001b[1;33m\u001b[0m\u001b[0m\n\u001b[0;32m    758\u001b[0m             \u001b[1;31m# Check initial value\u001b[0m\u001b[1;33m\u001b[0m\u001b[1;33m\u001b[0m\u001b[0m\n\u001b[1;32m--> 759\u001b[1;33m             \u001b[1;32mif\u001b[0m \u001b[1;32mnot\u001b[0m \u001b[0misinstance\u001b[0m\u001b[1;33m(\u001b[0m\u001b[0mself\u001b[0m\u001b[1;33m.\u001b[0m\u001b[0mlogp\u001b[0m\u001b[1;33m,\u001b[0m \u001b[0mfloat\u001b[0m\u001b[1;33m)\u001b[0m\u001b[1;33m:\u001b[0m\u001b[1;33m\u001b[0m\u001b[0m\n\u001b[0m\u001b[0;32m    760\u001b[0m                 raise ValueError(\n\u001b[0;32m    761\u001b[0m                     \u001b[1;34m\"Stochastic \"\u001b[0m \u001b[1;33m+\u001b[0m\u001b[1;33m\u001b[0m\u001b[0m\n",
        "\u001b[1;32m/home/nipun/miniconda/lib/python2.7/site-packages/pymc/PyMCObjects.pyc\u001b[0m in \u001b[0;36mget_logp\u001b[1;34m(self)\u001b[0m\n\u001b[0;32m    914\u001b[0m                     (self._value, self._parents.value))\n\u001b[0;32m    915\u001b[0m             \u001b[1;32melse\u001b[0m\u001b[1;33m:\u001b[0m\u001b[1;33m\u001b[0m\u001b[0m\n\u001b[1;32m--> 916\u001b[1;33m                 \u001b[1;32mraise\u001b[0m \u001b[0mZeroProbability\u001b[0m\u001b[1;33m(\u001b[0m\u001b[0mself\u001b[0m\u001b[1;33m.\u001b[0m\u001b[0merrmsg\u001b[0m\u001b[1;33m)\u001b[0m\u001b[1;33m\u001b[0m\u001b[0m\n\u001b[0m\u001b[0;32m    917\u001b[0m \u001b[1;33m\u001b[0m\u001b[0m\n\u001b[0;32m    918\u001b[0m         \u001b[1;32mreturn\u001b[0m \u001b[0mlogp\u001b[0m\u001b[1;33m\u001b[0m\u001b[0m\n",
        "\u001b[1;31mZeroProbability\u001b[0m: Stochastic y's value is outside its support,\n or it forbids its parents' current values."
       ]
      }
     ],
     "prompt_number": 8
    },
    {
     "cell_type": "code",
     "collapsed": false,
     "input": [],
     "language": "python",
     "metadata": {},
     "outputs": []
    },
    {
     "cell_type": "code",
     "collapsed": false,
     "input": [
      "def y(value=1, mu=x, tau=100):\n",
      "    return pm.normal_like(value, numpy.sum(mu**2), tau)"
     ],
     "language": "python",
     "metadata": {},
     "outputs": [
      {
       "ename": "NameError",
       "evalue": "name 'x' is not defined",
       "output_type": "pyerr",
       "traceback": [
        "\u001b[1;31m---------------------------------------------------------------------------\u001b[0m\n\u001b[1;31mNameError\u001b[0m                                 Traceback (most recent call last)",
        "\u001b[1;32m<ipython-input-36-7036e3b3d4a9>\u001b[0m in \u001b[0;36m<module>\u001b[1;34m()\u001b[0m\n\u001b[1;32m----> 1\u001b[1;33m \u001b[1;32mdef\u001b[0m \u001b[0my\u001b[0m\u001b[1;33m(\u001b[0m\u001b[0mvalue\u001b[0m\u001b[1;33m=\u001b[0m\u001b[1;36m1\u001b[0m\u001b[1;33m,\u001b[0m \u001b[0mmu\u001b[0m\u001b[1;33m=\u001b[0m\u001b[0mx\u001b[0m\u001b[1;33m,\u001b[0m \u001b[0mtau\u001b[0m\u001b[1;33m=\u001b[0m\u001b[1;36m100\u001b[0m\u001b[1;33m)\u001b[0m\u001b[1;33m:\u001b[0m\u001b[1;33m\u001b[0m\u001b[0m\n\u001b[0m\u001b[0;32m      2\u001b[0m     \u001b[1;32mreturn\u001b[0m \u001b[0mpm\u001b[0m\u001b[1;33m.\u001b[0m\u001b[0mnormal_like\u001b[0m\u001b[1;33m(\u001b[0m\u001b[0mvalue\u001b[0m\u001b[1;33m,\u001b[0m \u001b[0mnumpy\u001b[0m\u001b[1;33m.\u001b[0m\u001b[0msum\u001b[0m\u001b[1;33m(\u001b[0m\u001b[0mmu\u001b[0m\u001b[1;33m**\u001b[0m\u001b[1;36m2\u001b[0m\u001b[1;33m)\u001b[0m\u001b[1;33m,\u001b[0m \u001b[0mtau\u001b[0m\u001b[1;33m)\u001b[0m\u001b[1;33m\u001b[0m\u001b[0m\n",
        "\u001b[1;31mNameError\u001b[0m: name 'x' is not defined"
       ]
      }
     ],
     "prompt_number": 36
    },
    {
     "cell_type": "code",
     "collapsed": false,
     "input": [
      "N = 10\n",
      "x_0 = pm.Normal('x_0', mu=0, tau=1)\n",
      "\n",
      "x = np.empty(N, dtype=object)\n",
      "x[0] = x_0\n",
      "\n",
      "for i in range(1, N):\n",
      "\n",
      "    x[i] = pm.Normal('x_%i' % i, mu=x[i-1], tau=1)\n",
      "\n",
      "@pm.observed\n",
      "def y(value=1, mu=x, tau=100):\n",
      "    return pm.normal_like(value, np.sum(mu**2), tau)"
     ],
     "language": "python",
     "metadata": {},
     "outputs": [],
     "prompt_number": 38
    },
    {
     "cell_type": "code",
     "collapsed": false,
     "input": [
      "model = pm.Model([y, x])\n",
      "mcmc = pm.MCMC(model)\n",
      "mcmc.sample(40000, 10000, 1)"
     ],
     "language": "python",
     "metadata": {},
     "outputs": [
      {
       "ename": "TypeError",
       "evalue": "hasattr(): attribute name must be string",
       "output_type": "pyerr",
       "traceback": [
        "\u001b[1;31m---------------------------------------------------------------------------\u001b[0m\n\u001b[1;31mTypeError\u001b[0m                                 Traceback (most recent call last)",
        "\u001b[1;32m<ipython-input-50-66be800ac4e1>\u001b[0m in \u001b[0;36m<module>\u001b[1;34m()\u001b[0m\n\u001b[0;32m      1\u001b[0m \u001b[0mmodel\u001b[0m \u001b[1;33m=\u001b[0m \u001b[0mpm\u001b[0m\u001b[1;33m.\u001b[0m\u001b[0mModel\u001b[0m\u001b[1;33m(\u001b[0m\u001b[1;33m[\u001b[0m\u001b[0my\u001b[0m\u001b[1;33m,\u001b[0m \u001b[0mx\u001b[0m\u001b[1;33m]\u001b[0m\u001b[1;33m)\u001b[0m\u001b[1;33m\u001b[0m\u001b[0m\n\u001b[1;32m----> 2\u001b[1;33m \u001b[0mmcmc\u001b[0m \u001b[1;33m=\u001b[0m \u001b[0mpm\u001b[0m\u001b[1;33m.\u001b[0m\u001b[0mMCMC\u001b[0m\u001b[1;33m(\u001b[0m\u001b[0mmodel\u001b[0m\u001b[1;33m)\u001b[0m\u001b[1;33m\u001b[0m\u001b[0m\n\u001b[0m\u001b[0;32m      3\u001b[0m \u001b[0mmcmc\u001b[0m\u001b[1;33m.\u001b[0m\u001b[0msample\u001b[0m\u001b[1;33m(\u001b[0m\u001b[1;36m40000\u001b[0m\u001b[1;33m,\u001b[0m \u001b[1;36m10000\u001b[0m\u001b[1;33m,\u001b[0m \u001b[1;36m1\u001b[0m\u001b[1;33m)\u001b[0m\u001b[1;33m\u001b[0m\u001b[0m\n",
        "\u001b[1;32m/home/nipun/miniconda/lib/python2.7/site-packages/pymc/MCMC.pyc\u001b[0m in \u001b[0;36m__init__\u001b[1;34m(self, input, db, name, calc_deviance, **kwds)\u001b[0m\n\u001b[0;32m     79\u001b[0m             \u001b[0mname\u001b[0m\u001b[1;33m,\u001b[0m\u001b[1;33m\u001b[0m\u001b[0m\n\u001b[0;32m     80\u001b[0m             \u001b[0mcalc_deviance\u001b[0m\u001b[1;33m=\u001b[0m\u001b[0mcalc_deviance\u001b[0m\u001b[1;33m,\u001b[0m\u001b[1;33m\u001b[0m\u001b[0m\n\u001b[1;32m---> 81\u001b[1;33m             **kwds)\n\u001b[0m\u001b[0;32m     82\u001b[0m \u001b[1;33m\u001b[0m\u001b[0m\n\u001b[0;32m     83\u001b[0m         \u001b[0mself\u001b[0m\u001b[1;33m.\u001b[0m\u001b[0m_sm_assigned\u001b[0m \u001b[1;33m=\u001b[0m \u001b[0mFalse\u001b[0m\u001b[1;33m\u001b[0m\u001b[0m\n",
        "\u001b[1;32m/home/nipun/miniconda/lib/python2.7/site-packages/pymc/Model.pyc\u001b[0m in \u001b[0;36m__init__\u001b[1;34m(self, input, db, name, reinit_model, calc_deviance, verbose, **kwds)\u001b[0m\n\u001b[0;32m    193\u001b[0m         \u001b[1;31m# Initialize superclass\u001b[0m\u001b[1;33m\u001b[0m\u001b[1;33m\u001b[0m\u001b[0m\n\u001b[0;32m    194\u001b[0m         \u001b[1;32mif\u001b[0m \u001b[0mreinit_model\u001b[0m\u001b[1;33m:\u001b[0m\u001b[1;33m\u001b[0m\u001b[0m\n\u001b[1;32m--> 195\u001b[1;33m             \u001b[0mModel\u001b[0m\u001b[1;33m.\u001b[0m\u001b[0m__init__\u001b[0m\u001b[1;33m(\u001b[0m\u001b[0mself\u001b[0m\u001b[1;33m,\u001b[0m \u001b[0minput\u001b[0m\u001b[1;33m,\u001b[0m \u001b[0mname\u001b[0m\u001b[1;33m,\u001b[0m \u001b[0mverbose\u001b[0m\u001b[1;33m)\u001b[0m\u001b[1;33m\u001b[0m\u001b[0m\n\u001b[0m\u001b[0;32m    196\u001b[0m \u001b[1;33m\u001b[0m\u001b[0m\n\u001b[0;32m    197\u001b[0m         \u001b[1;31m# Initialize deviance, if asked\u001b[0m\u001b[1;33m\u001b[0m\u001b[1;33m\u001b[0m\u001b[0m\n",
        "\u001b[1;32m/home/nipun/miniconda/lib/python2.7/site-packages/pymc/Model.pyc\u001b[0m in \u001b[0;36m__init__\u001b[1;34m(self, input, name, verbose)\u001b[0m\n\u001b[0;32m     96\u001b[0m             \u001b[0minput\u001b[0m \u001b[1;33m=\u001b[0m \u001b[0m__main__\u001b[0m\u001b[1;33m\u001b[0m\u001b[0m\n\u001b[0;32m     97\u001b[0m \u001b[1;33m\u001b[0m\u001b[0m\n\u001b[1;32m---> 98\u001b[1;33m         \u001b[0mObjectContainer\u001b[0m\u001b[1;33m.\u001b[0m\u001b[0m__init__\u001b[0m\u001b[1;33m(\u001b[0m\u001b[0mself\u001b[0m\u001b[1;33m,\u001b[0m \u001b[0minput\u001b[0m\u001b[1;33m)\u001b[0m\u001b[1;33m\u001b[0m\u001b[0m\n\u001b[0m\u001b[0;32m     99\u001b[0m \u001b[1;33m\u001b[0m\u001b[0m\n\u001b[0;32m    100\u001b[0m         \u001b[1;32mif\u001b[0m \u001b[0mname\u001b[0m \u001b[1;32mis\u001b[0m \u001b[1;32mnot\u001b[0m \u001b[0mNone\u001b[0m\u001b[1;33m:\u001b[0m\u001b[1;33m\u001b[0m\u001b[0m\n",
        "\u001b[1;32m/home/nipun/miniconda/lib/python2.7/site-packages/pymc/Container.pyc\u001b[0m in \u001b[0;36m__init__\u001b[1;34m(self, input)\u001b[0m\n\u001b[0;32m    603\u001b[0m         \u001b[1;32melse\u001b[0m\u001b[1;33m:\u001b[0m  \u001b[1;31m# Modules, objects, etc.\u001b[0m\u001b[1;33m\u001b[0m\u001b[0m\n\u001b[0;32m    604\u001b[0m             \u001b[0minput_to_file\u001b[0m \u001b[1;33m=\u001b[0m \u001b[0minput\u001b[0m\u001b[1;33m.\u001b[0m\u001b[0m__dict__\u001b[0m\u001b[1;33m\u001b[0m\u001b[0m\n\u001b[1;32m--> 605\u001b[1;33m             \u001b[0mconservative_update\u001b[0m\u001b[1;33m(\u001b[0m\u001b[0mself\u001b[0m\u001b[1;33m,\u001b[0m \u001b[0minput_to_file\u001b[0m\u001b[1;33m)\u001b[0m\u001b[1;33m\u001b[0m\u001b[0m\n\u001b[0m\u001b[0;32m    606\u001b[0m             \u001b[1;31m# self.__dict__.update(input_to_file)\u001b[0m\u001b[1;33m\u001b[0m\u001b[1;33m\u001b[0m\u001b[0m\n\u001b[0;32m    607\u001b[0m \u001b[1;33m\u001b[0m\u001b[0m\n",
        "\u001b[1;32m/home/nipun/miniconda/lib/python2.7/site-packages/pymc/Container.pyc\u001b[0m in \u001b[0;36mconservative_update\u001b[1;34m(obj, dict)\u001b[0m\n\u001b[0;32m    546\u001b[0m \u001b[1;32mdef\u001b[0m \u001b[0mconservative_update\u001b[0m\u001b[1;33m(\u001b[0m\u001b[0mobj\u001b[0m\u001b[1;33m,\u001b[0m \u001b[0mdict\u001b[0m\u001b[1;33m)\u001b[0m\u001b[1;33m:\u001b[0m\u001b[1;33m\u001b[0m\u001b[0m\n\u001b[0;32m    547\u001b[0m     \u001b[1;32mfor\u001b[0m \u001b[0mk\u001b[0m \u001b[1;32min\u001b[0m \u001b[0mdict\u001b[0m\u001b[1;33m:\u001b[0m\u001b[1;33m\u001b[0m\u001b[0m\n\u001b[1;32m--> 548\u001b[1;33m         \u001b[1;32mif\u001b[0m \u001b[1;32mnot\u001b[0m \u001b[0mhasattr\u001b[0m\u001b[1;33m(\u001b[0m\u001b[0mobj\u001b[0m\u001b[1;33m,\u001b[0m \u001b[0mk\u001b[0m\u001b[1;33m)\u001b[0m\u001b[1;33m:\u001b[0m\u001b[1;33m\u001b[0m\u001b[0m\n\u001b[0m\u001b[0;32m    549\u001b[0m             \u001b[1;32mtry\u001b[0m\u001b[1;33m:\u001b[0m\u001b[1;33m\u001b[0m\u001b[0m\n\u001b[0;32m    550\u001b[0m                 \u001b[0msetattr\u001b[0m\u001b[1;33m(\u001b[0m\u001b[0mobj\u001b[0m\u001b[1;33m,\u001b[0m \u001b[0mk\u001b[0m\u001b[1;33m,\u001b[0m \u001b[0mdict\u001b[0m\u001b[1;33m[\u001b[0m\u001b[0mk\u001b[0m\u001b[1;33m]\u001b[0m\u001b[1;33m)\u001b[0m\u001b[1;33m\u001b[0m\u001b[0m\n",
        "\u001b[1;31mTypeError\u001b[0m: hasattr(): attribute name must be string"
       ]
      }
     ],
     "prompt_number": 50
    },
    {
     "cell_type": "code",
     "collapsed": false,
     "input": [],
     "language": "python",
     "metadata": {},
     "outputs": []
    }
   ],
   "metadata": {}
  }
 ]
}